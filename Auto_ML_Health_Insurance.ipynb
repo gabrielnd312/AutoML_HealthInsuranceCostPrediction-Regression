{
  "nbformat": 4,
  "nbformat_minor": 0,
  "metadata": {
    "colab": {
      "provenance": [],
      "authorship_tag": "ABX9TyPxq+IrP5gWv2MTkj7cXAw2",
      "include_colab_link": true
    },
    "kernelspec": {
      "name": "python3",
      "display_name": "Python 3"
    },
    "language_info": {
      "name": "python"
    },
    "widgets": {
      "application/vnd.jupyter.widget-state+json": {
        "ece55db8387544a098322cb1415ad305": {
          "model_module": "@jupyter-widgets/controls",
          "model_name": "HBoxModel",
          "model_module_version": "1.5.0",
          "state": {
            "_dom_classes": [],
            "_model_module": "@jupyter-widgets/controls",
            "_model_module_version": "1.5.0",
            "_model_name": "HBoxModel",
            "_view_count": null,
            "_view_module": "@jupyter-widgets/controls",
            "_view_module_version": "1.5.0",
            "_view_name": "HBoxView",
            "box_style": "",
            "children": [
              "IPY_MODEL_23a25a202dc043d1b6bff0a8e3221ed0",
              "IPY_MODEL_55d0b9f75670460087a033317bb6a344",
              "IPY_MODEL_689f9fcdbe60401da1d3e0b8ac1278b2"
            ],
            "layout": "IPY_MODEL_ad33d4cfac5844878e0302a0cb51f878"
          }
        },
        "23a25a202dc043d1b6bff0a8e3221ed0": {
          "model_module": "@jupyter-widgets/controls",
          "model_name": "HTMLModel",
          "model_module_version": "1.5.0",
          "state": {
            "_dom_classes": [],
            "_model_module": "@jupyter-widgets/controls",
            "_model_module_version": "1.5.0",
            "_model_name": "HTMLModel",
            "_view_count": null,
            "_view_module": "@jupyter-widgets/controls",
            "_view_module_version": "1.5.0",
            "_view_name": "HTMLView",
            "description": "",
            "description_tooltip": null,
            "layout": "IPY_MODEL_37723b2524cc4489b487d2ccb0e1fc13",
            "placeholder": "​",
            "style": "IPY_MODEL_05c00875bc384491a57cfd7608d60c49",
            "value": "Processing: 100%"
          }
        },
        "55d0b9f75670460087a033317bb6a344": {
          "model_module": "@jupyter-widgets/controls",
          "model_name": "FloatProgressModel",
          "model_module_version": "1.5.0",
          "state": {
            "_dom_classes": [],
            "_model_module": "@jupyter-widgets/controls",
            "_model_module_version": "1.5.0",
            "_model_name": "FloatProgressModel",
            "_view_count": null,
            "_view_module": "@jupyter-widgets/controls",
            "_view_module_version": "1.5.0",
            "_view_name": "ProgressView",
            "bar_style": "",
            "description": "",
            "description_tooltip": null,
            "layout": "IPY_MODEL_433adbcc76524731993011c00e5857b1",
            "max": 81,
            "min": 0,
            "orientation": "horizontal",
            "style": "IPY_MODEL_752abb6ba23a486285d98a34658fd5db",
            "value": 81
          }
        },
        "689f9fcdbe60401da1d3e0b8ac1278b2": {
          "model_module": "@jupyter-widgets/controls",
          "model_name": "HTMLModel",
          "model_module_version": "1.5.0",
          "state": {
            "_dom_classes": [],
            "_model_module": "@jupyter-widgets/controls",
            "_model_module_version": "1.5.0",
            "_model_name": "HTMLModel",
            "_view_count": null,
            "_view_module": "@jupyter-widgets/controls",
            "_view_module_version": "1.5.0",
            "_view_name": "HTMLView",
            "description": "",
            "description_tooltip": null,
            "layout": "IPY_MODEL_8fee84161d7e439693935495aba7e46b",
            "placeholder": "​",
            "style": "IPY_MODEL_731733f194354c4fbd491dff8d071120",
            "value": " 81/81 [00:48&lt;00:00,  1.78it/s]"
          }
        },
        "ad33d4cfac5844878e0302a0cb51f878": {
          "model_module": "@jupyter-widgets/base",
          "model_name": "LayoutModel",
          "model_module_version": "1.2.0",
          "state": {
            "_model_module": "@jupyter-widgets/base",
            "_model_module_version": "1.2.0",
            "_model_name": "LayoutModel",
            "_view_count": null,
            "_view_module": "@jupyter-widgets/base",
            "_view_module_version": "1.2.0",
            "_view_name": "LayoutView",
            "align_content": null,
            "align_items": null,
            "align_self": null,
            "border": null,
            "bottom": null,
            "display": null,
            "flex": null,
            "flex_flow": null,
            "grid_area": null,
            "grid_auto_columns": null,
            "grid_auto_flow": null,
            "grid_auto_rows": null,
            "grid_column": null,
            "grid_gap": null,
            "grid_row": null,
            "grid_template_areas": null,
            "grid_template_columns": null,
            "grid_template_rows": null,
            "height": null,
            "justify_content": null,
            "justify_items": null,
            "left": null,
            "margin": null,
            "max_height": null,
            "max_width": null,
            "min_height": null,
            "min_width": null,
            "object_fit": null,
            "object_position": null,
            "order": null,
            "overflow": null,
            "overflow_x": null,
            "overflow_y": null,
            "padding": null,
            "right": null,
            "top": null,
            "visibility": "hidden",
            "width": null
          }
        },
        "37723b2524cc4489b487d2ccb0e1fc13": {
          "model_module": "@jupyter-widgets/base",
          "model_name": "LayoutModel",
          "model_module_version": "1.2.0",
          "state": {
            "_model_module": "@jupyter-widgets/base",
            "_model_module_version": "1.2.0",
            "_model_name": "LayoutModel",
            "_view_count": null,
            "_view_module": "@jupyter-widgets/base",
            "_view_module_version": "1.2.0",
            "_view_name": "LayoutView",
            "align_content": null,
            "align_items": null,
            "align_self": null,
            "border": null,
            "bottom": null,
            "display": null,
            "flex": null,
            "flex_flow": null,
            "grid_area": null,
            "grid_auto_columns": null,
            "grid_auto_flow": null,
            "grid_auto_rows": null,
            "grid_column": null,
            "grid_gap": null,
            "grid_row": null,
            "grid_template_areas": null,
            "grid_template_columns": null,
            "grid_template_rows": null,
            "height": null,
            "justify_content": null,
            "justify_items": null,
            "left": null,
            "margin": null,
            "max_height": null,
            "max_width": null,
            "min_height": null,
            "min_width": null,
            "object_fit": null,
            "object_position": null,
            "order": null,
            "overflow": null,
            "overflow_x": null,
            "overflow_y": null,
            "padding": null,
            "right": null,
            "top": null,
            "visibility": null,
            "width": null
          }
        },
        "05c00875bc384491a57cfd7608d60c49": {
          "model_module": "@jupyter-widgets/controls",
          "model_name": "DescriptionStyleModel",
          "model_module_version": "1.5.0",
          "state": {
            "_model_module": "@jupyter-widgets/controls",
            "_model_module_version": "1.5.0",
            "_model_name": "DescriptionStyleModel",
            "_view_count": null,
            "_view_module": "@jupyter-widgets/base",
            "_view_module_version": "1.2.0",
            "_view_name": "StyleView",
            "description_width": ""
          }
        },
        "433adbcc76524731993011c00e5857b1": {
          "model_module": "@jupyter-widgets/base",
          "model_name": "LayoutModel",
          "model_module_version": "1.2.0",
          "state": {
            "_model_module": "@jupyter-widgets/base",
            "_model_module_version": "1.2.0",
            "_model_name": "LayoutModel",
            "_view_count": null,
            "_view_module": "@jupyter-widgets/base",
            "_view_module_version": "1.2.0",
            "_view_name": "LayoutView",
            "align_content": null,
            "align_items": null,
            "align_self": null,
            "border": null,
            "bottom": null,
            "display": null,
            "flex": null,
            "flex_flow": null,
            "grid_area": null,
            "grid_auto_columns": null,
            "grid_auto_flow": null,
            "grid_auto_rows": null,
            "grid_column": null,
            "grid_gap": null,
            "grid_row": null,
            "grid_template_areas": null,
            "grid_template_columns": null,
            "grid_template_rows": null,
            "height": null,
            "justify_content": null,
            "justify_items": null,
            "left": null,
            "margin": null,
            "max_height": null,
            "max_width": null,
            "min_height": null,
            "min_width": null,
            "object_fit": null,
            "object_position": null,
            "order": null,
            "overflow": null,
            "overflow_x": null,
            "overflow_y": null,
            "padding": null,
            "right": null,
            "top": null,
            "visibility": null,
            "width": null
          }
        },
        "752abb6ba23a486285d98a34658fd5db": {
          "model_module": "@jupyter-widgets/controls",
          "model_name": "ProgressStyleModel",
          "model_module_version": "1.5.0",
          "state": {
            "_model_module": "@jupyter-widgets/controls",
            "_model_module_version": "1.5.0",
            "_model_name": "ProgressStyleModel",
            "_view_count": null,
            "_view_module": "@jupyter-widgets/base",
            "_view_module_version": "1.2.0",
            "_view_name": "StyleView",
            "bar_color": null,
            "description_width": ""
          }
        },
        "8fee84161d7e439693935495aba7e46b": {
          "model_module": "@jupyter-widgets/base",
          "model_name": "LayoutModel",
          "model_module_version": "1.2.0",
          "state": {
            "_model_module": "@jupyter-widgets/base",
            "_model_module_version": "1.2.0",
            "_model_name": "LayoutModel",
            "_view_count": null,
            "_view_module": "@jupyter-widgets/base",
            "_view_module_version": "1.2.0",
            "_view_name": "LayoutView",
            "align_content": null,
            "align_items": null,
            "align_self": null,
            "border": null,
            "bottom": null,
            "display": null,
            "flex": null,
            "flex_flow": null,
            "grid_area": null,
            "grid_auto_columns": null,
            "grid_auto_flow": null,
            "grid_auto_rows": null,
            "grid_column": null,
            "grid_gap": null,
            "grid_row": null,
            "grid_template_areas": null,
            "grid_template_columns": null,
            "grid_template_rows": null,
            "height": null,
            "justify_content": null,
            "justify_items": null,
            "left": null,
            "margin": null,
            "max_height": null,
            "max_width": null,
            "min_height": null,
            "min_width": null,
            "object_fit": null,
            "object_position": null,
            "order": null,
            "overflow": null,
            "overflow_x": null,
            "overflow_y": null,
            "padding": null,
            "right": null,
            "top": null,
            "visibility": null,
            "width": null
          }
        },
        "731733f194354c4fbd491dff8d071120": {
          "model_module": "@jupyter-widgets/controls",
          "model_name": "DescriptionStyleModel",
          "model_module_version": "1.5.0",
          "state": {
            "_model_module": "@jupyter-widgets/controls",
            "_model_module_version": "1.5.0",
            "_model_name": "DescriptionStyleModel",
            "_view_count": null,
            "_view_module": "@jupyter-widgets/base",
            "_view_module_version": "1.2.0",
            "_view_name": "StyleView",
            "description_width": ""
          }
        },
        "8750d765caa24f34a7e5eb28bcc9fb12": {
          "model_module": "@jupyter-widgets/controls",
          "model_name": "HBoxModel",
          "model_module_version": "1.5.0",
          "state": {
            "_dom_classes": [],
            "_model_module": "@jupyter-widgets/controls",
            "_model_module_version": "1.5.0",
            "_model_name": "HBoxModel",
            "_view_count": null,
            "_view_module": "@jupyter-widgets/controls",
            "_view_module_version": "1.5.0",
            "_view_name": "HBoxView",
            "box_style": "",
            "children": [
              "IPY_MODEL_34f5a07a211f4da1b05f1d0841519f14",
              "IPY_MODEL_a651d7c03e94474bae4f92ad086996c3",
              "IPY_MODEL_1918f96221e14c6fa4573746757bef5c"
            ],
            "layout": "IPY_MODEL_275523a88dc1406da9343cd8b521e007"
          }
        },
        "34f5a07a211f4da1b05f1d0841519f14": {
          "model_module": "@jupyter-widgets/controls",
          "model_name": "HTMLModel",
          "model_module_version": "1.5.0",
          "state": {
            "_dom_classes": [],
            "_model_module": "@jupyter-widgets/controls",
            "_model_module_version": "1.5.0",
            "_model_name": "HTMLModel",
            "_view_count": null,
            "_view_module": "@jupyter-widgets/controls",
            "_view_module_version": "1.5.0",
            "_view_name": "HTMLView",
            "description": "",
            "description_tooltip": null,
            "layout": "IPY_MODEL_c17ec790a43a4dcd82056201f5dff7cc",
            "placeholder": "​",
            "style": "IPY_MODEL_45132c3ccae64db28e2955d874217316",
            "value": "Processing: 100%"
          }
        },
        "a651d7c03e94474bae4f92ad086996c3": {
          "model_module": "@jupyter-widgets/controls",
          "model_name": "FloatProgressModel",
          "model_module_version": "1.5.0",
          "state": {
            "_dom_classes": [],
            "_model_module": "@jupyter-widgets/controls",
            "_model_module_version": "1.5.0",
            "_model_name": "FloatProgressModel",
            "_view_count": null,
            "_view_module": "@jupyter-widgets/controls",
            "_view_module_version": "1.5.0",
            "_view_name": "ProgressView",
            "bar_style": "",
            "description": "",
            "description_tooltip": null,
            "layout": "IPY_MODEL_7eb865c9cddc4f6492de973653cc7090",
            "max": 4,
            "min": 0,
            "orientation": "horizontal",
            "style": "IPY_MODEL_0e95e4016c9b4f229d98a30a1bfbcc83",
            "value": 4
          }
        },
        "1918f96221e14c6fa4573746757bef5c": {
          "model_module": "@jupyter-widgets/controls",
          "model_name": "HTMLModel",
          "model_module_version": "1.5.0",
          "state": {
            "_dom_classes": [],
            "_model_module": "@jupyter-widgets/controls",
            "_model_module_version": "1.5.0",
            "_model_name": "HTMLModel",
            "_view_count": null,
            "_view_module": "@jupyter-widgets/controls",
            "_view_module_version": "1.5.0",
            "_view_name": "HTMLView",
            "description": "",
            "description_tooltip": null,
            "layout": "IPY_MODEL_faff7fa1bc7e48a489ed8de7955c49b8",
            "placeholder": "​",
            "style": "IPY_MODEL_f21031331cb14f32a58245dd0392e609",
            "value": " 4/4 [00:09&lt;00:00,  2.18s/it]"
          }
        },
        "275523a88dc1406da9343cd8b521e007": {
          "model_module": "@jupyter-widgets/base",
          "model_name": "LayoutModel",
          "model_module_version": "1.2.0",
          "state": {
            "_model_module": "@jupyter-widgets/base",
            "_model_module_version": "1.2.0",
            "_model_name": "LayoutModel",
            "_view_count": null,
            "_view_module": "@jupyter-widgets/base",
            "_view_module_version": "1.2.0",
            "_view_name": "LayoutView",
            "align_content": null,
            "align_items": null,
            "align_self": null,
            "border": null,
            "bottom": null,
            "display": null,
            "flex": null,
            "flex_flow": null,
            "grid_area": null,
            "grid_auto_columns": null,
            "grid_auto_flow": null,
            "grid_auto_rows": null,
            "grid_column": null,
            "grid_gap": null,
            "grid_row": null,
            "grid_template_areas": null,
            "grid_template_columns": null,
            "grid_template_rows": null,
            "height": null,
            "justify_content": null,
            "justify_items": null,
            "left": null,
            "margin": null,
            "max_height": null,
            "max_width": null,
            "min_height": null,
            "min_width": null,
            "object_fit": null,
            "object_position": null,
            "order": null,
            "overflow": null,
            "overflow_x": null,
            "overflow_y": null,
            "padding": null,
            "right": null,
            "top": null,
            "visibility": "hidden",
            "width": null
          }
        },
        "c17ec790a43a4dcd82056201f5dff7cc": {
          "model_module": "@jupyter-widgets/base",
          "model_name": "LayoutModel",
          "model_module_version": "1.2.0",
          "state": {
            "_model_module": "@jupyter-widgets/base",
            "_model_module_version": "1.2.0",
            "_model_name": "LayoutModel",
            "_view_count": null,
            "_view_module": "@jupyter-widgets/base",
            "_view_module_version": "1.2.0",
            "_view_name": "LayoutView",
            "align_content": null,
            "align_items": null,
            "align_self": null,
            "border": null,
            "bottom": null,
            "display": null,
            "flex": null,
            "flex_flow": null,
            "grid_area": null,
            "grid_auto_columns": null,
            "grid_auto_flow": null,
            "grid_auto_rows": null,
            "grid_column": null,
            "grid_gap": null,
            "grid_row": null,
            "grid_template_areas": null,
            "grid_template_columns": null,
            "grid_template_rows": null,
            "height": null,
            "justify_content": null,
            "justify_items": null,
            "left": null,
            "margin": null,
            "max_height": null,
            "max_width": null,
            "min_height": null,
            "min_width": null,
            "object_fit": null,
            "object_position": null,
            "order": null,
            "overflow": null,
            "overflow_x": null,
            "overflow_y": null,
            "padding": null,
            "right": null,
            "top": null,
            "visibility": null,
            "width": null
          }
        },
        "45132c3ccae64db28e2955d874217316": {
          "model_module": "@jupyter-widgets/controls",
          "model_name": "DescriptionStyleModel",
          "model_module_version": "1.5.0",
          "state": {
            "_model_module": "@jupyter-widgets/controls",
            "_model_module_version": "1.5.0",
            "_model_name": "DescriptionStyleModel",
            "_view_count": null,
            "_view_module": "@jupyter-widgets/base",
            "_view_module_version": "1.2.0",
            "_view_name": "StyleView",
            "description_width": ""
          }
        },
        "7eb865c9cddc4f6492de973653cc7090": {
          "model_module": "@jupyter-widgets/base",
          "model_name": "LayoutModel",
          "model_module_version": "1.2.0",
          "state": {
            "_model_module": "@jupyter-widgets/base",
            "_model_module_version": "1.2.0",
            "_model_name": "LayoutModel",
            "_view_count": null,
            "_view_module": "@jupyter-widgets/base",
            "_view_module_version": "1.2.0",
            "_view_name": "LayoutView",
            "align_content": null,
            "align_items": null,
            "align_self": null,
            "border": null,
            "bottom": null,
            "display": null,
            "flex": null,
            "flex_flow": null,
            "grid_area": null,
            "grid_auto_columns": null,
            "grid_auto_flow": null,
            "grid_auto_rows": null,
            "grid_column": null,
            "grid_gap": null,
            "grid_row": null,
            "grid_template_areas": null,
            "grid_template_columns": null,
            "grid_template_rows": null,
            "height": null,
            "justify_content": null,
            "justify_items": null,
            "left": null,
            "margin": null,
            "max_height": null,
            "max_width": null,
            "min_height": null,
            "min_width": null,
            "object_fit": null,
            "object_position": null,
            "order": null,
            "overflow": null,
            "overflow_x": null,
            "overflow_y": null,
            "padding": null,
            "right": null,
            "top": null,
            "visibility": null,
            "width": null
          }
        },
        "0e95e4016c9b4f229d98a30a1bfbcc83": {
          "model_module": "@jupyter-widgets/controls",
          "model_name": "ProgressStyleModel",
          "model_module_version": "1.5.0",
          "state": {
            "_model_module": "@jupyter-widgets/controls",
            "_model_module_version": "1.5.0",
            "_model_name": "ProgressStyleModel",
            "_view_count": null,
            "_view_module": "@jupyter-widgets/base",
            "_view_module_version": "1.2.0",
            "_view_name": "StyleView",
            "bar_color": null,
            "description_width": ""
          }
        },
        "faff7fa1bc7e48a489ed8de7955c49b8": {
          "model_module": "@jupyter-widgets/base",
          "model_name": "LayoutModel",
          "model_module_version": "1.2.0",
          "state": {
            "_model_module": "@jupyter-widgets/base",
            "_model_module_version": "1.2.0",
            "_model_name": "LayoutModel",
            "_view_count": null,
            "_view_module": "@jupyter-widgets/base",
            "_view_module_version": "1.2.0",
            "_view_name": "LayoutView",
            "align_content": null,
            "align_items": null,
            "align_self": null,
            "border": null,
            "bottom": null,
            "display": null,
            "flex": null,
            "flex_flow": null,
            "grid_area": null,
            "grid_auto_columns": null,
            "grid_auto_flow": null,
            "grid_auto_rows": null,
            "grid_column": null,
            "grid_gap": null,
            "grid_row": null,
            "grid_template_areas": null,
            "grid_template_columns": null,
            "grid_template_rows": null,
            "height": null,
            "justify_content": null,
            "justify_items": null,
            "left": null,
            "margin": null,
            "max_height": null,
            "max_width": null,
            "min_height": null,
            "min_width": null,
            "object_fit": null,
            "object_position": null,
            "order": null,
            "overflow": null,
            "overflow_x": null,
            "overflow_y": null,
            "padding": null,
            "right": null,
            "top": null,
            "visibility": null,
            "width": null
          }
        },
        "f21031331cb14f32a58245dd0392e609": {
          "model_module": "@jupyter-widgets/controls",
          "model_name": "DescriptionStyleModel",
          "model_module_version": "1.5.0",
          "state": {
            "_model_module": "@jupyter-widgets/controls",
            "_model_module_version": "1.5.0",
            "_model_name": "DescriptionStyleModel",
            "_view_count": null,
            "_view_module": "@jupyter-widgets/base",
            "_view_module_version": "1.2.0",
            "_view_name": "StyleView",
            "description_width": ""
          }
        },
        "873c632a079541639f5c396c3900435d": {
          "model_module": "@jupyter-widgets/controls",
          "model_name": "HBoxModel",
          "model_module_version": "1.5.0",
          "state": {
            "_dom_classes": [],
            "_model_module": "@jupyter-widgets/controls",
            "_model_module_version": "1.5.0",
            "_model_name": "HBoxModel",
            "_view_count": null,
            "_view_module": "@jupyter-widgets/controls",
            "_view_module_version": "1.5.0",
            "_view_name": "HBoxView",
            "box_style": "",
            "children": [
              "IPY_MODEL_64206fd994e046c88680057ab99761c2",
              "IPY_MODEL_363c0494478e4afebbf20375bbf77c4f",
              "IPY_MODEL_9f0de614ee1746bda3f2ca368daf536b"
            ],
            "layout": "IPY_MODEL_46dff6ed21cc484b851ae80b47d457c1"
          }
        },
        "64206fd994e046c88680057ab99761c2": {
          "model_module": "@jupyter-widgets/controls",
          "model_name": "HTMLModel",
          "model_module_version": "1.5.0",
          "state": {
            "_dom_classes": [],
            "_model_module": "@jupyter-widgets/controls",
            "_model_module_version": "1.5.0",
            "_model_name": "HTMLModel",
            "_view_count": null,
            "_view_module": "@jupyter-widgets/controls",
            "_view_module_version": "1.5.0",
            "_view_name": "HTMLView",
            "description": "",
            "description_tooltip": null,
            "layout": "IPY_MODEL_e66fc9074b374f909db77e706611a9d2",
            "placeholder": "​",
            "style": "IPY_MODEL_d0268cc8a7c74287af9827dda773010e",
            "value": "Processing: 100%"
          }
        },
        "363c0494478e4afebbf20375bbf77c4f": {
          "model_module": "@jupyter-widgets/controls",
          "model_name": "FloatProgressModel",
          "model_module_version": "1.5.0",
          "state": {
            "_dom_classes": [],
            "_model_module": "@jupyter-widgets/controls",
            "_model_module_version": "1.5.0",
            "_model_name": "FloatProgressModel",
            "_view_count": null,
            "_view_module": "@jupyter-widgets/controls",
            "_view_module_version": "1.5.0",
            "_view_name": "ProgressView",
            "bar_style": "",
            "description": "",
            "description_tooltip": null,
            "layout": "IPY_MODEL_437856345a614449b96f16c6a4955b6f",
            "max": 7,
            "min": 0,
            "orientation": "horizontal",
            "style": "IPY_MODEL_97f7ed93b870452582439f19d13bbf8b",
            "value": 7
          }
        },
        "9f0de614ee1746bda3f2ca368daf536b": {
          "model_module": "@jupyter-widgets/controls",
          "model_name": "HTMLModel",
          "model_module_version": "1.5.0",
          "state": {
            "_dom_classes": [],
            "_model_module": "@jupyter-widgets/controls",
            "_model_module_version": "1.5.0",
            "_model_name": "HTMLModel",
            "_view_count": null,
            "_view_module": "@jupyter-widgets/controls",
            "_view_module_version": "1.5.0",
            "_view_name": "HTMLView",
            "description": "",
            "description_tooltip": null,
            "layout": "IPY_MODEL_ed9b584eb68a4c55b8b60e7ff36f9dc8",
            "placeholder": "​",
            "style": "IPY_MODEL_649669968f244fe5ad1ddacd7dcaea24",
            "value": " 7/7 [00:25&lt;00:00,  2.92s/it]"
          }
        },
        "46dff6ed21cc484b851ae80b47d457c1": {
          "model_module": "@jupyter-widgets/base",
          "model_name": "LayoutModel",
          "model_module_version": "1.2.0",
          "state": {
            "_model_module": "@jupyter-widgets/base",
            "_model_module_version": "1.2.0",
            "_model_name": "LayoutModel",
            "_view_count": null,
            "_view_module": "@jupyter-widgets/base",
            "_view_module_version": "1.2.0",
            "_view_name": "LayoutView",
            "align_content": null,
            "align_items": null,
            "align_self": null,
            "border": null,
            "bottom": null,
            "display": null,
            "flex": null,
            "flex_flow": null,
            "grid_area": null,
            "grid_auto_columns": null,
            "grid_auto_flow": null,
            "grid_auto_rows": null,
            "grid_column": null,
            "grid_gap": null,
            "grid_row": null,
            "grid_template_areas": null,
            "grid_template_columns": null,
            "grid_template_rows": null,
            "height": null,
            "justify_content": null,
            "justify_items": null,
            "left": null,
            "margin": null,
            "max_height": null,
            "max_width": null,
            "min_height": null,
            "min_width": null,
            "object_fit": null,
            "object_position": null,
            "order": null,
            "overflow": null,
            "overflow_x": null,
            "overflow_y": null,
            "padding": null,
            "right": null,
            "top": null,
            "visibility": "hidden",
            "width": null
          }
        },
        "e66fc9074b374f909db77e706611a9d2": {
          "model_module": "@jupyter-widgets/base",
          "model_name": "LayoutModel",
          "model_module_version": "1.2.0",
          "state": {
            "_model_module": "@jupyter-widgets/base",
            "_model_module_version": "1.2.0",
            "_model_name": "LayoutModel",
            "_view_count": null,
            "_view_module": "@jupyter-widgets/base",
            "_view_module_version": "1.2.0",
            "_view_name": "LayoutView",
            "align_content": null,
            "align_items": null,
            "align_self": null,
            "border": null,
            "bottom": null,
            "display": null,
            "flex": null,
            "flex_flow": null,
            "grid_area": null,
            "grid_auto_columns": null,
            "grid_auto_flow": null,
            "grid_auto_rows": null,
            "grid_column": null,
            "grid_gap": null,
            "grid_row": null,
            "grid_template_areas": null,
            "grid_template_columns": null,
            "grid_template_rows": null,
            "height": null,
            "justify_content": null,
            "justify_items": null,
            "left": null,
            "margin": null,
            "max_height": null,
            "max_width": null,
            "min_height": null,
            "min_width": null,
            "object_fit": null,
            "object_position": null,
            "order": null,
            "overflow": null,
            "overflow_x": null,
            "overflow_y": null,
            "padding": null,
            "right": null,
            "top": null,
            "visibility": null,
            "width": null
          }
        },
        "d0268cc8a7c74287af9827dda773010e": {
          "model_module": "@jupyter-widgets/controls",
          "model_name": "DescriptionStyleModel",
          "model_module_version": "1.5.0",
          "state": {
            "_model_module": "@jupyter-widgets/controls",
            "_model_module_version": "1.5.0",
            "_model_name": "DescriptionStyleModel",
            "_view_count": null,
            "_view_module": "@jupyter-widgets/base",
            "_view_module_version": "1.2.0",
            "_view_name": "StyleView",
            "description_width": ""
          }
        },
        "437856345a614449b96f16c6a4955b6f": {
          "model_module": "@jupyter-widgets/base",
          "model_name": "LayoutModel",
          "model_module_version": "1.2.0",
          "state": {
            "_model_module": "@jupyter-widgets/base",
            "_model_module_version": "1.2.0",
            "_model_name": "LayoutModel",
            "_view_count": null,
            "_view_module": "@jupyter-widgets/base",
            "_view_module_version": "1.2.0",
            "_view_name": "LayoutView",
            "align_content": null,
            "align_items": null,
            "align_self": null,
            "border": null,
            "bottom": null,
            "display": null,
            "flex": null,
            "flex_flow": null,
            "grid_area": null,
            "grid_auto_columns": null,
            "grid_auto_flow": null,
            "grid_auto_rows": null,
            "grid_column": null,
            "grid_gap": null,
            "grid_row": null,
            "grid_template_areas": null,
            "grid_template_columns": null,
            "grid_template_rows": null,
            "height": null,
            "justify_content": null,
            "justify_items": null,
            "left": null,
            "margin": null,
            "max_height": null,
            "max_width": null,
            "min_height": null,
            "min_width": null,
            "object_fit": null,
            "object_position": null,
            "order": null,
            "overflow": null,
            "overflow_x": null,
            "overflow_y": null,
            "padding": null,
            "right": null,
            "top": null,
            "visibility": null,
            "width": null
          }
        },
        "97f7ed93b870452582439f19d13bbf8b": {
          "model_module": "@jupyter-widgets/controls",
          "model_name": "ProgressStyleModel",
          "model_module_version": "1.5.0",
          "state": {
            "_model_module": "@jupyter-widgets/controls",
            "_model_module_version": "1.5.0",
            "_model_name": "ProgressStyleModel",
            "_view_count": null,
            "_view_module": "@jupyter-widgets/base",
            "_view_module_version": "1.2.0",
            "_view_name": "StyleView",
            "bar_color": null,
            "description_width": ""
          }
        },
        "ed9b584eb68a4c55b8b60e7ff36f9dc8": {
          "model_module": "@jupyter-widgets/base",
          "model_name": "LayoutModel",
          "model_module_version": "1.2.0",
          "state": {
            "_model_module": "@jupyter-widgets/base",
            "_model_module_version": "1.2.0",
            "_model_name": "LayoutModel",
            "_view_count": null,
            "_view_module": "@jupyter-widgets/base",
            "_view_module_version": "1.2.0",
            "_view_name": "LayoutView",
            "align_content": null,
            "align_items": null,
            "align_self": null,
            "border": null,
            "bottom": null,
            "display": null,
            "flex": null,
            "flex_flow": null,
            "grid_area": null,
            "grid_auto_columns": null,
            "grid_auto_flow": null,
            "grid_auto_rows": null,
            "grid_column": null,
            "grid_gap": null,
            "grid_row": null,
            "grid_template_areas": null,
            "grid_template_columns": null,
            "grid_template_rows": null,
            "height": null,
            "justify_content": null,
            "justify_items": null,
            "left": null,
            "margin": null,
            "max_height": null,
            "max_width": null,
            "min_height": null,
            "min_width": null,
            "object_fit": null,
            "object_position": null,
            "order": null,
            "overflow": null,
            "overflow_x": null,
            "overflow_y": null,
            "padding": null,
            "right": null,
            "top": null,
            "visibility": null,
            "width": null
          }
        },
        "649669968f244fe5ad1ddacd7dcaea24": {
          "model_module": "@jupyter-widgets/controls",
          "model_name": "DescriptionStyleModel",
          "model_module_version": "1.5.0",
          "state": {
            "_model_module": "@jupyter-widgets/controls",
            "_model_module_version": "1.5.0",
            "_model_name": "DescriptionStyleModel",
            "_view_count": null,
            "_view_module": "@jupyter-widgets/base",
            "_view_module_version": "1.2.0",
            "_view_name": "StyleView",
            "description_width": ""
          }
        }
      }
    }
  },
  "cells": [
    {
      "cell_type": "markdown",
      "metadata": {
        "id": "view-in-github",
        "colab_type": "text"
      },
      "source": [
        "<a href=\"https://colab.research.google.com/github/gabrielnd312/AutoML_HealthInsuranceCostPrediction-Regression/blob/main/Auto_ML_Health_Insurance.ipynb\" target=\"_parent\"><img src=\"https://colab.research.google.com/assets/colab-badge.svg\" alt=\"Open In Colab\"/></a>"
      ]
    },
    {
      "cell_type": "markdown",
      "source": [
        "<div><left>\n",
        "  <a href = \"https://github.com/gabrielnd312\"><img src=\"https://img.shields.io/badge/GitHub-100000?style=for-the-badge&logo=github&logoColor=white\" target=\"_blank\"></a>\n",
        "  <a href=\"https://www.linkedin.com/in/gabriel-duarte-671074146/\" target=\"_blank\"><img src=\"https://img.shields.io/badge/-LinkedIn-%230077B5?style=for-the-badge&logo=linkedin&logoColor=white\" target=\"_blank\"></a>\n",
        "  <a href=\"https://medium.com/@gabrielnduarte\" target=\"_blank\"><img src=\"https://img.shields.io/badge/Medium-12100E?style=for-the-badge&logo=medium&logoColor=white\"></a>\n",
        "<left></div>\n",
        "\n",
        "#**AutoML - Regression**\n",
        "**Health Insurance Value**\n",
        "\n",
        "\n",
        "\n",
        "<left><img width=\"70%\" src=\"https://images.unsplash.com/photo-1654931800911-7a9cfb3b7c17?auto=format&fit=crop&q=80&w=2070&ixlib=rb-4.0.3&ixid=M3wxMjA3fDB8MHxwaG90by1wYWdlfHx8fGVufDB8fHx8fA%3D%3D\"></left>\n",
        "\n",
        "\n",
        "\n",
        "In this project, we will be exploring the field of **Data Science** and **Machine Learning** applied to the **Health** sector.\n",
        "\n",
        "Our goal is to conduct a comprehensive exploratory analysis of the available dataset and subsequently create a predictive model to estimate insurance values based on the information provided in the dataset.\n",
        "\n",
        "To achieve this goal, we will utilize the `Regression` technique within the context of `Automated Machine Learning (Auto ML)`.\n",
        "\n",
        "Furthermore, we will employ the PyCaret library, which is a powerful tool to streamline and optimize our model-building process.\n",
        "\n",
        "`Automated Machine Learning (Auto ML)` is an approach designed to make the development of machine learning models more efficient and accessible.\n",
        "\n",
        "It automates tasks such as algorithm selection, hyperparameter tuning, and model evaluation, allowing data scientists to focus on interpreting results and creating solutions. This approach is especially valuable when dealing with large datasets like that of Health Insurance, where we aim to gain meaningful insights effectively.\n",
        "\n",
        "The complete dataset was made available on [my GitHub](https://github.com/gabrielnd312/AutoML_HealthInsuranceCostPrediction-Regression) and can be found at this [link](https://raw.githubusercontent.com/gabrielnd312/AutoML_HealthInsuranceCostPrediction-Regression/main/insurance.csv)."
      ],
      "metadata": {
        "id": "i2iH7NrHqXjF"
      }
    },
    {
      "cell_type": "markdown",
      "source": [
        "# **Variable dictionary**\n",
        "\n",
        "`Age` ---> Customer's age.\n",
        "\n",
        "`Sex` ---> Customer's gender.\n",
        "\n",
        "`BMI` ---> Body Mass Index is a numerical measure that assesses an individual's body weight relative to their height.\n",
        "\n",
        "`Children` ---> Indicates if the client has children and how many they have.\n",
        "\n",
        "`Smoker` ---> Indicates whether the customer is a smoker or not.\n",
        "\n",
        "`Region` ---> Indicates the region in which the customer lives.\n",
        "\n",
        "`Charges` ---> Indicates the amount charged for the customer's health insurance.\n",
        "\n"
      ],
      "metadata": {
        "id": "Cx3GPNRIs4_C"
      }
    },
    {
      "cell_type": "code",
      "execution_count": null,
      "metadata": {
        "id": "CRNhumi2p04E",
        "colab": {
          "base_uri": "https://localhost:8080/"
        },
        "outputId": "74201169-e00b-4322-e8f5-af5eb0fd707d"
      },
      "outputs": [
        {
          "output_type": "stream",
          "name": "stdout",
          "text": [
            "\u001b[2K     \u001b[90m━━━━━━━━━━━━━━━━━━━━━━━━━━━━━━━━━━━━━━━\u001b[0m \u001b[32m483.9/483.9 kB\u001b[0m \u001b[31m6.3 MB/s\u001b[0m eta \u001b[36m0:00:00\u001b[0m\n",
            "\u001b[2K     \u001b[90m━━━━━━━━━━━━━━━━━━━━━━━━━━━━━━━━━━━━━━━━\u001b[0m \u001b[32m34.4/34.4 MB\u001b[0m \u001b[31m33.3 MB/s\u001b[0m eta \u001b[36m0:00:00\u001b[0m\n",
            "\u001b[2K     \u001b[90m━━━━━━━━━━━━━━━━━━━━━━━━━━━━━━━━━━━━━━\u001b[0m \u001b[32m153.4/153.4 kB\u001b[0m \u001b[31m17.0 MB/s\u001b[0m eta \u001b[36m0:00:00\u001b[0m\n",
            "\u001b[?25h  Preparing metadata (setup.py) ... \u001b[?25l\u001b[?25hdone\n",
            "\u001b[2K     \u001b[90m━━━━━━━━━━━━━━━━━━━━━━━━━━━━━━━━━━━━━━━━\u001b[0m \u001b[32m81.8/81.8 kB\u001b[0m \u001b[31m8.2 MB/s\u001b[0m eta \u001b[36m0:00:00\u001b[0m\n",
            "\u001b[2K     \u001b[90m━━━━━━━━━━━━━━━━━━━━━━━━━━━━━━━━━━━━━━\u001b[0m \u001b[32m194.1/194.1 kB\u001b[0m \u001b[31m15.4 MB/s\u001b[0m eta \u001b[36m0:00:00\u001b[0m\n",
            "\u001b[2K     \u001b[90m━━━━━━━━━━━━━━━━━━━━━━━━━━━━━━━━━━━━━━━━\u001b[0m \u001b[32m79.9/79.9 MB\u001b[0m \u001b[31m8.7 MB/s\u001b[0m eta \u001b[36m0:00:00\u001b[0m\n",
            "\u001b[2K     \u001b[90m━━━━━━━━━━━━━━━━━━━━━━━━━━━━━━━━━━━━━━━\u001b[0m \u001b[32m106.8/106.8 kB\u001b[0m \u001b[31m9.5 MB/s\u001b[0m eta \u001b[36m0:00:00\u001b[0m\n",
            "\u001b[2K     \u001b[90m━━━━━━━━━━━━━━━━━━━━━━━━━━━━━━━━━━━━━━━━\u001b[0m \u001b[32m73.4/73.4 kB\u001b[0m \u001b[31m6.3 MB/s\u001b[0m eta \u001b[36m0:00:00\u001b[0m\n",
            "\u001b[2K     \u001b[90m━━━━━━━━━━━━━━━━━━━━━━━━━━━━━━━━━━━━━━━━\u001b[0m \u001b[32m17.1/17.1 MB\u001b[0m \u001b[31m55.0 MB/s\u001b[0m eta \u001b[36m0:00:00\u001b[0m\n",
            "\u001b[2K     \u001b[90m━━━━━━━━━━━━━━━━━━━━━━━━━━━━━━━━━━━━━━━━\u001b[0m \u001b[32m44.0/44.0 kB\u001b[0m \u001b[31m5.2 MB/s\u001b[0m eta \u001b[36m0:00:00\u001b[0m\n",
            "\u001b[2K     \u001b[90m━━━━━━━━━━━━━━━━━━━━━━━━━━━━━━━━━━━━━━━━\u001b[0m \u001b[32m1.8/1.8 MB\u001b[0m \u001b[31m61.6 MB/s\u001b[0m eta \u001b[36m0:00:00\u001b[0m\n",
            "\u001b[2K     \u001b[90m━━━━━━━━━━━━━━━━━━━━━━━━━━━━━━━━━━━━━━━━\u001b[0m \u001b[32m1.6/1.6 MB\u001b[0m \u001b[31m45.4 MB/s\u001b[0m eta \u001b[36m0:00:00\u001b[0m\n",
            "\u001b[2K     \u001b[90m━━━━━━━━━━━━━━━━━━━━━━━━━━━━━━━━━━━━━━━━\u001b[0m \u001b[32m10.4/10.4 MB\u001b[0m \u001b[31m52.7 MB/s\u001b[0m eta \u001b[36m0:00:00\u001b[0m\n",
            "\u001b[2K     \u001b[90m━━━━━━━━━━━━━━━━━━━━━━━━━━━━━━━━━━━━━━\u001b[0m \u001b[32m138.7/138.7 kB\u001b[0m \u001b[31m10.1 MB/s\u001b[0m eta \u001b[36m0:00:00\u001b[0m\n",
            "\u001b[2K     \u001b[90m━━━━━━━━━━━━━━━━━━━━━━━━━━━━━━━━━━━━━━\u001b[0m \u001b[32m185.2/185.2 kB\u001b[0m \u001b[31m18.3 MB/s\u001b[0m eta \u001b[36m0:00:00\u001b[0m\n",
            "\u001b[2K     \u001b[90m━━━━━━━━━━━━━━━━━━━━━━━━━━━━━━━━━━━━━━━━\u001b[0m \u001b[32m2.3/2.3 MB\u001b[0m \u001b[31m63.5 MB/s\u001b[0m eta \u001b[36m0:00:00\u001b[0m\n",
            "\u001b[2K     \u001b[90m━━━━━━━━━━━━━━━━━━━━━━━━━━━━━━━━━━━━━━━\u001b[0m \u001b[32m119.0/119.0 kB\u001b[0m \u001b[31m6.5 MB/s\u001b[0m eta \u001b[36m0:00:00\u001b[0m\n",
            "\u001b[2K     \u001b[90m━━━━━━━━━━━━━━━━━━━━━━━━━━━━━━━━━━━━━━\u001b[0m \u001b[32m233.6/233.6 kB\u001b[0m \u001b[31m16.9 MB/s\u001b[0m eta \u001b[36m0:00:00\u001b[0m\n",
            "\u001b[?25h  Building wheel for pyod (setup.py) ... \u001b[?25l\u001b[?25hdone\n",
            "\u001b[2K     \u001b[90m━━━━━━━━━━━━━━━━━━━━━━━━━━━━━━━━━━━━━━━━\u001b[0m \u001b[32m18.5/18.5 MB\u001b[0m \u001b[31m41.3 MB/s\u001b[0m eta \u001b[36m0:00:00\u001b[0m\n",
            "\u001b[2K     \u001b[90m━━━━━━━━━━━━━━━━━━━━━━━━━━━━━━━━━━━━━━\u001b[0m \u001b[32m150.3/150.3 kB\u001b[0m \u001b[31m11.6 MB/s\u001b[0m eta \u001b[36m0:00:00\u001b[0m\n",
            "\u001b[2K     \u001b[90m━━━━━━━━━━━━━━━━━━━━━━━━━━━━━━━━━━━━━━\u001b[0m \u001b[32m190.0/190.0 kB\u001b[0m \u001b[31m17.5 MB/s\u001b[0m eta \u001b[36m0:00:00\u001b[0m\n",
            "\u001b[2K     \u001b[90m━━━━━━━━━━━━━━━━━━━━━━━━━━━━━━━━━━━━━━\u001b[0m \u001b[32m226.0/226.0 kB\u001b[0m \u001b[31m22.7 MB/s\u001b[0m eta \u001b[36m0:00:00\u001b[0m\n",
            "\u001b[2K     \u001b[90m━━━━━━━━━━━━━━━━━━━━━━━━━━━━━━━━━━━━━━\u001b[0m \u001b[32m148.1/148.1 kB\u001b[0m \u001b[31m16.1 MB/s\u001b[0m eta \u001b[36m0:00:00\u001b[0m\n",
            "\u001b[2K     \u001b[90m━━━━━━━━━━━━━━━━━━━━━━━━━━━━━━━━━━━━━━━━\u001b[0m \u001b[32m80.2/80.2 kB\u001b[0m \u001b[31m9.4 MB/s\u001b[0m eta \u001b[36m0:00:00\u001b[0m\n",
            "\u001b[2K     \u001b[90m━━━━━━━━━━━━━━━━━━━━━━━━━━━━━━━━━━━━━━━━\u001b[0m \u001b[32m78.7/78.7 kB\u001b[0m \u001b[31m9.8 MB/s\u001b[0m eta \u001b[36m0:00:00\u001b[0m\n",
            "\u001b[2K     \u001b[90m━━━━━━━━━━━━━━━━━━━━━━━━━━━━━━━━━━━━━━━━\u001b[0m \u001b[32m62.7/62.7 kB\u001b[0m \u001b[31m4.2 MB/s\u001b[0m eta \u001b[36m0:00:00\u001b[0m\n",
            "\u001b[?25h"
          ]
        }
      ],
      "source": [
        "!pip install pycaret -q\n",
        "!pip install mlflow -q\n",
        "import pandas as pd"
      ]
    },
    {
      "cell_type": "code",
      "source": [
        "df = pd.read_csv(\"https://raw.githubusercontent.com/gabrielnd312/AutoML_HealthInsuranceCostPrediction-Regression/main/insurance.csv\")"
      ],
      "metadata": {
        "id": "6IrrW3mLqOfC"
      },
      "execution_count": null,
      "outputs": []
    },
    {
      "cell_type": "code",
      "source": [
        "df.head()"
      ],
      "metadata": {
        "colab": {
          "base_uri": "https://localhost:8080/",
          "height": 206
        },
        "id": "jd7_NsL6qRPC",
        "outputId": "9e16f5ae-9a80-4e8f-f466-8d83a89c4039"
      },
      "execution_count": null,
      "outputs": [
        {
          "output_type": "execute_result",
          "data": {
            "text/plain": [
              "   age     sex     bmi  children smoker     region      charges\n",
              "0   19  female  27.900         0    yes  southwest  16884.92400\n",
              "1   18    male  33.770         1     no  southeast   1725.55230\n",
              "2   28    male  33.000         3     no  southeast   4449.46200\n",
              "3   33    male  22.705         0     no  northwest  21984.47061\n",
              "4   32    male  28.880         0     no  northwest   3866.85520"
            ],
            "text/html": [
              "\n",
              "  <div id=\"df-463be02e-e5d1-4a4f-9ff1-2ede92b924ee\" class=\"colab-df-container\">\n",
              "    <div>\n",
              "<style scoped>\n",
              "    .dataframe tbody tr th:only-of-type {\n",
              "        vertical-align: middle;\n",
              "    }\n",
              "\n",
              "    .dataframe tbody tr th {\n",
              "        vertical-align: top;\n",
              "    }\n",
              "\n",
              "    .dataframe thead th {\n",
              "        text-align: right;\n",
              "    }\n",
              "</style>\n",
              "<table border=\"1\" class=\"dataframe\">\n",
              "  <thead>\n",
              "    <tr style=\"text-align: right;\">\n",
              "      <th></th>\n",
              "      <th>age</th>\n",
              "      <th>sex</th>\n",
              "      <th>bmi</th>\n",
              "      <th>children</th>\n",
              "      <th>smoker</th>\n",
              "      <th>region</th>\n",
              "      <th>charges</th>\n",
              "    </tr>\n",
              "  </thead>\n",
              "  <tbody>\n",
              "    <tr>\n",
              "      <th>0</th>\n",
              "      <td>19</td>\n",
              "      <td>female</td>\n",
              "      <td>27.900</td>\n",
              "      <td>0</td>\n",
              "      <td>yes</td>\n",
              "      <td>southwest</td>\n",
              "      <td>16884.92400</td>\n",
              "    </tr>\n",
              "    <tr>\n",
              "      <th>1</th>\n",
              "      <td>18</td>\n",
              "      <td>male</td>\n",
              "      <td>33.770</td>\n",
              "      <td>1</td>\n",
              "      <td>no</td>\n",
              "      <td>southeast</td>\n",
              "      <td>1725.55230</td>\n",
              "    </tr>\n",
              "    <tr>\n",
              "      <th>2</th>\n",
              "      <td>28</td>\n",
              "      <td>male</td>\n",
              "      <td>33.000</td>\n",
              "      <td>3</td>\n",
              "      <td>no</td>\n",
              "      <td>southeast</td>\n",
              "      <td>4449.46200</td>\n",
              "    </tr>\n",
              "    <tr>\n",
              "      <th>3</th>\n",
              "      <td>33</td>\n",
              "      <td>male</td>\n",
              "      <td>22.705</td>\n",
              "      <td>0</td>\n",
              "      <td>no</td>\n",
              "      <td>northwest</td>\n",
              "      <td>21984.47061</td>\n",
              "    </tr>\n",
              "    <tr>\n",
              "      <th>4</th>\n",
              "      <td>32</td>\n",
              "      <td>male</td>\n",
              "      <td>28.880</td>\n",
              "      <td>0</td>\n",
              "      <td>no</td>\n",
              "      <td>northwest</td>\n",
              "      <td>3866.85520</td>\n",
              "    </tr>\n",
              "  </tbody>\n",
              "</table>\n",
              "</div>\n",
              "    <div class=\"colab-df-buttons\">\n",
              "\n",
              "  <div class=\"colab-df-container\">\n",
              "    <button class=\"colab-df-convert\" onclick=\"convertToInteractive('df-463be02e-e5d1-4a4f-9ff1-2ede92b924ee')\"\n",
              "            title=\"Convert this dataframe to an interactive table.\"\n",
              "            style=\"display:none;\">\n",
              "\n",
              "  <svg xmlns=\"http://www.w3.org/2000/svg\" height=\"24px\" viewBox=\"0 -960 960 960\">\n",
              "    <path d=\"M120-120v-720h720v720H120Zm60-500h600v-160H180v160Zm220 220h160v-160H400v160Zm0 220h160v-160H400v160ZM180-400h160v-160H180v160Zm440 0h160v-160H620v160ZM180-180h160v-160H180v160Zm440 0h160v-160H620v160Z\"/>\n",
              "  </svg>\n",
              "    </button>\n",
              "\n",
              "  <style>\n",
              "    .colab-df-container {\n",
              "      display:flex;\n",
              "      gap: 12px;\n",
              "    }\n",
              "\n",
              "    .colab-df-convert {\n",
              "      background-color: #E8F0FE;\n",
              "      border: none;\n",
              "      border-radius: 50%;\n",
              "      cursor: pointer;\n",
              "      display: none;\n",
              "      fill: #1967D2;\n",
              "      height: 32px;\n",
              "      padding: 0 0 0 0;\n",
              "      width: 32px;\n",
              "    }\n",
              "\n",
              "    .colab-df-convert:hover {\n",
              "      background-color: #E2EBFA;\n",
              "      box-shadow: 0px 1px 2px rgba(60, 64, 67, 0.3), 0px 1px 3px 1px rgba(60, 64, 67, 0.15);\n",
              "      fill: #174EA6;\n",
              "    }\n",
              "\n",
              "    .colab-df-buttons div {\n",
              "      margin-bottom: 4px;\n",
              "    }\n",
              "\n",
              "    [theme=dark] .colab-df-convert {\n",
              "      background-color: #3B4455;\n",
              "      fill: #D2E3FC;\n",
              "    }\n",
              "\n",
              "    [theme=dark] .colab-df-convert:hover {\n",
              "      background-color: #434B5C;\n",
              "      box-shadow: 0px 1px 3px 1px rgba(0, 0, 0, 0.15);\n",
              "      filter: drop-shadow(0px 1px 2px rgba(0, 0, 0, 0.3));\n",
              "      fill: #FFFFFF;\n",
              "    }\n",
              "  </style>\n",
              "\n",
              "    <script>\n",
              "      const buttonEl =\n",
              "        document.querySelector('#df-463be02e-e5d1-4a4f-9ff1-2ede92b924ee button.colab-df-convert');\n",
              "      buttonEl.style.display =\n",
              "        google.colab.kernel.accessAllowed ? 'block' : 'none';\n",
              "\n",
              "      async function convertToInteractive(key) {\n",
              "        const element = document.querySelector('#df-463be02e-e5d1-4a4f-9ff1-2ede92b924ee');\n",
              "        const dataTable =\n",
              "          await google.colab.kernel.invokeFunction('convertToInteractive',\n",
              "                                                    [key], {});\n",
              "        if (!dataTable) return;\n",
              "\n",
              "        const docLinkHtml = 'Like what you see? Visit the ' +\n",
              "          '<a target=\"_blank\" href=https://colab.research.google.com/notebooks/data_table.ipynb>data table notebook</a>'\n",
              "          + ' to learn more about interactive tables.';\n",
              "        element.innerHTML = '';\n",
              "        dataTable['output_type'] = 'display_data';\n",
              "        await google.colab.output.renderOutput(dataTable, element);\n",
              "        const docLink = document.createElement('div');\n",
              "        docLink.innerHTML = docLinkHtml;\n",
              "        element.appendChild(docLink);\n",
              "      }\n",
              "    </script>\n",
              "  </div>\n",
              "\n",
              "\n",
              "<div id=\"df-7cddc879-82b3-4c6c-8f4d-7d44274c91dc\">\n",
              "  <button class=\"colab-df-quickchart\" onclick=\"quickchart('df-7cddc879-82b3-4c6c-8f4d-7d44274c91dc')\"\n",
              "            title=\"Suggest charts.\"\n",
              "            style=\"display:none;\">\n",
              "\n",
              "<svg xmlns=\"http://www.w3.org/2000/svg\" height=\"24px\"viewBox=\"0 0 24 24\"\n",
              "     width=\"24px\">\n",
              "    <g>\n",
              "        <path d=\"M19 3H5c-1.1 0-2 .9-2 2v14c0 1.1.9 2 2 2h14c1.1 0 2-.9 2-2V5c0-1.1-.9-2-2-2zM9 17H7v-7h2v7zm4 0h-2V7h2v10zm4 0h-2v-4h2v4z\"/>\n",
              "    </g>\n",
              "</svg>\n",
              "  </button>\n",
              "\n",
              "<style>\n",
              "  .colab-df-quickchart {\n",
              "      --bg-color: #E8F0FE;\n",
              "      --fill-color: #1967D2;\n",
              "      --hover-bg-color: #E2EBFA;\n",
              "      --hover-fill-color: #174EA6;\n",
              "      --disabled-fill-color: #AAA;\n",
              "      --disabled-bg-color: #DDD;\n",
              "  }\n",
              "\n",
              "  [theme=dark] .colab-df-quickchart {\n",
              "      --bg-color: #3B4455;\n",
              "      --fill-color: #D2E3FC;\n",
              "      --hover-bg-color: #434B5C;\n",
              "      --hover-fill-color: #FFFFFF;\n",
              "      --disabled-bg-color: #3B4455;\n",
              "      --disabled-fill-color: #666;\n",
              "  }\n",
              "\n",
              "  .colab-df-quickchart {\n",
              "    background-color: var(--bg-color);\n",
              "    border: none;\n",
              "    border-radius: 50%;\n",
              "    cursor: pointer;\n",
              "    display: none;\n",
              "    fill: var(--fill-color);\n",
              "    height: 32px;\n",
              "    padding: 0;\n",
              "    width: 32px;\n",
              "  }\n",
              "\n",
              "  .colab-df-quickchart:hover {\n",
              "    background-color: var(--hover-bg-color);\n",
              "    box-shadow: 0 1px 2px rgba(60, 64, 67, 0.3), 0 1px 3px 1px rgba(60, 64, 67, 0.15);\n",
              "    fill: var(--button-hover-fill-color);\n",
              "  }\n",
              "\n",
              "  .colab-df-quickchart-complete:disabled,\n",
              "  .colab-df-quickchart-complete:disabled:hover {\n",
              "    background-color: var(--disabled-bg-color);\n",
              "    fill: var(--disabled-fill-color);\n",
              "    box-shadow: none;\n",
              "  }\n",
              "\n",
              "  .colab-df-spinner {\n",
              "    border: 2px solid var(--fill-color);\n",
              "    border-color: transparent;\n",
              "    border-bottom-color: var(--fill-color);\n",
              "    animation:\n",
              "      spin 1s steps(1) infinite;\n",
              "  }\n",
              "\n",
              "  @keyframes spin {\n",
              "    0% {\n",
              "      border-color: transparent;\n",
              "      border-bottom-color: var(--fill-color);\n",
              "      border-left-color: var(--fill-color);\n",
              "    }\n",
              "    20% {\n",
              "      border-color: transparent;\n",
              "      border-left-color: var(--fill-color);\n",
              "      border-top-color: var(--fill-color);\n",
              "    }\n",
              "    30% {\n",
              "      border-color: transparent;\n",
              "      border-left-color: var(--fill-color);\n",
              "      border-top-color: var(--fill-color);\n",
              "      border-right-color: var(--fill-color);\n",
              "    }\n",
              "    40% {\n",
              "      border-color: transparent;\n",
              "      border-right-color: var(--fill-color);\n",
              "      border-top-color: var(--fill-color);\n",
              "    }\n",
              "    60% {\n",
              "      border-color: transparent;\n",
              "      border-right-color: var(--fill-color);\n",
              "    }\n",
              "    80% {\n",
              "      border-color: transparent;\n",
              "      border-right-color: var(--fill-color);\n",
              "      border-bottom-color: var(--fill-color);\n",
              "    }\n",
              "    90% {\n",
              "      border-color: transparent;\n",
              "      border-bottom-color: var(--fill-color);\n",
              "    }\n",
              "  }\n",
              "</style>\n",
              "\n",
              "  <script>\n",
              "    async function quickchart(key) {\n",
              "      const quickchartButtonEl =\n",
              "        document.querySelector('#' + key + ' button');\n",
              "      quickchartButtonEl.disabled = true;  // To prevent multiple clicks.\n",
              "      quickchartButtonEl.classList.add('colab-df-spinner');\n",
              "      try {\n",
              "        const charts = await google.colab.kernel.invokeFunction(\n",
              "            'suggestCharts', [key], {});\n",
              "      } catch (error) {\n",
              "        console.error('Error during call to suggestCharts:', error);\n",
              "      }\n",
              "      quickchartButtonEl.classList.remove('colab-df-spinner');\n",
              "      quickchartButtonEl.classList.add('colab-df-quickchart-complete');\n",
              "    }\n",
              "    (() => {\n",
              "      let quickchartButtonEl =\n",
              "        document.querySelector('#df-7cddc879-82b3-4c6c-8f4d-7d44274c91dc button');\n",
              "      quickchartButtonEl.style.display =\n",
              "        google.colab.kernel.accessAllowed ? 'block' : 'none';\n",
              "    })();\n",
              "  </script>\n",
              "</div>\n",
              "    </div>\n",
              "  </div>\n"
            ]
          },
          "metadata": {},
          "execution_count": 3
        }
      ]
    },
    {
      "cell_type": "code",
      "source": [
        "print(f\"The dataframe has {df.shape[0]} rows and {df.shape[1]} columns.\")"
      ],
      "metadata": {
        "colab": {
          "base_uri": "https://localhost:8080/"
        },
        "id": "-WzKkJWl11uS",
        "outputId": "36e99c35-9dfb-48d4-965e-3a9771ae1856"
      },
      "execution_count": null,
      "outputs": [
        {
          "output_type": "stream",
          "name": "stdout",
          "text": [
            "The dataframe has 1338 rows and 7 columns.\n"
          ]
        }
      ]
    },
    {
      "cell_type": "code",
      "source": [
        "print(df.columns)"
      ],
      "metadata": {
        "colab": {
          "base_uri": "https://localhost:8080/"
        },
        "id": "G10A0wNMtPZ5",
        "outputId": "b270761d-69fe-44f4-ae78-718c5d5258b5"
      },
      "execution_count": null,
      "outputs": [
        {
          "output_type": "stream",
          "name": "stdout",
          "text": [
            "Index(['age', 'sex', 'bmi', 'children', 'smoker', 'region', 'charges'], dtype='object')\n"
          ]
        }
      ]
    },
    {
      "cell_type": "code",
      "source": [
        "print(\"Information from the 'Age' column:\\n\")\n",
        "print(df.age.describe(),\"\\n\\n\")\n",
        "\n",
        "print(\"Information from the 'BMI' column:\\n\")\n",
        "print(df.bmi.describe(),\"\\n\\n\")\n",
        "\n",
        "print(\"Information from the 'Charges' column:\\n\")\n",
        "print(df.charges.describe())\n"
      ],
      "metadata": {
        "id": "tERpd-uOqT3x",
        "colab": {
          "base_uri": "https://localhost:8080/"
        },
        "outputId": "608bd097-441a-4dae-b27c-3c53f446a7e6"
      },
      "execution_count": null,
      "outputs": [
        {
          "output_type": "stream",
          "name": "stdout",
          "text": [
            "Information from the 'Age' column:\n",
            "\n",
            "count    1338.000000\n",
            "mean       39.207025\n",
            "std        14.049960\n",
            "min        18.000000\n",
            "25%        27.000000\n",
            "50%        39.000000\n",
            "75%        51.000000\n",
            "max        64.000000\n",
            "Name: age, dtype: float64 \n",
            "\n",
            "\n",
            "Information from the 'BMI' column:\n",
            "\n",
            "count    1338.000000\n",
            "mean       30.663397\n",
            "std         6.098187\n",
            "min        15.960000\n",
            "25%        26.296250\n",
            "50%        30.400000\n",
            "75%        34.693750\n",
            "max        53.130000\n",
            "Name: bmi, dtype: float64 \n",
            "\n",
            "\n",
            "Information from the 'Charges' column:\n",
            "\n",
            "count     1338.000000\n",
            "mean     13270.422265\n",
            "std      12110.011237\n",
            "min       1121.873900\n",
            "25%       4740.287150\n",
            "50%       9382.033000\n",
            "75%      16639.912515\n",
            "max      63770.428010\n",
            "Name: charges, dtype: float64\n"
          ]
        }
      ]
    },
    {
      "cell_type": "markdown",
      "source": [
        "To make our work easier and improve the readability of the model, we will create a column of binary values ​​for `\"smokers\"` or `\"non-smokers\"`"
      ],
      "metadata": {
        "id": "2KF9bAPLiIoO"
      }
    },
    {
      "cell_type": "code",
      "source": [
        "df[\"is_smoker\"] = df[\"smoker\"].map({\"yes\":1, \"no\":0})\n",
        "\n",
        "print(df[\"is_smoker\"].head())"
      ],
      "metadata": {
        "colab": {
          "base_uri": "https://localhost:8080/"
        },
        "id": "qi8u-lEHrfra",
        "outputId": "67e055a3-c23c-4f83-f993-6777a3a0cfb7"
      },
      "execution_count": null,
      "outputs": [
        {
          "output_type": "stream",
          "name": "stdout",
          "text": [
            "0    1\n",
            "1    0\n",
            "2    0\n",
            "3    0\n",
            "4    0\n",
            "Name: is_smoker, dtype: int64\n"
          ]
        }
      ]
    },
    {
      "cell_type": "markdown",
      "source": [
        "In the same way as in the previous field, we will create a **binary column for children.**\n",
        "\n",
        "Unlike the `\"smoker\"` column, this information does not just present `\"yes\"` or `\"no\"`, but the number of children.\n",
        "\n",
        "\n",
        "This way, we only need to extract the following data:\n",
        "\n",
        "`0 - If you do not have any children`\n",
        "\n",
        "`1 - If you have one or more children.`"
      ],
      "metadata": {
        "id": "ZSbgoHIri_XF"
      }
    },
    {
      "cell_type": "code",
      "source": [
        "df[\"has_children\"] = df[\"children\"].apply(lambda x : 1 if x > 0 else 0)\n",
        "\n",
        "df[\"has_children\"].head()"
      ],
      "metadata": {
        "colab": {
          "base_uri": "https://localhost:8080/"
        },
        "id": "9aSdi5dJy94Q",
        "outputId": "2cf56f5e-088c-45e8-fef9-045f7bfddb81"
      },
      "execution_count": null,
      "outputs": [
        {
          "output_type": "execute_result",
          "data": {
            "text/plain": [
              "0    0\n",
              "1    1\n",
              "2    1\n",
              "3    0\n",
              "4    0\n",
              "Name: has_children, dtype: int64"
            ]
          },
          "metadata": {},
          "execution_count": 8
        }
      ]
    },
    {
      "cell_type": "markdown",
      "source": [
        "# **Exploratory analysis**\n",
        "\n",
        "After initially checking and working on our dataset, we will analyze it to understand in depth the information contained in it, what is `relevant` and `identify patterns`.\n",
        "\n",
        "To do this, we will use `plots` to help visualize the information."
      ],
      "metadata": {
        "id": "ihrAjBMx0guE"
      }
    },
    {
      "cell_type": "code",
      "source": [
        "import matplotlib.pyplot as plt\n",
        "import seaborn as sns"
      ],
      "metadata": {
        "id": "OguGhK682rBL"
      },
      "execution_count": null,
      "outputs": []
    },
    {
      "cell_type": "markdown",
      "source": [
        "# **Age Distribution**\n",
        "In our exploratory analysis, we want to understand `key points` in our database to better understand our problem and be able to create and monitor a model that is appropriate to this information.\n",
        "\n",
        "In this way, we will investigate the situation of each topic and the correlations of information, checking points of greatest interest.\n",
        "\n",
        "Below we see the distribution of customers by *age*."
      ],
      "metadata": {
        "id": "foBH_6jD6-_C"
      }
    },
    {
      "cell_type": "code",
      "source": [
        "plt.figure(figsize=(12,6))\n",
        "\n",
        "ax = plt.gca()\n",
        "\n",
        "plt.hist(df[\"age\"], bins = 15, color = \"maroon\", edgecolor=\"black\")\n",
        "plt.xlabel(\"Age\")\n",
        "plt.ylabel(\"Frequency\")\n",
        "plt.title(\"Age Distribution\")\n",
        "\n",
        "ax.spines['top'].set_visible(False)\n",
        "ax.spines['right'].set_visible(False)\n",
        "ax.spines['left'].set_visible(False)\n",
        "\n",
        "plt.show()"
      ],
      "metadata": {
        "colab": {
          "base_uri": "https://localhost:8080/",
          "height": 564
        },
        "id": "VuMDHgmL0bWx",
        "outputId": "e1b0d544-6024-4851-f739-14135a92aace"
      },
      "execution_count": null,
      "outputs": [
        {
          "output_type": "display_data",
          "data": {
            "text/plain": [
              "<Figure size 1200x600 with 1 Axes>"
            ],
            "image/png": "[encoded data removed]"
          },
          "metadata": {}
        }
      ]
    },
    {
      "cell_type": "code",
      "source": [
        "df.plot.scatter(x='charges', y='age', alpha=0.5, color=\"maroon\")\n",
        "\n",
        "plt.xlabel('Charges')\n",
        "plt.ylabel('Age')\n",
        "plt.title('Scatter Plot: Age vs Charges')\n",
        "\n",
        "plt.show()"
      ],
      "metadata": {
        "colab": {
          "base_uri": "https://localhost:8080/",
          "height": 472
        },
        "id": "-GcSTKpR_ajA",
        "outputId": "bc8db81e-02fd-459c-99e3-f0cc180a5584"
      },
      "execution_count": null,
      "outputs": [
        {
          "output_type": "display_data",
          "data": {
            "text/plain": [
              "<Figure size 640x480 with 1 Axes>"
            ],
            "image/png": "[encoded data removed]"
          },
          "metadata": {}
        }
      ]
    },
    {
      "cell_type": "markdown",
      "source": [
        "With the help of the scatter plot, we can identify, in relation to costs, where the age averages are positioned.\n",
        "\n",
        "We identify where the darkest points are, where most customers are in the `0 to 11 thousand dollar range.`\n",
        "\n",
        "We can also identify what appear to be categories, where they follow the same patterns as the previous one, but a little further forward, portraying a higher cost.\n",
        "\n",
        "We can see the `pattern repeat on the chart 3 times`.\n",
        "\n",
        "We can also consider some `outliers` after 50 thousand dollars."
      ],
      "metadata": {
        "id": "HXRWo2v1Mbgd"
      }
    },
    {
      "cell_type": "markdown",
      "source": [
        "# **Gender Distribution**"
      ],
      "metadata": {
        "id": "ywvArCOA7DfG"
      }
    },
    {
      "cell_type": "code",
      "source": [
        "gender_counts = df[\"sex\"].value_counts()\n",
        "\n",
        "total = gender_counts.sum()\n",
        "gender_percentages = (gender_counts / total) * 100\n",
        "\n",
        "plt.figure(figsize=(8,6))\n",
        "ax = plt.gca()\n",
        "bars = plt.bar(gender_counts.index, gender_counts.values, color = [\"springgreen\", \"lightcoral\"])\n",
        "plt.xlabel(\"Gender\")\n",
        "plt.ylabel(\"Distribution\")\n",
        "plt.title(\"Gender Distribution\")\n",
        "\n",
        "for bar, percentage in zip(bars, gender_percentages):\n",
        "    plt.text(bar.get_x() + bar.get_width() / 2, bar.get_height() + 1, f'{percentage:.1f}%', ha='center', va='bottom')\n",
        "\n",
        "ax.spines['top'].set_visible(False)\n",
        "ax.spines['right'].set_visible(False)\n",
        "ax.spines['left'].set_visible(False)\n",
        "\n",
        "plt.show()"
      ],
      "metadata": {
        "colab": {
          "base_uri": "https://localhost:8080/",
          "height": 564
        },
        "id": "WaKM8NPb3M2l",
        "outputId": "21480017-2ea7-4a87-a358-ab418b1fd02f"
      },
      "execution_count": null,
      "outputs": [
        {
          "output_type": "display_data",
          "data": {
            "text/plain": [
              "<Figure size 800x600 with 1 Axes>"
            ],
            "image/png": "[encoded data removed]"
          },
          "metadata": {}
        }
      ]
    },
    {
      "cell_type": "markdown",
      "source": [
        "\n",
        "In isolation, this gender distribution information does not tell us much.\n",
        "\n",
        "But it is interesting to identify the almost `50/50` balance between them."
      ],
      "metadata": {
        "id": "8JpUNCCQjlxE"
      }
    },
    {
      "cell_type": "markdown",
      "source": [
        "# **BMI Distribution**\n",
        "\n",
        "**BMI**, or **Body Mass Index**, is a numerical measure used to assess an individual's `body weight in relation to their height`. It is calculated by dividing a person's weight by their height.\n",
        "\n",
        "BMI provides an estimate of whether a person has a healthy body weight, is underweight, overweight, or obese, and it is often used in healthcare settings as a screening tool to evaluate `potential health risks` associated with an individual's weight.\n",
        "\n",
        "### **BMI Categories:**\n",
        "`Underweight` = <18.5\n",
        "\n",
        "`Normal weight` = 18.5–24.9\n",
        "\n",
        "`Overweight` = 25–29.9\n",
        "\n",
        "`Obesity` = BMI of 30 or greater"
      ],
      "metadata": {
        "id": "rZvlxGS07GT4"
      }
    },
    {
      "cell_type": "code",
      "source": [
        "plt.figure(figsize=(12,6))\n",
        "\n",
        "ax = plt.gca()\n",
        "\n",
        "plt.hist(df[\"bmi\"], bins = 15, color = \"silver\", edgecolor=\"black\")\n",
        "plt.xlabel(\"BMI\")\n",
        "plt.ylabel(\"Frequency\")\n",
        "plt.title(\"Body Mass Index Distribution\")\n",
        "\n",
        "ax.spines['top'].set_visible(False)\n",
        "ax.spines['right'].set_visible(False)\n",
        "ax.spines['left'].set_visible(False)\n",
        "\n",
        "plt.show()"
      ],
      "metadata": {
        "colab": {
          "base_uri": "https://localhost:8080/",
          "height": 564
        },
        "id": "yITKBhup4P5T",
        "outputId": "7b72ab79-bcf5-456f-99d3-ff1f9456e345"
      },
      "execution_count": null,
      "outputs": [
        {
          "output_type": "display_data",
          "data": {
            "text/plain": [
              "<Figure size 1200x600 with 1 Axes>"
            ],
            "image/png": "[encoded data removed]"
          },
          "metadata": {}
        }
      ]
    },
    {
      "cell_type": "markdown",
      "source": [
        "This is information that can make a real difference in our target variable, which will be `\"charges\"`.\n",
        "\n",
        "According to your **BMI**, you may be at greater risk of health problems, needing medical support more frequently and for longer, or, if you fall into a very healthy group, your risks may be reduced.\n",
        "\n",
        "\n",
        "<left><img width=\"70%\" src=\"https://images.unsplash.com/photo-1522844990619-4951c40f7eda?ixlib=rb-4.0.3&ixid=M3wxMjA3fDB8MHxwaG90by1wYWdlfHx8fGVufDB8fHx8fA%3D%3D&auto=format&fit=crop&w=2070&q=80\"></left>\n",
        "\n",
        "\n",
        "In our data set, we can observe that the largest number of patients are between 25 and 34 BMI, with the largest group being around 30 BMI.\n",
        "\n",
        "And, according to established standards, these are bad numbers for the group.\n",
        "\n",
        "According to this classification alone, only individuals with a BMI between 18.5 and 24.9 would be at their normal weight.\n",
        "\n",
        "Above that, up to 29.9 would be overweight and above 30 BMI would be obese.\n",
        "\n"
      ],
      "metadata": {
        "id": "Lrlp8_Yuj0yM"
      }
    },
    {
      "cell_type": "markdown",
      "source": [
        "#**Region**"
      ],
      "metadata": {
        "id": "45QsAN3WB9mG"
      }
    },
    {
      "cell_type": "code",
      "source": [
        "region_counts = df[\"region\"].value_counts()\n",
        "\n",
        "total = region_counts.sum()\n",
        "region_percentages = (region_counts / total) * 100\n",
        "\n",
        "plt.figure(figsize=(12,6))\n",
        "ax = plt.gca()\n",
        "bars = plt.bar(region_counts.index, region_counts.values, color = [\"seagreen\", \"tan\", \"slategrey\", \"lightsteelblue\"])\n",
        "plt.xlabel(\"Region\")\n",
        "plt.ylabel(\"Distribution\")\n",
        "plt.title(\"Region Distribution\")\n",
        "\n",
        "for bar, percentage in zip(bars, region_percentages):\n",
        "    plt.text(bar.get_x() + bar.get_width() / 2, bar.get_height() + 1, f'{percentage:.1f}%', ha='center', va='bottom')\n",
        "\n",
        "ax.spines['top'].set_visible(False)\n",
        "ax.spines['right'].set_visible(False)\n",
        "ax.spines['left'].set_visible(False)\n",
        "\n",
        "plt.show()"
      ],
      "metadata": {
        "id": "ELCE4AB06h8q",
        "colab": {
          "base_uri": "https://localhost:8080/",
          "height": 564
        },
        "outputId": "9d851349-9218-4d44-ed4a-41e101e10a0d"
      },
      "execution_count": null,
      "outputs": [
        {
          "output_type": "display_data",
          "data": {
            "text/plain": [
              "<Figure size 1200x600 with 1 Axes>"
            ],
            "image/png": "[encoded data removed]"
          },
          "metadata": {}
        }
      ]
    },
    {
      "cell_type": "markdown",
      "source": [
        "We noticed a slightly larger distribution for the `\"southeast\"` group, but overall we identified a group that was selected in balance between regions."
      ],
      "metadata": {
        "id": "E_0glqSanIUq"
      }
    },
    {
      "cell_type": "markdown",
      "source": [
        "#**Smoker**\n",
        "\n",
        "This topic is very important in the context of health insurance.\n",
        "\n",
        "It is common knowledge the harm that smoking brings to health. Therefore, it is natural to understand that a non-smoker will have different conditions when taking out health insurance.\n",
        "\n",
        "<left><img width=\"55%\" src=\"https://images.unsplash.com/photo-1558327664-f055f92a0937?ixlib=rb-4.0.3&ixid=M3wxMjA3fDB8MHxwaG90by1wYWdlfHx8fGVufDB8fHx8fA%3D%3D&auto=format&fit=crop&w=1780&q=80\"></left>\n",
        "\n",
        "This way, we will check the distribution between smokers and non-smokers in our database, and later, relate it to the costs involved for the customer."
      ],
      "metadata": {
        "id": "yNoe0gEfNC-I"
      }
    },
    {
      "cell_type": "code",
      "source": [
        "smoker_counts = df[\"smoker\"].value_counts()\n",
        "\n",
        "total = smoker_counts.sum()\n",
        "smoker_percentages = (smoker_counts / total) * 100\n",
        "\n",
        "plt.figure(figsize=(8,6))\n",
        "ax = plt.gca()\n",
        "bars = plt.bar(smoker_counts.index, smoker_counts.values, color = [\"gray\", \"palegreen\"])\n",
        "plt.xlabel(\"Smoker\")\n",
        "plt.ylabel(\"Distribution\")\n",
        "plt.title(\"Smoker Distribution\")\n",
        "\n",
        "for bar, percentage in zip(bars, gender_percentages):\n",
        "    plt.text(bar.get_x() + bar.get_width() / 2, bar.get_height() + 1, f'{percentage:.1f}%', ha='center', va='bottom')\n",
        "\n",
        "ax.spines['top'].set_visible(False)\n",
        "ax.spines['right'].set_visible(False)\n",
        "ax.spines['left'].set_visible(False)\n",
        "\n",
        "plt.show()"
      ],
      "metadata": {
        "id": "VPjzmrlJM0Gk",
        "colab": {
          "base_uri": "https://localhost:8080/",
          "height": 564
        },
        "outputId": "6003583c-094d-4f2f-c87c-2b1217091908"
      },
      "execution_count": null,
      "outputs": [
        {
          "output_type": "display_data",
          "data": {
            "text/plain": [
              "<Figure size 800x600 with 1 Axes>"
            ],
            "image/png": "[encoded data removed]"
          },
          "metadata": {}
        }
      ]
    },
    {
      "cell_type": "markdown",
      "source": [
        "The population of smoking customers is also balanced, with the majority being `slightly non-smokers.`\n",
        "\n",
        "However, **mathematically**, we have an equivalent population between the two groups."
      ],
      "metadata": {
        "id": "mLVtwEu1u6nu"
      }
    },
    {
      "cell_type": "markdown",
      "source": [
        "# **Correlation Matrix**\n",
        "\n",
        "A correlation matrix is a fundamental tool in the analysis of a DataFrame, as it provides a comprehensive view of the relationships between variables.\n",
        "\n",
        "This matrix displays correlation coefficients that measure the direction and strength of associations between data columns.\n",
        "\n",
        "The utility of this matrix lies in i`dentifying patterns and hidden trends` in the data.\n",
        "\n",
        "Values close to `+1` indicate a **strong positive correlation**, `-1` indicates a **strong negative correlation**, and `0` indicates **no correlation**.\n",
        "\n",
        "Based on this information, analysts can make informed decisions, such as selecting relevant variables for statistical modeling or identifying multicollinearity, which can affect the accuracy of regression models.\n",
        "\n",
        "In summary, the correlation matrix is a valuable tool for understanding `relationships between variables` and guiding deeper analyses."
      ],
      "metadata": {
        "id": "hSd0nI7LAlYU"
      }
    },
    {
      "cell_type": "code",
      "source": [
        "columns_to_remove = [\"smoker\", \"has_children\"]\n",
        "df_filtered = df.drop(columns=columns_to_remove)\n",
        "correlation_matrix = df_filtered.corr()\n",
        "\n",
        "plt.figure(figsize=(10,8))\n",
        "sns.heatmap(correlation_matrix,\n",
        "            annot=True,\n",
        "            cmap=\"coolwarm\",\n",
        "            fmt=\".2f\",\n",
        "            linewidths=0.5)\n",
        "\n",
        "plt.title(\"Correlation Matrix\")\n",
        "\n",
        "plt.show()\n"
      ],
      "metadata": {
        "colab": {
          "base_uri": "https://localhost:8080/",
          "height": 754
        },
        "id": "t_6RGdut-8bO",
        "outputId": "2f1dadbd-f995-4dbd-b01a-c84f1b030080"
      },
      "execution_count": null,
      "outputs": [
        {
          "output_type": "stream",
          "name": "stderr",
          "text": [
            "<ipython-input-16-1fd4ab4cf7c6>:3: FutureWarning: The default value of numeric_only in DataFrame.corr is deprecated. In a future version, it will default to False. Select only valid columns or specify the value of numeric_only to silence this warning.\n",
            "  correlation_matrix = df_filtered.corr()\n"
          ]
        },
        {
          "output_type": "display_data",
          "data": {
            "text/plain": [
              "<Figure size 1000x800 with 2 Axes>"
            ],
            "image/png": "[encoded data removed]"
          },
          "metadata": {}
        }
      ]
    },
    {
      "cell_type": "markdown",
      "source": [
        "In our correlation matrix we identify variables related to each other, demonstrating the degree of relationship.\n",
        "\n",
        "Considering the target variable as `\"charges\"`, the correlation pattern follows the following order, from highest to lowest correlation:\n",
        "\n",
        "`\"is_smoker\"` - The person being a smoker has a high degree of variation in the \"charges\" variable - `0.79`.\n",
        "\n",
        "`\"age\"` - The person's age also plays a role in relation to the costs involved, but to a lesser extent.\n",
        "\n",
        "`\"bmi\"` - It was expected that BMI could have an impact on the \"charges\" column, however, with the correlation at just `0.20`, we identified a low-impact relationship.\n",
        "\n",
        "`\"children\"` - This is the variable with the smallest relation to \"charges\"\n",
        "\n",
        "\n",
        "Note: We identified a negative relationship of `-0.03` between `\"is_smoker\"` and `\"age\".`"
      ],
      "metadata": {
        "id": "9jGYzFmj36Dz"
      }
    },
    {
      "cell_type": "markdown",
      "source": [
        "# **Auto ML Model**\n",
        "\n",
        "For our project we will use the Auto Machine Learning framework, `PyCaret`.\n",
        "\n",
        "\n",
        "<p align=\"center\"><img src=\"https://pycaret.org/wp-content/uploads/2020/03/Divi93_43.png\" width=\"60%\"></p>\n",
        "\n",
        "\n",
        "PyCaret is an open-source Python library designed to simplify the process of developing and deploying machine learning models.\n",
        "\n",
        "Its functionality spans from data preparation to model selection and performance evaluation, all within a single environment.\n",
        "\n",
        "PyCaret offers a high-level interface that enables data scientists and analysts to quickly explore various modeling techniques, optimize hyperparameters, and automate common tasks such as handling missing values and encoding categorical variables.\n",
        "\n",
        "Additionally, PyCaret streamlines model deployment, making it a valuable tool for speeding up machine learning and data analysis projects, saving professionals time and effort.\n",
        "\n",
        "PyCaret is closely related to the concept of AutoML (Automated Machine Learning).\n",
        "\n",
        "AutoML refers to the automation of essential tasks in the machine learning model development lifecycle, such as data preprocessing, model selection, hyperparameter optimization, and performance evaluation.\n",
        "\n",
        "\n",
        "When using PyCaret, users can leverage its AutoML capabilities to expedite and simplify the machine learning model development process.\n",
        "\n",
        "PyCaret automates many of the tedious and complex tasks, allowing data scientists and analysts to focus more on interpreting results and making strategic decisions.\n",
        "\n",
        "Through a single PyCaret environment, professionals can experiment with different modeling algorithms, optimize hyperparameters, perform cross-validation, generate performance visualizations, and even deploy models into production.\n",
        "\n",
        "This makes the model creation process more efficient and accessible for a wide range of users, regardless of their level of expertise in machine learning. In summary, PyCaret is a tool that streamlines AutoML implementation and facilitates the development of high-quality machine learning models.\n"
      ],
      "metadata": {
        "id": "czYaY5DfBp4g"
      }
    },
    {
      "cell_type": "code",
      "source": [
        "#separating data into test and training\n",
        "\n",
        "test = df.sample(frac=0.10)\n",
        "train = df.drop(test.index)\n",
        "\n",
        "test.reset_index(inplace=True, drop=True)\n",
        "train.reset_index(inplace=True, drop=True)\n"
      ],
      "metadata": {
        "id": "T2vP6fQDAvkw"
      },
      "execution_count": null,
      "outputs": []
    },
    {
      "cell_type": "code",
      "source": [
        "print(\"Test Data:\",test.shape)\n",
        "print(\"Train Data:\",train.shape)"
      ],
      "metadata": {
        "colab": {
          "base_uri": "https://localhost:8080/"
        },
        "id": "5IE5iKiSdKB8",
        "outputId": "62795c49-50f9-44c1-f134-5775748f07a7"
      },
      "execution_count": null,
      "outputs": [
        {
          "output_type": "stream",
          "name": "stdout",
          "text": [
            "Test Data: (134, 9)\n",
            "Train Data: (1204, 9)\n"
          ]
        }
      ]
    },
    {
      "cell_type": "markdown",
      "source": [
        "# **Importing PyCaret Regression library**"
      ],
      "metadata": {
        "id": "bex7ydb2dq-V"
      }
    },
    {
      "cell_type": "code",
      "source": [
        "from pycaret.regression import *"
      ],
      "metadata": {
        "id": "AYIFAUTMdQyf"
      },
      "execution_count": null,
      "outputs": []
    },
    {
      "cell_type": "markdown",
      "source": [
        "At this point, we will pass our *data* to PyCaret to start exploring the data and preparing our model.\n",
        "\n",
        "Here, we will create a regressor `(reg)`, and we will pass the data, and the `target variable.`"
      ],
      "metadata": {
        "id": "TIWHqnQrdyYl"
      }
    },
    {
      "cell_type": "code",
      "source": [
        "reg = setup(data=train, target = \"charges\")"
      ],
      "metadata": {
        "colab": {
          "base_uri": "https://localhost:8080/",
          "height": 770
        },
        "id": "I92ekP8TdfF6",
        "outputId": "1767d377-75bb-428b-e0a3-e36c0d2c87b5"
      },
      "execution_count": null,
      "outputs": [
        {
          "output_type": "display_data",
          "data": {
            "text/plain": [
              "<pandas.io.formats.style.Styler at 0x7e201edf0f40>"
            ],
            "text/html": [
              "<style type=\"text/css\">\n",
              "#T_aaefe_row10_col1 {\n",
              "  background-color: lightgreen;\n",
              "}\n",
              "</style>\n",
              "<table id=\"T_aaefe\" class=\"dataframe\">\n",
              "  <thead>\n",
              "    <tr>\n",
              "      <th class=\"blank level0\" >&nbsp;</th>\n",
              "      <th id=\"T_aaefe_level0_col0\" class=\"col_heading level0 col0\" >Description</th>\n",
              "      <th id=\"T_aaefe_level0_col1\" class=\"col_heading level0 col1\" >Value</th>\n",
              "    </tr>\n",
              "  </thead>\n",
              "  <tbody>\n",
              "    <tr>\n",
              "      <th id=\"T_aaefe_level0_row0\" class=\"row_heading level0 row0\" >0</th>\n",
              "      <td id=\"T_aaefe_row0_col0\" class=\"data row0 col0\" >Session id</td>\n",
              "      <td id=\"T_aaefe_row0_col1\" class=\"data row0 col1\" >8257</td>\n",
              "    </tr>\n",
              "    <tr>\n",
              "      <th id=\"T_aaefe_level0_row1\" class=\"row_heading level0 row1\" >1</th>\n",
              "      <td id=\"T_aaefe_row1_col0\" class=\"data row1 col0\" >Target</td>\n",
              "      <td id=\"T_aaefe_row1_col1\" class=\"data row1 col1\" >charges</td>\n",
              "    </tr>\n",
              "    <tr>\n",
              "      <th id=\"T_aaefe_level0_row2\" class=\"row_heading level0 row2\" >2</th>\n",
              "      <td id=\"T_aaefe_row2_col0\" class=\"data row2 col0\" >Target type</td>\n",
              "      <td id=\"T_aaefe_row2_col1\" class=\"data row2 col1\" >Regression</td>\n",
              "    </tr>\n",
              "    <tr>\n",
              "      <th id=\"T_aaefe_level0_row3\" class=\"row_heading level0 row3\" >3</th>\n",
              "      <td id=\"T_aaefe_row3_col0\" class=\"data row3 col0\" >Original data shape</td>\n",
              "      <td id=\"T_aaefe_row3_col1\" class=\"data row3 col1\" >(1204, 9)</td>\n",
              "    </tr>\n",
              "    <tr>\n",
              "      <th id=\"T_aaefe_level0_row4\" class=\"row_heading level0 row4\" >4</th>\n",
              "      <td id=\"T_aaefe_row4_col0\" class=\"data row4 col0\" >Transformed data shape</td>\n",
              "      <td id=\"T_aaefe_row4_col1\" class=\"data row4 col1\" >(1204, 12)</td>\n",
              "    </tr>\n",
              "    <tr>\n",
              "      <th id=\"T_aaefe_level0_row5\" class=\"row_heading level0 row5\" >5</th>\n",
              "      <td id=\"T_aaefe_row5_col0\" class=\"data row5 col0\" >Transformed train set shape</td>\n",
              "      <td id=\"T_aaefe_row5_col1\" class=\"data row5 col1\" >(842, 12)</td>\n",
              "    </tr>\n",
              "    <tr>\n",
              "      <th id=\"T_aaefe_level0_row6\" class=\"row_heading level0 row6\" >6</th>\n",
              "      <td id=\"T_aaefe_row6_col0\" class=\"data row6 col0\" >Transformed test set shape</td>\n",
              "      <td id=\"T_aaefe_row6_col1\" class=\"data row6 col1\" >(362, 12)</td>\n",
              "    </tr>\n",
              "    <tr>\n",
              "      <th id=\"T_aaefe_level0_row7\" class=\"row_heading level0 row7\" >7</th>\n",
              "      <td id=\"T_aaefe_row7_col0\" class=\"data row7 col0\" >Ordinal features</td>\n",
              "      <td id=\"T_aaefe_row7_col1\" class=\"data row7 col1\" >2</td>\n",
              "    </tr>\n",
              "    <tr>\n",
              "      <th id=\"T_aaefe_level0_row8\" class=\"row_heading level0 row8\" >8</th>\n",
              "      <td id=\"T_aaefe_row8_col0\" class=\"data row8 col0\" >Numeric features</td>\n",
              "      <td id=\"T_aaefe_row8_col1\" class=\"data row8 col1\" >5</td>\n",
              "    </tr>\n",
              "    <tr>\n",
              "      <th id=\"T_aaefe_level0_row9\" class=\"row_heading level0 row9\" >9</th>\n",
              "      <td id=\"T_aaefe_row9_col0\" class=\"data row9 col0\" >Categorical features</td>\n",
              "      <td id=\"T_aaefe_row9_col1\" class=\"data row9 col1\" >3</td>\n",
              "    </tr>\n",
              "    <tr>\n",
              "      <th id=\"T_aaefe_level0_row10\" class=\"row_heading level0 row10\" >10</th>\n",
              "      <td id=\"T_aaefe_row10_col0\" class=\"data row10 col0\" >Preprocess</td>\n",
              "      <td id=\"T_aaefe_row10_col1\" class=\"data row10 col1\" >True</td>\n",
              "    </tr>\n",
              "    <tr>\n",
              "      <th id=\"T_aaefe_level0_row11\" class=\"row_heading level0 row11\" >11</th>\n",
              "      <td id=\"T_aaefe_row11_col0\" class=\"data row11 col0\" >Imputation type</td>\n",
              "      <td id=\"T_aaefe_row11_col1\" class=\"data row11 col1\" >simple</td>\n",
              "    </tr>\n",
              "    <tr>\n",
              "      <th id=\"T_aaefe_level0_row12\" class=\"row_heading level0 row12\" >12</th>\n",
              "      <td id=\"T_aaefe_row12_col0\" class=\"data row12 col0\" >Numeric imputation</td>\n",
              "      <td id=\"T_aaefe_row12_col1\" class=\"data row12 col1\" >mean</td>\n",
              "    </tr>\n",
              "    <tr>\n",
              "      <th id=\"T_aaefe_level0_row13\" class=\"row_heading level0 row13\" >13</th>\n",
              "      <td id=\"T_aaefe_row13_col0\" class=\"data row13 col0\" >Categorical imputation</td>\n",
              "      <td id=\"T_aaefe_row13_col1\" class=\"data row13 col1\" >mode</td>\n",
              "    </tr>\n",
              "    <tr>\n",
              "      <th id=\"T_aaefe_level0_row14\" class=\"row_heading level0 row14\" >14</th>\n",
              "      <td id=\"T_aaefe_row14_col0\" class=\"data row14 col0\" >Maximum one-hot encoding</td>\n",
              "      <td id=\"T_aaefe_row14_col1\" class=\"data row14 col1\" >25</td>\n",
              "    </tr>\n",
              "    <tr>\n",
              "      <th id=\"T_aaefe_level0_row15\" class=\"row_heading level0 row15\" >15</th>\n",
              "      <td id=\"T_aaefe_row15_col0\" class=\"data row15 col0\" >Encoding method</td>\n",
              "      <td id=\"T_aaefe_row15_col1\" class=\"data row15 col1\" >None</td>\n",
              "    </tr>\n",
              "    <tr>\n",
              "      <th id=\"T_aaefe_level0_row16\" class=\"row_heading level0 row16\" >16</th>\n",
              "      <td id=\"T_aaefe_row16_col0\" class=\"data row16 col0\" >Fold Generator</td>\n",
              "      <td id=\"T_aaefe_row16_col1\" class=\"data row16 col1\" >KFold</td>\n",
              "    </tr>\n",
              "    <tr>\n",
              "      <th id=\"T_aaefe_level0_row17\" class=\"row_heading level0 row17\" >17</th>\n",
              "      <td id=\"T_aaefe_row17_col0\" class=\"data row17 col0\" >Fold Number</td>\n",
              "      <td id=\"T_aaefe_row17_col1\" class=\"data row17 col1\" >10</td>\n",
              "    </tr>\n",
              "    <tr>\n",
              "      <th id=\"T_aaefe_level0_row18\" class=\"row_heading level0 row18\" >18</th>\n",
              "      <td id=\"T_aaefe_row18_col0\" class=\"data row18 col0\" >CPU Jobs</td>\n",
              "      <td id=\"T_aaefe_row18_col1\" class=\"data row18 col1\" >-1</td>\n",
              "    </tr>\n",
              "    <tr>\n",
              "      <th id=\"T_aaefe_level0_row19\" class=\"row_heading level0 row19\" >19</th>\n",
              "      <td id=\"T_aaefe_row19_col0\" class=\"data row19 col0\" >Use GPU</td>\n",
              "      <td id=\"T_aaefe_row19_col1\" class=\"data row19 col1\" >False</td>\n",
              "    </tr>\n",
              "    <tr>\n",
              "      <th id=\"T_aaefe_level0_row20\" class=\"row_heading level0 row20\" >20</th>\n",
              "      <td id=\"T_aaefe_row20_col0\" class=\"data row20 col0\" >Log Experiment</td>\n",
              "      <td id=\"T_aaefe_row20_col1\" class=\"data row20 col1\" >False</td>\n",
              "    </tr>\n",
              "    <tr>\n",
              "      <th id=\"T_aaefe_level0_row21\" class=\"row_heading level0 row21\" >21</th>\n",
              "      <td id=\"T_aaefe_row21_col0\" class=\"data row21 col0\" >Experiment Name</td>\n",
              "      <td id=\"T_aaefe_row21_col1\" class=\"data row21 col1\" >reg-default-name</td>\n",
              "    </tr>\n",
              "    <tr>\n",
              "      <th id=\"T_aaefe_level0_row22\" class=\"row_heading level0 row22\" >22</th>\n",
              "      <td id=\"T_aaefe_row22_col0\" class=\"data row22 col0\" >USI</td>\n",
              "      <td id=\"T_aaefe_row22_col1\" class=\"data row22 col1\" >18cc</td>\n",
              "    </tr>\n",
              "  </tbody>\n",
              "</table>\n"
            ]
          },
          "metadata": {}
        }
      ]
    },
    {
      "cell_type": "markdown",
      "source": [
        "# **Creating a Pipeline**"
      ],
      "metadata": {
        "id": "lexB8zO9eGsH"
      }
    },
    {
      "cell_type": "code",
      "source": [
        "reg = setup(data = train,\n",
        "            target = \"charges\",\n",
        "            normalize = True,\n",
        "            log_experiment = True,\n",
        "            experiment_name = \"charges_01\")"
      ],
      "metadata": {
        "colab": {
          "base_uri": "https://localhost:8080/",
          "height": 850
        },
        "id": "1JM2WQyneK31",
        "outputId": "b36b3c4f-667d-412d-dc1d-e97c97bffa3d"
      },
      "execution_count": null,
      "outputs": [
        {
          "output_type": "display_data",
          "data": {
            "text/plain": [
              "<pandas.io.formats.style.Styler at 0x7e201f28beb0>"
            ],
            "text/html": [
              "<style type=\"text/css\">\n",
              "#T_3fbfd_row10_col1, #T_3fbfd_row16_col1 {\n",
              "  background-color: lightgreen;\n",
              "}\n",
              "</style>\n",
              "<table id=\"T_3fbfd\" class=\"dataframe\">\n",
              "  <thead>\n",
              "    <tr>\n",
              "      <th class=\"blank level0\" >&nbsp;</th>\n",
              "      <th id=\"T_3fbfd_level0_col0\" class=\"col_heading level0 col0\" >Description</th>\n",
              "      <th id=\"T_3fbfd_level0_col1\" class=\"col_heading level0 col1\" >Value</th>\n",
              "    </tr>\n",
              "  </thead>\n",
              "  <tbody>\n",
              "    <tr>\n",
              "      <th id=\"T_3fbfd_level0_row0\" class=\"row_heading level0 row0\" >0</th>\n",
              "      <td id=\"T_3fbfd_row0_col0\" class=\"data row0 col0\" >Session id</td>\n",
              "      <td id=\"T_3fbfd_row0_col1\" class=\"data row0 col1\" >1314</td>\n",
              "    </tr>\n",
              "    <tr>\n",
              "      <th id=\"T_3fbfd_level0_row1\" class=\"row_heading level0 row1\" >1</th>\n",
              "      <td id=\"T_3fbfd_row1_col0\" class=\"data row1 col0\" >Target</td>\n",
              "      <td id=\"T_3fbfd_row1_col1\" class=\"data row1 col1\" >charges</td>\n",
              "    </tr>\n",
              "    <tr>\n",
              "      <th id=\"T_3fbfd_level0_row2\" class=\"row_heading level0 row2\" >2</th>\n",
              "      <td id=\"T_3fbfd_row2_col0\" class=\"data row2 col0\" >Target type</td>\n",
              "      <td id=\"T_3fbfd_row2_col1\" class=\"data row2 col1\" >Regression</td>\n",
              "    </tr>\n",
              "    <tr>\n",
              "      <th id=\"T_3fbfd_level0_row3\" class=\"row_heading level0 row3\" >3</th>\n",
              "      <td id=\"T_3fbfd_row3_col0\" class=\"data row3 col0\" >Original data shape</td>\n",
              "      <td id=\"T_3fbfd_row3_col1\" class=\"data row3 col1\" >(1204, 9)</td>\n",
              "    </tr>\n",
              "    <tr>\n",
              "      <th id=\"T_3fbfd_level0_row4\" class=\"row_heading level0 row4\" >4</th>\n",
              "      <td id=\"T_3fbfd_row4_col0\" class=\"data row4 col0\" >Transformed data shape</td>\n",
              "      <td id=\"T_3fbfd_row4_col1\" class=\"data row4 col1\" >(1204, 12)</td>\n",
              "    </tr>\n",
              "    <tr>\n",
              "      <th id=\"T_3fbfd_level0_row5\" class=\"row_heading level0 row5\" >5</th>\n",
              "      <td id=\"T_3fbfd_row5_col0\" class=\"data row5 col0\" >Transformed train set shape</td>\n",
              "      <td id=\"T_3fbfd_row5_col1\" class=\"data row5 col1\" >(842, 12)</td>\n",
              "    </tr>\n",
              "    <tr>\n",
              "      <th id=\"T_3fbfd_level0_row6\" class=\"row_heading level0 row6\" >6</th>\n",
              "      <td id=\"T_3fbfd_row6_col0\" class=\"data row6 col0\" >Transformed test set shape</td>\n",
              "      <td id=\"T_3fbfd_row6_col1\" class=\"data row6 col1\" >(362, 12)</td>\n",
              "    </tr>\n",
              "    <tr>\n",
              "      <th id=\"T_3fbfd_level0_row7\" class=\"row_heading level0 row7\" >7</th>\n",
              "      <td id=\"T_3fbfd_row7_col0\" class=\"data row7 col0\" >Ordinal features</td>\n",
              "      <td id=\"T_3fbfd_row7_col1\" class=\"data row7 col1\" >2</td>\n",
              "    </tr>\n",
              "    <tr>\n",
              "      <th id=\"T_3fbfd_level0_row8\" class=\"row_heading level0 row8\" >8</th>\n",
              "      <td id=\"T_3fbfd_row8_col0\" class=\"data row8 col0\" >Numeric features</td>\n",
              "      <td id=\"T_3fbfd_row8_col1\" class=\"data row8 col1\" >5</td>\n",
              "    </tr>\n",
              "    <tr>\n",
              "      <th id=\"T_3fbfd_level0_row9\" class=\"row_heading level0 row9\" >9</th>\n",
              "      <td id=\"T_3fbfd_row9_col0\" class=\"data row9 col0\" >Categorical features</td>\n",
              "      <td id=\"T_3fbfd_row9_col1\" class=\"data row9 col1\" >3</td>\n",
              "    </tr>\n",
              "    <tr>\n",
              "      <th id=\"T_3fbfd_level0_row10\" class=\"row_heading level0 row10\" >10</th>\n",
              "      <td id=\"T_3fbfd_row10_col0\" class=\"data row10 col0\" >Preprocess</td>\n",
              "      <td id=\"T_3fbfd_row10_col1\" class=\"data row10 col1\" >True</td>\n",
              "    </tr>\n",
              "    <tr>\n",
              "      <th id=\"T_3fbfd_level0_row11\" class=\"row_heading level0 row11\" >11</th>\n",
              "      <td id=\"T_3fbfd_row11_col0\" class=\"data row11 col0\" >Imputation type</td>\n",
              "      <td id=\"T_3fbfd_row11_col1\" class=\"data row11 col1\" >simple</td>\n",
              "    </tr>\n",
              "    <tr>\n",
              "      <th id=\"T_3fbfd_level0_row12\" class=\"row_heading level0 row12\" >12</th>\n",
              "      <td id=\"T_3fbfd_row12_col0\" class=\"data row12 col0\" >Numeric imputation</td>\n",
              "      <td id=\"T_3fbfd_row12_col1\" class=\"data row12 col1\" >mean</td>\n",
              "    </tr>\n",
              "    <tr>\n",
              "      <th id=\"T_3fbfd_level0_row13\" class=\"row_heading level0 row13\" >13</th>\n",
              "      <td id=\"T_3fbfd_row13_col0\" class=\"data row13 col0\" >Categorical imputation</td>\n",
              "      <td id=\"T_3fbfd_row13_col1\" class=\"data row13 col1\" >mode</td>\n",
              "    </tr>\n",
              "    <tr>\n",
              "      <th id=\"T_3fbfd_level0_row14\" class=\"row_heading level0 row14\" >14</th>\n",
              "      <td id=\"T_3fbfd_row14_col0\" class=\"data row14 col0\" >Maximum one-hot encoding</td>\n",
              "      <td id=\"T_3fbfd_row14_col1\" class=\"data row14 col1\" >25</td>\n",
              "    </tr>\n",
              "    <tr>\n",
              "      <th id=\"T_3fbfd_level0_row15\" class=\"row_heading level0 row15\" >15</th>\n",
              "      <td id=\"T_3fbfd_row15_col0\" class=\"data row15 col0\" >Encoding method</td>\n",
              "      <td id=\"T_3fbfd_row15_col1\" class=\"data row15 col1\" >None</td>\n",
              "    </tr>\n",
              "    <tr>\n",
              "      <th id=\"T_3fbfd_level0_row16\" class=\"row_heading level0 row16\" >16</th>\n",
              "      <td id=\"T_3fbfd_row16_col0\" class=\"data row16 col0\" >Normalize</td>\n",
              "      <td id=\"T_3fbfd_row16_col1\" class=\"data row16 col1\" >True</td>\n",
              "    </tr>\n",
              "    <tr>\n",
              "      <th id=\"T_3fbfd_level0_row17\" class=\"row_heading level0 row17\" >17</th>\n",
              "      <td id=\"T_3fbfd_row17_col0\" class=\"data row17 col0\" >Normalize method</td>\n",
              "      <td id=\"T_3fbfd_row17_col1\" class=\"data row17 col1\" >zscore</td>\n",
              "    </tr>\n",
              "    <tr>\n",
              "      <th id=\"T_3fbfd_level0_row18\" class=\"row_heading level0 row18\" >18</th>\n",
              "      <td id=\"T_3fbfd_row18_col0\" class=\"data row18 col0\" >Fold Generator</td>\n",
              "      <td id=\"T_3fbfd_row18_col1\" class=\"data row18 col1\" >KFold</td>\n",
              "    </tr>\n",
              "    <tr>\n",
              "      <th id=\"T_3fbfd_level0_row19\" class=\"row_heading level0 row19\" >19</th>\n",
              "      <td id=\"T_3fbfd_row19_col0\" class=\"data row19 col0\" >Fold Number</td>\n",
              "      <td id=\"T_3fbfd_row19_col1\" class=\"data row19 col1\" >10</td>\n",
              "    </tr>\n",
              "    <tr>\n",
              "      <th id=\"T_3fbfd_level0_row20\" class=\"row_heading level0 row20\" >20</th>\n",
              "      <td id=\"T_3fbfd_row20_col0\" class=\"data row20 col0\" >CPU Jobs</td>\n",
              "      <td id=\"T_3fbfd_row20_col1\" class=\"data row20 col1\" >-1</td>\n",
              "    </tr>\n",
              "    <tr>\n",
              "      <th id=\"T_3fbfd_level0_row21\" class=\"row_heading level0 row21\" >21</th>\n",
              "      <td id=\"T_3fbfd_row21_col0\" class=\"data row21 col0\" >Use GPU</td>\n",
              "      <td id=\"T_3fbfd_row21_col1\" class=\"data row21 col1\" >False</td>\n",
              "    </tr>\n",
              "    <tr>\n",
              "      <th id=\"T_3fbfd_level0_row22\" class=\"row_heading level0 row22\" >22</th>\n",
              "      <td id=\"T_3fbfd_row22_col0\" class=\"data row22 col0\" >Log Experiment</td>\n",
              "      <td id=\"T_3fbfd_row22_col1\" class=\"data row22 col1\" >MlflowLogger</td>\n",
              "    </tr>\n",
              "    <tr>\n",
              "      <th id=\"T_3fbfd_level0_row23\" class=\"row_heading level0 row23\" >23</th>\n",
              "      <td id=\"T_3fbfd_row23_col0\" class=\"data row23 col0\" >Experiment Name</td>\n",
              "      <td id=\"T_3fbfd_row23_col1\" class=\"data row23 col1\" >charges_01</td>\n",
              "    </tr>\n",
              "    <tr>\n",
              "      <th id=\"T_3fbfd_level0_row24\" class=\"row_heading level0 row24\" >24</th>\n",
              "      <td id=\"T_3fbfd_row24_col0\" class=\"data row24 col0\" >USI</td>\n",
              "      <td id=\"T_3fbfd_row24_col1\" class=\"data row24 col1\" >0cfa</td>\n",
              "    </tr>\n",
              "  </tbody>\n",
              "</table>\n"
            ]
          },
          "metadata": {}
        },
        {
          "output_type": "stream",
          "name": "stderr",
          "text": [
            "2023/10/09 14:21:39 INFO mlflow.tracking.fluent: Experiment with name 'charges_01' does not exist. Creating a new experiment.\n"
          ]
        }
      ]
    },
    {
      "cell_type": "markdown",
      "source": [
        "# **Comparing Models**\n",
        "\n",
        "\n",
        "<left><img width=\"55%\" src=\"https://images.unsplash.com/photo-1464374288807-174911d4adb9?ixlib=rb-4.0.3&ixid=M3wxMjA3fDB8MHxwaG90by1wYWdlfHx8fGVufDB8fHx8fA%3D%3D&auto=format&fit=crop&w=1890&q=80\"></left>\n",
        "\n",
        "If you have a specific model you **need to use**, there is no need to compare models, but in the real world this will **rarely** be the case. It is usually necessary to evaluate and decide the best model to use.\n",
        "\n",
        "To do this, `comparing all models` will be a good starting point.\n",
        "\n",
        "This function trains all models in the `PyCaret` library and evaluates them using `cross-validation`. For evaluation, the function prints a table that shows the average of MAE, MSE, RMSE, R2, RMSLE and MAPE across the folds `(10 by default)` of all models available in the library.\n",
        "\n",
        "* MAE - Mean Absolute Error shows the mean error in absolute values.\n",
        "* MSE - Mean Squared Error\n",
        "* RMSE - Root Mean Squared Error\n",
        "* R2 - Coefficient of Determination R2 Score\n",
        "* RMSLE - Root Mean Squared Log Error\n",
        "* MAPE - Mean Absolute Percentage Error shows the mean absolute error in percentage values."
      ],
      "metadata": {
        "id": "ACzsO3vZ1dAg"
      }
    },
    {
      "cell_type": "code",
      "source": [
        "models()"
      ],
      "metadata": {
        "colab": {
          "base_uri": "https://localhost:8080/",
          "height": 864
        },
        "id": "M4Hgxg5D6JxA",
        "outputId": "1cd819f8-4c75-4134-abcd-a23b1cbaa73f"
      },
      "execution_count": null,
      "outputs": [
        {
          "output_type": "execute_result",
          "data": {
            "text/plain": [
              "                                       Name  \\\n",
              "ID                                            \n",
              "lr                        Linear Regression   \n",
              "lasso                      Lasso Regression   \n",
              "ridge                      Ridge Regression   \n",
              "en                              Elastic Net   \n",
              "lar                  Least Angle Regression   \n",
              "llar           Lasso Least Angle Regression   \n",
              "omp             Orthogonal Matching Pursuit   \n",
              "br                           Bayesian Ridge   \n",
              "ard       Automatic Relevance Determination   \n",
              "par            Passive Aggressive Regressor   \n",
              "ransac              Random Sample Consensus   \n",
              "tr                       TheilSen Regressor   \n",
              "huber                       Huber Regressor   \n",
              "kr                             Kernel Ridge   \n",
              "svm               Support Vector Regression   \n",
              "knn                   K Neighbors Regressor   \n",
              "dt                  Decision Tree Regressor   \n",
              "rf                  Random Forest Regressor   \n",
              "et                    Extra Trees Regressor   \n",
              "ada                      AdaBoost Regressor   \n",
              "gbr             Gradient Boosting Regressor   \n",
              "mlp                           MLP Regressor   \n",
              "xgboost           Extreme Gradient Boosting   \n",
              "lightgbm    Light Gradient Boosting Machine   \n",
              "dummy                       Dummy Regressor   \n",
              "\n",
              "                                                  Reference  Turbo  \n",
              "ID                                                                  \n",
              "lr              sklearn.linear_model._base.LinearRegression   True  \n",
              "lasso        sklearn.linear_model._coordinate_descent.Lasso   True  \n",
              "ridge                     sklearn.linear_model._ridge.Ridge   True  \n",
              "en        sklearn.linear_model._coordinate_descent.Elast...   True  \n",
              "lar                  sklearn.linear_model._least_angle.Lars   True  \n",
              "llar            sklearn.linear_model._least_angle.LassoLars   True  \n",
              "omp       sklearn.linear_model._omp.OrthogonalMatchingPu...   True  \n",
              "br                sklearn.linear_model._bayes.BayesianRidge   True  \n",
              "ard               sklearn.linear_model._bayes.ARDRegression  False  \n",
              "par       sklearn.linear_model._passive_aggressive.Passi...   True  \n",
              "ransac         sklearn.linear_model._ransac.RANSACRegressor  False  \n",
              "tr        sklearn.linear_model._theil_sen.TheilSenRegressor  False  \n",
              "huber            sklearn.linear_model._huber.HuberRegressor   True  \n",
              "kr                         sklearn.kernel_ridge.KernelRidge  False  \n",
              "svm                                sklearn.svm._classes.SVR  False  \n",
              "knn       sklearn.neighbors._regression.KNeighborsRegressor   True  \n",
              "dt              sklearn.tree._classes.DecisionTreeRegressor   True  \n",
              "rf           sklearn.ensemble._forest.RandomForestRegressor   True  \n",
              "et             sklearn.ensemble._forest.ExtraTreesRegressor   True  \n",
              "ada       sklearn.ensemble._weight_boosting.AdaBoostRegr...   True  \n",
              "gbr          sklearn.ensemble._gb.GradientBoostingRegressor   True  \n",
              "mlp       sklearn.neural_network._multilayer_perceptron....  False  \n",
              "xgboost                        xgboost.sklearn.XGBRegressor   True  \n",
              "lightgbm                     lightgbm.sklearn.LGBMRegressor   True  \n",
              "dummy                          sklearn.dummy.DummyRegressor   True  "
            ],
            "text/html": [
              "\n",
              "  <div id=\"df-45d87d80-3ff7-4c8f-b0f6-5794959f3253\" class=\"colab-df-container\">\n",
              "    <div>\n",
              "<style scoped>\n",
              "    .dataframe tbody tr th:only-of-type {\n",
              "        vertical-align: middle;\n",
              "    }\n",
              "\n",
              "    .dataframe tbody tr th {\n",
              "        vertical-align: top;\n",
              "    }\n",
              "\n",
              "    .dataframe thead th {\n",
              "        text-align: right;\n",
              "    }\n",
              "</style>\n",
              "<table border=\"1\" class=\"dataframe\">\n",
              "  <thead>\n",
              "    <tr style=\"text-align: right;\">\n",
              "      <th></th>\n",
              "      <th>Name</th>\n",
              "      <th>Reference</th>\n",
              "      <th>Turbo</th>\n",
              "    </tr>\n",
              "    <tr>\n",
              "      <th>ID</th>\n",
              "      <th></th>\n",
              "      <th></th>\n",
              "      <th></th>\n",
              "    </tr>\n",
              "  </thead>\n",
              "  <tbody>\n",
              "    <tr>\n",
              "      <th>lr</th>\n",
              "      <td>Linear Regression</td>\n",
              "      <td>sklearn.linear_model._base.LinearRegression</td>\n",
              "      <td>True</td>\n",
              "    </tr>\n",
              "    <tr>\n",
              "      <th>lasso</th>\n",
              "      <td>Lasso Regression</td>\n",
              "      <td>sklearn.linear_model._coordinate_descent.Lasso</td>\n",
              "      <td>True</td>\n",
              "    </tr>\n",
              "    <tr>\n",
              "      <th>ridge</th>\n",
              "      <td>Ridge Regression</td>\n",
              "      <td>sklearn.linear_model._ridge.Ridge</td>\n",
              "      <td>True</td>\n",
              "    </tr>\n",
              "    <tr>\n",
              "      <th>en</th>\n",
              "      <td>Elastic Net</td>\n",
              "      <td>sklearn.linear_model._coordinate_descent.Elast...</td>\n",
              "      <td>True</td>\n",
              "    </tr>\n",
              "    <tr>\n",
              "      <th>lar</th>\n",
              "      <td>Least Angle Regression</td>\n",
              "      <td>sklearn.linear_model._least_angle.Lars</td>\n",
              "      <td>True</td>\n",
              "    </tr>\n",
              "    <tr>\n",
              "      <th>llar</th>\n",
              "      <td>Lasso Least Angle Regression</td>\n",
              "      <td>sklearn.linear_model._least_angle.LassoLars</td>\n",
              "      <td>True</td>\n",
              "    </tr>\n",
              "    <tr>\n",
              "      <th>omp</th>\n",
              "      <td>Orthogonal Matching Pursuit</td>\n",
              "      <td>sklearn.linear_model._omp.OrthogonalMatchingPu...</td>\n",
              "      <td>True</td>\n",
              "    </tr>\n",
              "    <tr>\n",
              "      <th>br</th>\n",
              "      <td>Bayesian Ridge</td>\n",
              "      <td>sklearn.linear_model._bayes.BayesianRidge</td>\n",
              "      <td>True</td>\n",
              "    </tr>\n",
              "    <tr>\n",
              "      <th>ard</th>\n",
              "      <td>Automatic Relevance Determination</td>\n",
              "      <td>sklearn.linear_model._bayes.ARDRegression</td>\n",
              "      <td>False</td>\n",
              "    </tr>\n",
              "    <tr>\n",
              "      <th>par</th>\n",
              "      <td>Passive Aggressive Regressor</td>\n",
              "      <td>sklearn.linear_model._passive_aggressive.Passi...</td>\n",
              "      <td>True</td>\n",
              "    </tr>\n",
              "    <tr>\n",
              "      <th>ransac</th>\n",
              "      <td>Random Sample Consensus</td>\n",
              "      <td>sklearn.linear_model._ransac.RANSACRegressor</td>\n",
              "      <td>False</td>\n",
              "    </tr>\n",
              "    <tr>\n",
              "      <th>tr</th>\n",
              "      <td>TheilSen Regressor</td>\n",
              "      <td>sklearn.linear_model._theil_sen.TheilSenRegressor</td>\n",
              "      <td>False</td>\n",
              "    </tr>\n",
              "    <tr>\n",
              "      <th>huber</th>\n",
              "      <td>Huber Regressor</td>\n",
              "      <td>sklearn.linear_model._huber.HuberRegressor</td>\n",
              "      <td>True</td>\n",
              "    </tr>\n",
              "    <tr>\n",
              "      <th>kr</th>\n",
              "      <td>Kernel Ridge</td>\n",
              "      <td>sklearn.kernel_ridge.KernelRidge</td>\n",
              "      <td>False</td>\n",
              "    </tr>\n",
              "    <tr>\n",
              "      <th>svm</th>\n",
              "      <td>Support Vector Regression</td>\n",
              "      <td>sklearn.svm._classes.SVR</td>\n",
              "      <td>False</td>\n",
              "    </tr>\n",
              "    <tr>\n",
              "      <th>knn</th>\n",
              "      <td>K Neighbors Regressor</td>\n",
              "      <td>sklearn.neighbors._regression.KNeighborsRegressor</td>\n",
              "      <td>True</td>\n",
              "    </tr>\n",
              "    <tr>\n",
              "      <th>dt</th>\n",
              "      <td>Decision Tree Regressor</td>\n",
              "      <td>sklearn.tree._classes.DecisionTreeRegressor</td>\n",
              "      <td>True</td>\n",
              "    </tr>\n",
              "    <tr>\n",
              "      <th>rf</th>\n",
              "      <td>Random Forest Regressor</td>\n",
              "      <td>sklearn.ensemble._forest.RandomForestRegressor</td>\n",
              "      <td>True</td>\n",
              "    </tr>\n",
              "    <tr>\n",
              "      <th>et</th>\n",
              "      <td>Extra Trees Regressor</td>\n",
              "      <td>sklearn.ensemble._forest.ExtraTreesRegressor</td>\n",
              "      <td>True</td>\n",
              "    </tr>\n",
              "    <tr>\n",
              "      <th>ada</th>\n",
              "      <td>AdaBoost Regressor</td>\n",
              "      <td>sklearn.ensemble._weight_boosting.AdaBoostRegr...</td>\n",
              "      <td>True</td>\n",
              "    </tr>\n",
              "    <tr>\n",
              "      <th>gbr</th>\n",
              "      <td>Gradient Boosting Regressor</td>\n",
              "      <td>sklearn.ensemble._gb.GradientBoostingRegressor</td>\n",
              "      <td>True</td>\n",
              "    </tr>\n",
              "    <tr>\n",
              "      <th>mlp</th>\n",
              "      <td>MLP Regressor</td>\n",
              "      <td>sklearn.neural_network._multilayer_perceptron....</td>\n",
              "      <td>False</td>\n",
              "    </tr>\n",
              "    <tr>\n",
              "      <th>xgboost</th>\n",
              "      <td>Extreme Gradient Boosting</td>\n",
              "      <td>xgboost.sklearn.XGBRegressor</td>\n",
              "      <td>True</td>\n",
              "    </tr>\n",
              "    <tr>\n",
              "      <th>lightgbm</th>\n",
              "      <td>Light Gradient Boosting Machine</td>\n",
              "      <td>lightgbm.sklearn.LGBMRegressor</td>\n",
              "      <td>True</td>\n",
              "    </tr>\n",
              "    <tr>\n",
              "      <th>dummy</th>\n",
              "      <td>Dummy Regressor</td>\n",
              "      <td>sklearn.dummy.DummyRegressor</td>\n",
              "      <td>True</td>\n",
              "    </tr>\n",
              "  </tbody>\n",
              "</table>\n",
              "</div>\n",
              "    <div class=\"colab-df-buttons\">\n",
              "\n",
              "  <div class=\"colab-df-container\">\n",
              "    <button class=\"colab-df-convert\" onclick=\"convertToInteractive('df-45d87d80-3ff7-4c8f-b0f6-5794959f3253')\"\n",
              "            title=\"Convert this dataframe to an interactive table.\"\n",
              "            style=\"display:none;\">\n",
              "\n",
              "  <svg xmlns=\"http://www.w3.org/2000/svg\" height=\"24px\" viewBox=\"0 -960 960 960\">\n",
              "    <path d=\"M120-120v-720h720v720H120Zm60-500h600v-160H180v160Zm220 220h160v-160H400v160Zm0 220h160v-160H400v160ZM180-400h160v-160H180v160Zm440 0h160v-160H620v160ZM180-180h160v-160H180v160Zm440 0h160v-160H620v160Z\"/>\n",
              "  </svg>\n",
              "    </button>\n",
              "\n",
              "  <style>\n",
              "    .colab-df-container {\n",
              "      display:flex;\n",
              "      gap: 12px;\n",
              "    }\n",
              "\n",
              "    .colab-df-convert {\n",
              "      background-color: #E8F0FE;\n",
              "      border: none;\n",
              "      border-radius: 50%;\n",
              "      cursor: pointer;\n",
              "      display: none;\n",
              "      fill: #1967D2;\n",
              "      height: 32px;\n",
              "      padding: 0 0 0 0;\n",
              "      width: 32px;\n",
              "    }\n",
              "\n",
              "    .colab-df-convert:hover {\n",
              "      background-color: #E2EBFA;\n",
              "      box-shadow: 0px 1px 2px rgba(60, 64, 67, 0.3), 0px 1px 3px 1px rgba(60, 64, 67, 0.15);\n",
              "      fill: #174EA6;\n",
              "    }\n",
              "\n",
              "    .colab-df-buttons div {\n",
              "      margin-bottom: 4px;\n",
              "    }\n",
              "\n",
              "    [theme=dark] .colab-df-convert {\n",
              "      background-color: #3B4455;\n",
              "      fill: #D2E3FC;\n",
              "    }\n",
              "\n",
              "    [theme=dark] .colab-df-convert:hover {\n",
              "      background-color: #434B5C;\n",
              "      box-shadow: 0px 1px 3px 1px rgba(0, 0, 0, 0.15);\n",
              "      filter: drop-shadow(0px 1px 2px rgba(0, 0, 0, 0.3));\n",
              "      fill: #FFFFFF;\n",
              "    }\n",
              "  </style>\n",
              "\n",
              "    <script>\n",
              "      const buttonEl =\n",
              "        document.querySelector('#df-45d87d80-3ff7-4c8f-b0f6-5794959f3253 button.colab-df-convert');\n",
              "      buttonEl.style.display =\n",
              "        google.colab.kernel.accessAllowed ? 'block' : 'none';\n",
              "\n",
              "      async function convertToInteractive(key) {\n",
              "        const element = document.querySelector('#df-45d87d80-3ff7-4c8f-b0f6-5794959f3253');\n",
              "        const dataTable =\n",
              "          await google.colab.kernel.invokeFunction('convertToInteractive',\n",
              "                                                    [key], {});\n",
              "        if (!dataTable) return;\n",
              "\n",
              "        const docLinkHtml = 'Like what you see? Visit the ' +\n",
              "          '<a target=\"_blank\" href=https://colab.research.google.com/notebooks/data_table.ipynb>data table notebook</a>'\n",
              "          + ' to learn more about interactive tables.';\n",
              "        element.innerHTML = '';\n",
              "        dataTable['output_type'] = 'display_data';\n",
              "        await google.colab.output.renderOutput(dataTable, element);\n",
              "        const docLink = document.createElement('div');\n",
              "        docLink.innerHTML = docLinkHtml;\n",
              "        element.appendChild(docLink);\n",
              "      }\n",
              "    </script>\n",
              "  </div>\n",
              "\n",
              "\n",
              "<div id=\"df-07817f2e-8a64-4af4-b9c1-2dbf2842abc8\">\n",
              "  <button class=\"colab-df-quickchart\" onclick=\"quickchart('df-07817f2e-8a64-4af4-b9c1-2dbf2842abc8')\"\n",
              "            title=\"Suggest charts.\"\n",
              "            style=\"display:none;\">\n",
              "\n",
              "<svg xmlns=\"http://www.w3.org/2000/svg\" height=\"24px\"viewBox=\"0 0 24 24\"\n",
              "     width=\"24px\">\n",
              "    <g>\n",
              "        <path d=\"M19 3H5c-1.1 0-2 .9-2 2v14c0 1.1.9 2 2 2h14c1.1 0 2-.9 2-2V5c0-1.1-.9-2-2-2zM9 17H7v-7h2v7zm4 0h-2V7h2v10zm4 0h-2v-4h2v4z\"/>\n",
              "    </g>\n",
              "</svg>\n",
              "  </button>\n",
              "\n",
              "<style>\n",
              "  .colab-df-quickchart {\n",
              "      --bg-color: #E8F0FE;\n",
              "      --fill-color: #1967D2;\n",
              "      --hover-bg-color: #E2EBFA;\n",
              "      --hover-fill-color: #174EA6;\n",
              "      --disabled-fill-color: #AAA;\n",
              "      --disabled-bg-color: #DDD;\n",
              "  }\n",
              "\n",
              "  [theme=dark] .colab-df-quickchart {\n",
              "      --bg-color: #3B4455;\n",
              "      --fill-color: #D2E3FC;\n",
              "      --hover-bg-color: #434B5C;\n",
              "      --hover-fill-color: #FFFFFF;\n",
              "      --disabled-bg-color: #3B4455;\n",
              "      --disabled-fill-color: #666;\n",
              "  }\n",
              "\n",
              "  .colab-df-quickchart {\n",
              "    background-color: var(--bg-color);\n",
              "    border: none;\n",
              "    border-radius: 50%;\n",
              "    cursor: pointer;\n",
              "    display: none;\n",
              "    fill: var(--fill-color);\n",
              "    height: 32px;\n",
              "    padding: 0;\n",
              "    width: 32px;\n",
              "  }\n",
              "\n",
              "  .colab-df-quickchart:hover {\n",
              "    background-color: var(--hover-bg-color);\n",
              "    box-shadow: 0 1px 2px rgba(60, 64, 67, 0.3), 0 1px 3px 1px rgba(60, 64, 67, 0.15);\n",
              "    fill: var(--button-hover-fill-color);\n",
              "  }\n",
              "\n",
              "  .colab-df-quickchart-complete:disabled,\n",
              "  .colab-df-quickchart-complete:disabled:hover {\n",
              "    background-color: var(--disabled-bg-color);\n",
              "    fill: var(--disabled-fill-color);\n",
              "    box-shadow: none;\n",
              "  }\n",
              "\n",
              "  .colab-df-spinner {\n",
              "    border: 2px solid var(--fill-color);\n",
              "    border-color: transparent;\n",
              "    border-bottom-color: var(--fill-color);\n",
              "    animation:\n",
              "      spin 1s steps(1) infinite;\n",
              "  }\n",
              "\n",
              "  @keyframes spin {\n",
              "    0% {\n",
              "      border-color: transparent;\n",
              "      border-bottom-color: var(--fill-color);\n",
              "      border-left-color: var(--fill-color);\n",
              "    }\n",
              "    20% {\n",
              "      border-color: transparent;\n",
              "      border-left-color: var(--fill-color);\n",
              "      border-top-color: var(--fill-color);\n",
              "    }\n",
              "    30% {\n",
              "      border-color: transparent;\n",
              "      border-left-color: var(--fill-color);\n",
              "      border-top-color: var(--fill-color);\n",
              "      border-right-color: var(--fill-color);\n",
              "    }\n",
              "    40% {\n",
              "      border-color: transparent;\n",
              "      border-right-color: var(--fill-color);\n",
              "      border-top-color: var(--fill-color);\n",
              "    }\n",
              "    60% {\n",
              "      border-color: transparent;\n",
              "      border-right-color: var(--fill-color);\n",
              "    }\n",
              "    80% {\n",
              "      border-color: transparent;\n",
              "      border-right-color: var(--fill-color);\n",
              "      border-bottom-color: var(--fill-color);\n",
              "    }\n",
              "    90% {\n",
              "      border-color: transparent;\n",
              "      border-bottom-color: var(--fill-color);\n",
              "    }\n",
              "  }\n",
              "</style>\n",
              "\n",
              "  <script>\n",
              "    async function quickchart(key) {\n",
              "      const quickchartButtonEl =\n",
              "        document.querySelector('#' + key + ' button');\n",
              "      quickchartButtonEl.disabled = true;  // To prevent multiple clicks.\n",
              "      quickchartButtonEl.classList.add('colab-df-spinner');\n",
              "      try {\n",
              "        const charts = await google.colab.kernel.invokeFunction(\n",
              "            'suggestCharts', [key], {});\n",
              "      } catch (error) {\n",
              "        console.error('Error during call to suggestCharts:', error);\n",
              "      }\n",
              "      quickchartButtonEl.classList.remove('colab-df-spinner');\n",
              "      quickchartButtonEl.classList.add('colab-df-quickchart-complete');\n",
              "    }\n",
              "    (() => {\n",
              "      let quickchartButtonEl =\n",
              "        document.querySelector('#df-07817f2e-8a64-4af4-b9c1-2dbf2842abc8 button');\n",
              "      quickchartButtonEl.style.display =\n",
              "        google.colab.kernel.accessAllowed ? 'block' : 'none';\n",
              "    })();\n",
              "  </script>\n",
              "</div>\n",
              "    </div>\n",
              "  </div>\n"
            ]
          },
          "metadata": {},
          "execution_count": 25
        }
      ]
    },
    {
      "cell_type": "code",
      "source": [
        "best = compare_models()"
      ],
      "metadata": {
        "colab": {
          "base_uri": "https://localhost:8080/",
          "height": 645,
          "referenced_widgets": [
            "ece55db8387544a098322cb1415ad305",
            "23a25a202dc043d1b6bff0a8e3221ed0",
            "55d0b9f75670460087a033317bb6a344",
            "689f9fcdbe60401da1d3e0b8ac1278b2",
            "ad33d4cfac5844878e0302a0cb51f878",
            "37723b2524cc4489b487d2ccb0e1fc13",
            "05c00875bc384491a57cfd7608d60c49",
            "433adbcc76524731993011c00e5857b1",
            "752abb6ba23a486285d98a34658fd5db",
            "8fee84161d7e439693935495aba7e46b",
            "731733f194354c4fbd491dff8d071120"
          ]
        },
        "id": "FeT5wrTy2bOq",
        "outputId": "53218637-67e2-4c33-8c20-c20e9752f3c5"
      },
      "execution_count": null,
      "outputs": [
        {
          "output_type": "display_data",
          "data": {
            "text/plain": [
              "<IPython.core.display.HTML object>"
            ],
            "text/html": []
          },
          "metadata": {}
        },
        {
          "output_type": "display_data",
          "data": {
            "text/plain": [
              "<pandas.io.formats.style.Styler at 0x7e207bddd0f0>"
            ],
            "text/html": [
              "<style type=\"text/css\">\n",
              "#T_e5adf th {\n",
              "  text-align: left;\n",
              "}\n",
              "#T_e5adf_row0_col0, #T_e5adf_row0_col6, #T_e5adf_row1_col0, #T_e5adf_row1_col1, #T_e5adf_row1_col2, #T_e5adf_row1_col3, #T_e5adf_row1_col4, #T_e5adf_row1_col5, #T_e5adf_row1_col6, #T_e5adf_row2_col0, #T_e5adf_row2_col1, #T_e5adf_row2_col2, #T_e5adf_row2_col3, #T_e5adf_row2_col4, #T_e5adf_row2_col5, #T_e5adf_row2_col6, #T_e5adf_row3_col0, #T_e5adf_row3_col1, #T_e5adf_row3_col2, #T_e5adf_row3_col3, #T_e5adf_row3_col4, #T_e5adf_row3_col5, #T_e5adf_row3_col6, #T_e5adf_row4_col0, #T_e5adf_row4_col1, #T_e5adf_row4_col2, #T_e5adf_row4_col3, #T_e5adf_row4_col4, #T_e5adf_row4_col5, #T_e5adf_row4_col6, #T_e5adf_row5_col0, #T_e5adf_row5_col1, #T_e5adf_row5_col2, #T_e5adf_row5_col3, #T_e5adf_row5_col4, #T_e5adf_row5_col5, #T_e5adf_row5_col6, #T_e5adf_row6_col0, #T_e5adf_row6_col1, #T_e5adf_row6_col2, #T_e5adf_row6_col3, #T_e5adf_row6_col4, #T_e5adf_row6_col5, #T_e5adf_row6_col6, #T_e5adf_row7_col0, #T_e5adf_row7_col1, #T_e5adf_row7_col2, #T_e5adf_row7_col3, #T_e5adf_row7_col4, #T_e5adf_row7_col5, #T_e5adf_row7_col6, #T_e5adf_row8_col0, #T_e5adf_row8_col1, #T_e5adf_row8_col2, #T_e5adf_row8_col3, #T_e5adf_row8_col4, #T_e5adf_row8_col5, #T_e5adf_row8_col6, #T_e5adf_row9_col0, #T_e5adf_row9_col1, #T_e5adf_row9_col2, #T_e5adf_row9_col3, #T_e5adf_row9_col4, #T_e5adf_row9_col5, #T_e5adf_row9_col6, #T_e5adf_row10_col0, #T_e5adf_row10_col1, #T_e5adf_row10_col2, #T_e5adf_row10_col3, #T_e5adf_row10_col4, #T_e5adf_row10_col5, #T_e5adf_row10_col6, #T_e5adf_row11_col0, #T_e5adf_row11_col1, #T_e5adf_row11_col2, #T_e5adf_row11_col3, #T_e5adf_row11_col4, #T_e5adf_row11_col5, #T_e5adf_row11_col6, #T_e5adf_row12_col0, #T_e5adf_row12_col1, #T_e5adf_row12_col2, #T_e5adf_row12_col3, #T_e5adf_row12_col4, #T_e5adf_row12_col5, #T_e5adf_row12_col6, #T_e5adf_row13_col0, #T_e5adf_row13_col1, #T_e5adf_row13_col2, #T_e5adf_row13_col3, #T_e5adf_row13_col4, #T_e5adf_row13_col5, #T_e5adf_row13_col6, #T_e5adf_row14_col0, #T_e5adf_row14_col1, #T_e5adf_row14_col2, #T_e5adf_row14_col3, #T_e5adf_row14_col4, #T_e5adf_row14_col5, #T_e5adf_row14_col6, #T_e5adf_row15_col0, #T_e5adf_row15_col1, #T_e5adf_row15_col2, #T_e5adf_row15_col3, #T_e5adf_row15_col4, #T_e5adf_row15_col5, #T_e5adf_row15_col6, #T_e5adf_row16_col0, #T_e5adf_row16_col1, #T_e5adf_row16_col2, #T_e5adf_row16_col3, #T_e5adf_row16_col4, #T_e5adf_row16_col5, #T_e5adf_row17_col0, #T_e5adf_row17_col1, #T_e5adf_row17_col2, #T_e5adf_row17_col3, #T_e5adf_row17_col4, #T_e5adf_row17_col5, #T_e5adf_row17_col6, #T_e5adf_row18_col0, #T_e5adf_row18_col1, #T_e5adf_row18_col2, #T_e5adf_row18_col3, #T_e5adf_row18_col4, #T_e5adf_row18_col5, #T_e5adf_row18_col6 {\n",
              "  text-align: left;\n",
              "}\n",
              "#T_e5adf_row0_col1, #T_e5adf_row0_col2, #T_e5adf_row0_col3, #T_e5adf_row0_col4, #T_e5adf_row0_col5, #T_e5adf_row16_col6 {\n",
              "  text-align: left;\n",
              "  background-color: yellow;\n",
              "}\n",
              "#T_e5adf_row0_col7, #T_e5adf_row1_col7, #T_e5adf_row2_col7, #T_e5adf_row3_col7, #T_e5adf_row4_col7, #T_e5adf_row5_col7, #T_e5adf_row6_col7, #T_e5adf_row7_col7, #T_e5adf_row8_col7, #T_e5adf_row9_col7, #T_e5adf_row10_col7, #T_e5adf_row12_col7, #T_e5adf_row13_col7, #T_e5adf_row14_col7, #T_e5adf_row15_col7, #T_e5adf_row16_col7, #T_e5adf_row18_col7 {\n",
              "  text-align: left;\n",
              "  background-color: lightgrey;\n",
              "}\n",
              "#T_e5adf_row11_col7, #T_e5adf_row17_col7 {\n",
              "  text-align: left;\n",
              "  background-color: yellow;\n",
              "  background-color: lightgrey;\n",
              "}\n",
              "</style>\n",
              "<table id=\"T_e5adf\" class=\"dataframe\">\n",
              "  <thead>\n",
              "    <tr>\n",
              "      <th class=\"blank level0\" >&nbsp;</th>\n",
              "      <th id=\"T_e5adf_level0_col0\" class=\"col_heading level0 col0\" >Model</th>\n",
              "      <th id=\"T_e5adf_level0_col1\" class=\"col_heading level0 col1\" >MAE</th>\n",
              "      <th id=\"T_e5adf_level0_col2\" class=\"col_heading level0 col2\" >MSE</th>\n",
              "      <th id=\"T_e5adf_level0_col3\" class=\"col_heading level0 col3\" >RMSE</th>\n",
              "      <th id=\"T_e5adf_level0_col4\" class=\"col_heading level0 col4\" >R2</th>\n",
              "      <th id=\"T_e5adf_level0_col5\" class=\"col_heading level0 col5\" >RMSLE</th>\n",
              "      <th id=\"T_e5adf_level0_col6\" class=\"col_heading level0 col6\" >MAPE</th>\n",
              "      <th id=\"T_e5adf_level0_col7\" class=\"col_heading level0 col7\" >TT (Sec)</th>\n",
              "    </tr>\n",
              "  </thead>\n",
              "  <tbody>\n",
              "    <tr>\n",
              "      <th id=\"T_e5adf_level0_row0\" class=\"row_heading level0 row0\" >gbr</th>\n",
              "      <td id=\"T_e5adf_row0_col0\" class=\"data row0 col0\" >Gradient Boosting Regressor</td>\n",
              "      <td id=\"T_e5adf_row0_col1\" class=\"data row0 col1\" >2559.4912</td>\n",
              "      <td id=\"T_e5adf_row0_col2\" class=\"data row0 col2\" >20833383.9849</td>\n",
              "      <td id=\"T_e5adf_row0_col3\" class=\"data row0 col3\" >4488.1869</td>\n",
              "      <td id=\"T_e5adf_row0_col4\" class=\"data row0 col4\" >0.8452</td>\n",
              "      <td id=\"T_e5adf_row0_col5\" class=\"data row0 col5\" >0.4207</td>\n",
              "      <td id=\"T_e5adf_row0_col6\" class=\"data row0 col6\" >0.2916</td>\n",
              "      <td id=\"T_e5adf_row0_col7\" class=\"data row0 col7\" >0.1750</td>\n",
              "    </tr>\n",
              "    <tr>\n",
              "      <th id=\"T_e5adf_level0_row1\" class=\"row_heading level0 row1\" >rf</th>\n",
              "      <td id=\"T_e5adf_row1_col0\" class=\"data row1 col0\" >Random Forest Regressor</td>\n",
              "      <td id=\"T_e5adf_row1_col1\" class=\"data row1 col1\" >2708.0035</td>\n",
              "      <td id=\"T_e5adf_row1_col2\" class=\"data row1 col2\" >22857648.1555</td>\n",
              "      <td id=\"T_e5adf_row1_col3\" class=\"data row1 col3\" >4720.0109</td>\n",
              "      <td id=\"T_e5adf_row1_col4\" class=\"data row1 col4\" >0.8293</td>\n",
              "      <td id=\"T_e5adf_row1_col5\" class=\"data row1 col5\" >0.4529</td>\n",
              "      <td id=\"T_e5adf_row1_col6\" class=\"data row1 col6\" >0.3209</td>\n",
              "      <td id=\"T_e5adf_row1_col7\" class=\"data row1 col7\" >0.6920</td>\n",
              "    </tr>\n",
              "    <tr>\n",
              "      <th id=\"T_e5adf_level0_row2\" class=\"row_heading level0 row2\" >lightgbm</th>\n",
              "      <td id=\"T_e5adf_row2_col0\" class=\"data row2 col0\" >Light Gradient Boosting Machine</td>\n",
              "      <td id=\"T_e5adf_row2_col1\" class=\"data row2 col1\" >2852.5856</td>\n",
              "      <td id=\"T_e5adf_row2_col2\" class=\"data row2 col2\" >23178735.9367</td>\n",
              "      <td id=\"T_e5adf_row2_col3\" class=\"data row2 col3\" >4757.8965</td>\n",
              "      <td id=\"T_e5adf_row2_col4\" class=\"data row2 col4\" >0.8262</td>\n",
              "      <td id=\"T_e5adf_row2_col5\" class=\"data row2 col5\" >0.5397</td>\n",
              "      <td id=\"T_e5adf_row2_col6\" class=\"data row2 col6\" >0.3510</td>\n",
              "      <td id=\"T_e5adf_row2_col7\" class=\"data row2 col7\" >0.6700</td>\n",
              "    </tr>\n",
              "    <tr>\n",
              "      <th id=\"T_e5adf_level0_row3\" class=\"row_heading level0 row3\" >et</th>\n",
              "      <td id=\"T_e5adf_row3_col0\" class=\"data row3 col0\" >Extra Trees Regressor</td>\n",
              "      <td id=\"T_e5adf_row3_col1\" class=\"data row3 col1\" >2764.0005</td>\n",
              "      <td id=\"T_e5adf_row3_col2\" class=\"data row3 col2\" >25850501.3212</td>\n",
              "      <td id=\"T_e5adf_row3_col3\" class=\"data row3 col3\" >5015.6489</td>\n",
              "      <td id=\"T_e5adf_row3_col4\" class=\"data row3 col4\" >0.8070</td>\n",
              "      <td id=\"T_e5adf_row3_col5\" class=\"data row3 col5\" >0.4666</td>\n",
              "      <td id=\"T_e5adf_row3_col6\" class=\"data row3 col6\" >0.3172</td>\n",
              "      <td id=\"T_e5adf_row3_col7\" class=\"data row3 col7\" >0.3010</td>\n",
              "    </tr>\n",
              "    <tr>\n",
              "      <th id=\"T_e5adf_level0_row4\" class=\"row_heading level0 row4\" >ada</th>\n",
              "      <td id=\"T_e5adf_row4_col0\" class=\"data row4 col0\" >AdaBoost Regressor</td>\n",
              "      <td id=\"T_e5adf_row4_col1\" class=\"data row4 col1\" >4273.9049</td>\n",
              "      <td id=\"T_e5adf_row4_col2\" class=\"data row4 col2\" >27479166.7113</td>\n",
              "      <td id=\"T_e5adf_row4_col3\" class=\"data row4 col3\" >5204.2352</td>\n",
              "      <td id=\"T_e5adf_row4_col4\" class=\"data row4 col4\" >0.7910</td>\n",
              "      <td id=\"T_e5adf_row4_col5\" class=\"data row4 col5\" >0.6165</td>\n",
              "      <td id=\"T_e5adf_row4_col6\" class=\"data row4 col6\" >0.7201</td>\n",
              "      <td id=\"T_e5adf_row4_col7\" class=\"data row4 col7\" >0.1140</td>\n",
              "    </tr>\n",
              "    <tr>\n",
              "      <th id=\"T_e5adf_level0_row5\" class=\"row_heading level0 row5\" >xgboost</th>\n",
              "      <td id=\"T_e5adf_row5_col0\" class=\"data row5 col0\" >Extreme Gradient Boosting</td>\n",
              "      <td id=\"T_e5adf_row5_col1\" class=\"data row5 col1\" >3155.5050</td>\n",
              "      <td id=\"T_e5adf_row5_col2\" class=\"data row5 col2\" >28628868.8000</td>\n",
              "      <td id=\"T_e5adf_row5_col3\" class=\"data row5 col3\" >5292.2786</td>\n",
              "      <td id=\"T_e5adf_row5_col4\" class=\"data row5 col4\" >0.7872</td>\n",
              "      <td id=\"T_e5adf_row5_col5\" class=\"data row5 col5\" >0.5838</td>\n",
              "      <td id=\"T_e5adf_row5_col6\" class=\"data row5 col6\" >0.4013</td>\n",
              "      <td id=\"T_e5adf_row5_col7\" class=\"data row5 col7\" >0.1500</td>\n",
              "    </tr>\n",
              "    <tr>\n",
              "      <th id=\"T_e5adf_level0_row6\" class=\"row_heading level0 row6\" >knn</th>\n",
              "      <td id=\"T_e5adf_row6_col0\" class=\"data row6 col0\" >K Neighbors Regressor</td>\n",
              "      <td id=\"T_e5adf_row6_col1\" class=\"data row6 col1\" >3640.3717</td>\n",
              "      <td id=\"T_e5adf_row6_col2\" class=\"data row6 col2\" >31852060.4000</td>\n",
              "      <td id=\"T_e5adf_row6_col3\" class=\"data row6 col3\" >5606.2883</td>\n",
              "      <td id=\"T_e5adf_row6_col4\" class=\"data row6 col4\" >0.7645</td>\n",
              "      <td id=\"T_e5adf_row6_col5\" class=\"data row6 col5\" >0.4824</td>\n",
              "      <td id=\"T_e5adf_row6_col6\" class=\"data row6 col6\" >0.3818</td>\n",
              "      <td id=\"T_e5adf_row6_col7\" class=\"data row6 col7\" >0.1010</td>\n",
              "    </tr>\n",
              "    <tr>\n",
              "      <th id=\"T_e5adf_level0_row7\" class=\"row_heading level0 row7\" >lr</th>\n",
              "      <td id=\"T_e5adf_row7_col0\" class=\"data row7 col0\" >Linear Regression</td>\n",
              "      <td id=\"T_e5adf_row7_col1\" class=\"data row7 col1\" >4004.7759</td>\n",
              "      <td id=\"T_e5adf_row7_col2\" class=\"data row7 col2\" >34516876.8683</td>\n",
              "      <td id=\"T_e5adf_row7_col3\" class=\"data row7 col3\" >5830.1742</td>\n",
              "      <td id=\"T_e5adf_row7_col4\" class=\"data row7 col4\" >0.7426</td>\n",
              "      <td id=\"T_e5adf_row7_col5\" class=\"data row7 col5\" >0.5574</td>\n",
              "      <td id=\"T_e5adf_row7_col6\" class=\"data row7 col6\" >0.4095</td>\n",
              "      <td id=\"T_e5adf_row7_col7\" class=\"data row7 col7\" >0.7960</td>\n",
              "    </tr>\n",
              "    <tr>\n",
              "      <th id=\"T_e5adf_level0_row8\" class=\"row_heading level0 row8\" >br</th>\n",
              "      <td id=\"T_e5adf_row8_col0\" class=\"data row8 col0\" >Bayesian Ridge</td>\n",
              "      <td id=\"T_e5adf_row8_col1\" class=\"data row8 col1\" >3998.3972</td>\n",
              "      <td id=\"T_e5adf_row8_col2\" class=\"data row8 col2\" >34534183.8006</td>\n",
              "      <td id=\"T_e5adf_row8_col3\" class=\"data row8 col3\" >5831.8374</td>\n",
              "      <td id=\"T_e5adf_row8_col4\" class=\"data row8 col4\" >0.7426</td>\n",
              "      <td id=\"T_e5adf_row8_col5\" class=\"data row8 col5\" >0.5690</td>\n",
              "      <td id=\"T_e5adf_row8_col6\" class=\"data row8 col6\" >0.4069</td>\n",
              "      <td id=\"T_e5adf_row8_col7\" class=\"data row8 col7\" >0.0940</td>\n",
              "    </tr>\n",
              "    <tr>\n",
              "      <th id=\"T_e5adf_level0_row9\" class=\"row_heading level0 row9\" >ridge</th>\n",
              "      <td id=\"T_e5adf_row9_col0\" class=\"data row9 col0\" >Ridge Regression</td>\n",
              "      <td id=\"T_e5adf_row9_col1\" class=\"data row9 col1\" >3996.3457</td>\n",
              "      <td id=\"T_e5adf_row9_col2\" class=\"data row9 col2\" >34535453.5059</td>\n",
              "      <td id=\"T_e5adf_row9_col3\" class=\"data row9 col3\" >5831.9932</td>\n",
              "      <td id=\"T_e5adf_row9_col4\" class=\"data row9 col4\" >0.7425</td>\n",
              "      <td id=\"T_e5adf_row9_col5\" class=\"data row9 col5\" >0.5851</td>\n",
              "      <td id=\"T_e5adf_row9_col6\" class=\"data row9 col6\" >0.4064</td>\n",
              "      <td id=\"T_e5adf_row9_col7\" class=\"data row9 col7\" >0.1790</td>\n",
              "    </tr>\n",
              "    <tr>\n",
              "      <th id=\"T_e5adf_level0_row10\" class=\"row_heading level0 row10\" >lasso</th>\n",
              "      <td id=\"T_e5adf_row10_col0\" class=\"data row10 col0\" >Lasso Regression</td>\n",
              "      <td id=\"T_e5adf_row10_col1\" class=\"data row10 col1\" >3995.7334</td>\n",
              "      <td id=\"T_e5adf_row10_col2\" class=\"data row10 col2\" >34536701.5583</td>\n",
              "      <td id=\"T_e5adf_row10_col3\" class=\"data row10 col3\" >5832.0902</td>\n",
              "      <td id=\"T_e5adf_row10_col4\" class=\"data row10 col4\" >0.7425</td>\n",
              "      <td id=\"T_e5adf_row10_col5\" class=\"data row10 col5\" >0.5915</td>\n",
              "      <td id=\"T_e5adf_row10_col6\" class=\"data row10 col6\" >0.4062</td>\n",
              "      <td id=\"T_e5adf_row10_col7\" class=\"data row10 col7\" >0.1750</td>\n",
              "    </tr>\n",
              "    <tr>\n",
              "      <th id=\"T_e5adf_level0_row11\" class=\"row_heading level0 row11\" >lar</th>\n",
              "      <td id=\"T_e5adf_row11_col0\" class=\"data row11 col0\" >Least Angle Regression</td>\n",
              "      <td id=\"T_e5adf_row11_col1\" class=\"data row11 col1\" >4027.2176</td>\n",
              "      <td id=\"T_e5adf_row11_col2\" class=\"data row11 col2\" >34887542.8226</td>\n",
              "      <td id=\"T_e5adf_row11_col3\" class=\"data row11 col3\" >5856.1699</td>\n",
              "      <td id=\"T_e5adf_row11_col4\" class=\"data row11 col4\" >0.7400</td>\n",
              "      <td id=\"T_e5adf_row11_col5\" class=\"data row11 col5\" >0.5972</td>\n",
              "      <td id=\"T_e5adf_row11_col6\" class=\"data row11 col6\" >0.4120</td>\n",
              "      <td id=\"T_e5adf_row11_col7\" class=\"data row11 col7\" >0.0920</td>\n",
              "    </tr>\n",
              "    <tr>\n",
              "      <th id=\"T_e5adf_level0_row12\" class=\"row_heading level0 row12\" >llar</th>\n",
              "      <td id=\"T_e5adf_row12_col0\" class=\"data row12 col0\" >Lasso Least Angle Regression</td>\n",
              "      <td id=\"T_e5adf_row12_col1\" class=\"data row12 col1\" >4026.9945</td>\n",
              "      <td id=\"T_e5adf_row12_col2\" class=\"data row12 col2\" >34886844.1845</td>\n",
              "      <td id=\"T_e5adf_row12_col3\" class=\"data row12 col3\" >5856.1012</td>\n",
              "      <td id=\"T_e5adf_row12_col4\" class=\"data row12 col4\" >0.7400</td>\n",
              "      <td id=\"T_e5adf_row12_col5\" class=\"data row12 col5\" >0.5924</td>\n",
              "      <td id=\"T_e5adf_row12_col6\" class=\"data row12 col6\" >0.4120</td>\n",
              "      <td id=\"T_e5adf_row12_col7\" class=\"data row12 col7\" >0.0970</td>\n",
              "    </tr>\n",
              "    <tr>\n",
              "      <th id=\"T_e5adf_level0_row13\" class=\"row_heading level0 row13\" >en</th>\n",
              "      <td id=\"T_e5adf_row13_col0\" class=\"data row13 col0\" >Elastic Net</td>\n",
              "      <td id=\"T_e5adf_row13_col1\" class=\"data row13 col1\" >4556.3965</td>\n",
              "      <td id=\"T_e5adf_row13_col2\" class=\"data row13 col2\" >39786331.8979</td>\n",
              "      <td id=\"T_e5adf_row13_col3\" class=\"data row13 col3\" >6255.0640</td>\n",
              "      <td id=\"T_e5adf_row13_col4\" class=\"data row13 col4\" >0.7099</td>\n",
              "      <td id=\"T_e5adf_row13_col5\" class=\"data row13 col5\" >0.5544</td>\n",
              "      <td id=\"T_e5adf_row13_col6\" class=\"data row13 col6\" >0.5798</td>\n",
              "      <td id=\"T_e5adf_row13_col7\" class=\"data row13 col7\" >0.0930</td>\n",
              "    </tr>\n",
              "    <tr>\n",
              "      <th id=\"T_e5adf_level0_row14\" class=\"row_heading level0 row14\" >dt</th>\n",
              "      <td id=\"T_e5adf_row14_col0\" class=\"data row14 col0\" >Decision Tree Regressor</td>\n",
              "      <td id=\"T_e5adf_row14_col1\" class=\"data row14 col1\" >3120.4926</td>\n",
              "      <td id=\"T_e5adf_row14_col2\" class=\"data row14 col2\" >41105257.8110</td>\n",
              "      <td id=\"T_e5adf_row14_col3\" class=\"data row14 col3\" >6373.7109</td>\n",
              "      <td id=\"T_e5adf_row14_col4\" class=\"data row14 col4\" >0.6951</td>\n",
              "      <td id=\"T_e5adf_row14_col5\" class=\"data row14 col5\" >0.5209</td>\n",
              "      <td id=\"T_e5adf_row14_col6\" class=\"data row14 col6\" >0.3515</td>\n",
              "      <td id=\"T_e5adf_row14_col7\" class=\"data row14 col7\" >0.1400</td>\n",
              "    </tr>\n",
              "    <tr>\n",
              "      <th id=\"T_e5adf_level0_row15\" class=\"row_heading level0 row15\" >huber</th>\n",
              "      <td id=\"T_e5adf_row15_col0\" class=\"data row15 col0\" >Huber Regressor</td>\n",
              "      <td id=\"T_e5adf_row15_col1\" class=\"data row15 col1\" >3125.4400</td>\n",
              "      <td id=\"T_e5adf_row15_col2\" class=\"data row15 col2\" >43721293.7362</td>\n",
              "      <td id=\"T_e5adf_row15_col3\" class=\"data row15 col3\" >6548.0565</td>\n",
              "      <td id=\"T_e5adf_row15_col4\" class=\"data row15 col4\" >0.6686</td>\n",
              "      <td id=\"T_e5adf_row15_col5\" class=\"data row15 col5\" >0.4584</td>\n",
              "      <td id=\"T_e5adf_row15_col6\" class=\"data row15 col6\" >0.2023</td>\n",
              "      <td id=\"T_e5adf_row15_col7\" class=\"data row15 col7\" >0.1010</td>\n",
              "    </tr>\n",
              "    <tr>\n",
              "      <th id=\"T_e5adf_level0_row16\" class=\"row_heading level0 row16\" >par</th>\n",
              "      <td id=\"T_e5adf_row16_col0\" class=\"data row16 col0\" >Passive Aggressive Regressor</td>\n",
              "      <td id=\"T_e5adf_row16_col1\" class=\"data row16 col1\" >3121.5521</td>\n",
              "      <td id=\"T_e5adf_row16_col2\" class=\"data row16 col2\" >44032001.9136</td>\n",
              "      <td id=\"T_e5adf_row16_col3\" class=\"data row16 col3\" >6571.4360</td>\n",
              "      <td id=\"T_e5adf_row16_col4\" class=\"data row16 col4\" >0.6663</td>\n",
              "      <td id=\"T_e5adf_row16_col5\" class=\"data row16 col5\" >0.4669</td>\n",
              "      <td id=\"T_e5adf_row16_col6\" class=\"data row16 col6\" >0.2001</td>\n",
              "      <td id=\"T_e5adf_row16_col7\" class=\"data row16 col7\" >0.0970</td>\n",
              "    </tr>\n",
              "    <tr>\n",
              "      <th id=\"T_e5adf_level0_row17\" class=\"row_heading level0 row17\" >omp</th>\n",
              "      <td id=\"T_e5adf_row17_col0\" class=\"data row17 col0\" >Orthogonal Matching Pursuit</td>\n",
              "      <td id=\"T_e5adf_row17_col1\" class=\"data row17 col1\" >5483.9603</td>\n",
              "      <td id=\"T_e5adf_row17_col2\" class=\"data row17 col2\" >52551982.3129</td>\n",
              "      <td id=\"T_e5adf_row17_col3\" class=\"data row17 col3\" >7214.0561</td>\n",
              "      <td id=\"T_e5adf_row17_col4\" class=\"data row17 col4\" >0.6106</td>\n",
              "      <td id=\"T_e5adf_row17_col5\" class=\"data row17 col5\" >0.7141</td>\n",
              "      <td id=\"T_e5adf_row17_col6\" class=\"data row17 col6\" >0.8483</td>\n",
              "      <td id=\"T_e5adf_row17_col7\" class=\"data row17 col7\" >0.0920</td>\n",
              "    </tr>\n",
              "    <tr>\n",
              "      <th id=\"T_e5adf_level0_row18\" class=\"row_heading level0 row18\" >dummy</th>\n",
              "      <td id=\"T_e5adf_row18_col0\" class=\"data row18 col0\" >Dummy Regressor</td>\n",
              "      <td id=\"T_e5adf_row18_col1\" class=\"data row18 col1\" >8794.8520</td>\n",
              "      <td id=\"T_e5adf_row18_col2\" class=\"data row18 col2\" >139842528.8000</td>\n",
              "      <td id=\"T_e5adf_row18_col3\" class=\"data row18 col3\" >11754.8246</td>\n",
              "      <td id=\"T_e5adf_row18_col4\" class=\"data row18 col4\" >-0.0167</td>\n",
              "      <td id=\"T_e5adf_row18_col5\" class=\"data row18 col5\" >0.9803</td>\n",
              "      <td id=\"T_e5adf_row18_col6\" class=\"data row18 col6\" >1.4562</td>\n",
              "      <td id=\"T_e5adf_row18_col7\" class=\"data row18 col7\" >0.1420</td>\n",
              "    </tr>\n",
              "  </tbody>\n",
              "</table>\n"
            ]
          },
          "metadata": {}
        },
        {
          "output_type": "display_data",
          "data": {
            "text/plain": [
              "Processing:   0%|          | 0/81 [00:00<?, ?it/s]"
            ],
            "application/vnd.jupyter.widget-view+json": {
              "version_major": 2,
              "version_minor": 0,
              "model_id": "ece55db8387544a098322cb1415ad305"
            }
          },
          "metadata": {
            "application/vnd.jupyter.widget-view+json": {
              "colab": {
                "custom_widget_manager": {
                  "url": "https://ssl.gstatic.com/colaboratory-static/widgets/colab-cdn-widget-manager/b3e629b1971e1542/manager.min.js"
                }
              }
            }
          }
        },
        {
          "output_type": "display_data",
          "data": {
            "text/plain": [
              "<IPython.core.display.HTML object>"
            ],
            "text/html": []
          },
          "metadata": {}
        }
      ]
    },
    {
      "cell_type": "markdown",
      "source": [
        "More than `15 models` were created, using 10 folds of cross-validation and we evaluated the models based on the 6 most used evaluation metrics `(MAE, MSE, RMSE, R2, RMSLE and MAPE).`\n",
        "\n",
        "The score table printed above highlights the models with the `best results` in the evaluation metrics averages for comparison. By default, the grid is organized from R2 (Highest to lowest)\n",
        "\n"
      ],
      "metadata": {
        "id": "HK-wUsdH5sV6"
      }
    },
    {
      "cell_type": "code",
      "source": [
        "print (\"The best model found by the function was:\", best)"
      ],
      "metadata": {
        "colab": {
          "base_uri": "https://localhost:8080/"
        },
        "id": "KG95pnq625DA",
        "outputId": "55bd1410-99b1-481a-87dd-a6dd1a35265b"
      },
      "execution_count": null,
      "outputs": [
        {
          "output_type": "stream",
          "name": "stdout",
          "text": [
            "The best model found by the function was: GradientBoostingRegressor(random_state=1314)\n"
          ]
        }
      ]
    },
    {
      "cell_type": "markdown",
      "source": [
        "# **Instantiating the Model**\n",
        "\n",
        "The best model found was the `Gradient Boosting Regressor` or GBR.\n",
        "\n",
        "The compare_models() function is very useful and makes the work easier, but it does not return a trained model.\n",
        "\n",
        "Given this, we will use the GBR model and focus on our model."
      ],
      "metadata": {
        "id": "7V9effQA6RJ4"
      }
    },
    {
      "cell_type": "code",
      "source": [
        "gbr = create_model(\"gbr\")"
      ],
      "metadata": {
        "colab": {
          "base_uri": "https://localhost:8080/",
          "height": 457,
          "referenced_widgets": [
            "8750d765caa24f34a7e5eb28bcc9fb12",
            "34f5a07a211f4da1b05f1d0841519f14",
            "a651d7c03e94474bae4f92ad086996c3",
            "1918f96221e14c6fa4573746757bef5c",
            "275523a88dc1406da9343cd8b521e007",
            "c17ec790a43a4dcd82056201f5dff7cc",
            "45132c3ccae64db28e2955d874217316",
            "7eb865c9cddc4f6492de973653cc7090",
            "0e95e4016c9b4f229d98a30a1bfbcc83",
            "faff7fa1bc7e48a489ed8de7955c49b8",
            "f21031331cb14f32a58245dd0392e609"
          ]
        },
        "id": "eKPLI8Sf59If",
        "outputId": "e54477fc-4c15-40ec-d36e-43d4add9cd6a"
      },
      "execution_count": null,
      "outputs": [
        {
          "output_type": "display_data",
          "data": {
            "text/plain": [
              "<IPython.core.display.HTML object>"
            ],
            "text/html": []
          },
          "metadata": {}
        },
        {
          "output_type": "display_data",
          "data": {
            "text/plain": [
              "<pandas.io.formats.style.Styler at 0x7e2024291d50>"
            ],
            "text/html": [
              "<style type=\"text/css\">\n",
              "#T_6f794_row10_col0, #T_6f794_row10_col1, #T_6f794_row10_col2, #T_6f794_row10_col3, #T_6f794_row10_col4, #T_6f794_row10_col5 {\n",
              "  background: yellow;\n",
              "}\n",
              "</style>\n",
              "<table id=\"T_6f794\" class=\"dataframe\">\n",
              "  <thead>\n",
              "    <tr>\n",
              "      <th class=\"blank level0\" >&nbsp;</th>\n",
              "      <th id=\"T_6f794_level0_col0\" class=\"col_heading level0 col0\" >MAE</th>\n",
              "      <th id=\"T_6f794_level0_col1\" class=\"col_heading level0 col1\" >MSE</th>\n",
              "      <th id=\"T_6f794_level0_col2\" class=\"col_heading level0 col2\" >RMSE</th>\n",
              "      <th id=\"T_6f794_level0_col3\" class=\"col_heading level0 col3\" >R2</th>\n",
              "      <th id=\"T_6f794_level0_col4\" class=\"col_heading level0 col4\" >RMSLE</th>\n",
              "      <th id=\"T_6f794_level0_col5\" class=\"col_heading level0 col5\" >MAPE</th>\n",
              "    </tr>\n",
              "    <tr>\n",
              "      <th class=\"index_name level0\" >Fold</th>\n",
              "      <th class=\"blank col0\" >&nbsp;</th>\n",
              "      <th class=\"blank col1\" >&nbsp;</th>\n",
              "      <th class=\"blank col2\" >&nbsp;</th>\n",
              "      <th class=\"blank col3\" >&nbsp;</th>\n",
              "      <th class=\"blank col4\" >&nbsp;</th>\n",
              "      <th class=\"blank col5\" >&nbsp;</th>\n",
              "    </tr>\n",
              "  </thead>\n",
              "  <tbody>\n",
              "    <tr>\n",
              "      <th id=\"T_6f794_level0_row0\" class=\"row_heading level0 row0\" >0</th>\n",
              "      <td id=\"T_6f794_row0_col0\" class=\"data row0 col0\" >2596.0216</td>\n",
              "      <td id=\"T_6f794_row0_col1\" class=\"data row0 col1\" >24046816.2764</td>\n",
              "      <td id=\"T_6f794_row0_col2\" class=\"data row0 col2\" >4903.7553</td>\n",
              "      <td id=\"T_6f794_row0_col3\" class=\"data row0 col3\" >0.8315</td>\n",
              "      <td id=\"T_6f794_row0_col4\" class=\"data row0 col4\" >0.4188</td>\n",
              "      <td id=\"T_6f794_row0_col5\" class=\"data row0 col5\" >0.3022</td>\n",
              "    </tr>\n",
              "    <tr>\n",
              "      <th id=\"T_6f794_level0_row1\" class=\"row_heading level0 row1\" >1</th>\n",
              "      <td id=\"T_6f794_row1_col0\" class=\"data row1 col0\" >3428.5704</td>\n",
              "      <td id=\"T_6f794_row1_col1\" class=\"data row1 col1\" >37375376.3796</td>\n",
              "      <td id=\"T_6f794_row1_col2\" class=\"data row1 col2\" >6113.5404</td>\n",
              "      <td id=\"T_6f794_row1_col3\" class=\"data row1 col3\" >0.7343</td>\n",
              "      <td id=\"T_6f794_row1_col4\" class=\"data row1 col4\" >0.4751</td>\n",
              "      <td id=\"T_6f794_row1_col5\" class=\"data row1 col5\" >0.2629</td>\n",
              "    </tr>\n",
              "    <tr>\n",
              "      <th id=\"T_6f794_level0_row2\" class=\"row_heading level0 row2\" >2</th>\n",
              "      <td id=\"T_6f794_row2_col0\" class=\"data row2 col0\" >2275.6557</td>\n",
              "      <td id=\"T_6f794_row2_col1\" class=\"data row2 col1\" >15038718.3720</td>\n",
              "      <td id=\"T_6f794_row2_col2\" class=\"data row2 col2\" >3877.9786</td>\n",
              "      <td id=\"T_6f794_row2_col3\" class=\"data row2 col3\" >0.8566</td>\n",
              "      <td id=\"T_6f794_row2_col4\" class=\"data row2 col4\" >0.4172</td>\n",
              "      <td id=\"T_6f794_row2_col5\" class=\"data row2 col5\" >0.2885</td>\n",
              "    </tr>\n",
              "    <tr>\n",
              "      <th id=\"T_6f794_level0_row3\" class=\"row_heading level0 row3\" >3</th>\n",
              "      <td id=\"T_6f794_row3_col0\" class=\"data row3 col0\" >2775.4487</td>\n",
              "      <td id=\"T_6f794_row3_col1\" class=\"data row3 col1\" >25491535.2018</td>\n",
              "      <td id=\"T_6f794_row3_col2\" class=\"data row3 col2\" >5048.9143</td>\n",
              "      <td id=\"T_6f794_row3_col3\" class=\"data row3 col3\" >0.8273</td>\n",
              "      <td id=\"T_6f794_row3_col4\" class=\"data row3 col4\" >0.4977</td>\n",
              "      <td id=\"T_6f794_row3_col5\" class=\"data row3 col5\" >0.3749</td>\n",
              "    </tr>\n",
              "    <tr>\n",
              "      <th id=\"T_6f794_level0_row4\" class=\"row_heading level0 row4\" >4</th>\n",
              "      <td id=\"T_6f794_row4_col0\" class=\"data row4 col0\" >2937.4282</td>\n",
              "      <td id=\"T_6f794_row4_col1\" class=\"data row4 col1\" >24928791.5309</td>\n",
              "      <td id=\"T_6f794_row4_col2\" class=\"data row4 col2\" >4992.8741</td>\n",
              "      <td id=\"T_6f794_row4_col3\" class=\"data row4 col3\" >0.8791</td>\n",
              "      <td id=\"T_6f794_row4_col4\" class=\"data row4 col4\" >0.4850</td>\n",
              "      <td id=\"T_6f794_row4_col5\" class=\"data row4 col5\" >0.3212</td>\n",
              "    </tr>\n",
              "    <tr>\n",
              "      <th id=\"T_6f794_level0_row5\" class=\"row_heading level0 row5\" >5</th>\n",
              "      <td id=\"T_6f794_row5_col0\" class=\"data row5 col0\" >2752.1500</td>\n",
              "      <td id=\"T_6f794_row5_col1\" class=\"data row5 col1\" >18324670.1846</td>\n",
              "      <td id=\"T_6f794_row5_col2\" class=\"data row5 col2\" >4280.7324</td>\n",
              "      <td id=\"T_6f794_row5_col3\" class=\"data row5 col3\" >0.8473</td>\n",
              "      <td id=\"T_6f794_row5_col4\" class=\"data row5 col4\" >0.4816</td>\n",
              "      <td id=\"T_6f794_row5_col5\" class=\"data row5 col5\" >0.3616</td>\n",
              "    </tr>\n",
              "    <tr>\n",
              "      <th id=\"T_6f794_level0_row6\" class=\"row_heading level0 row6\" >6</th>\n",
              "      <td id=\"T_6f794_row6_col0\" class=\"data row6 col0\" >2745.1061</td>\n",
              "      <td id=\"T_6f794_row6_col1\" class=\"data row6 col1\" >24875392.9958</td>\n",
              "      <td id=\"T_6f794_row6_col2\" class=\"data row6 col2\" >4987.5237</td>\n",
              "      <td id=\"T_6f794_row6_col3\" class=\"data row6 col3\" >0.7851</td>\n",
              "      <td id=\"T_6f794_row6_col4\" class=\"data row6 col4\" >0.4500</td>\n",
              "      <td id=\"T_6f794_row6_col5\" class=\"data row6 col5\" >0.2903</td>\n",
              "    </tr>\n",
              "    <tr>\n",
              "      <th id=\"T_6f794_level0_row7\" class=\"row_heading level0 row7\" >7</th>\n",
              "      <td id=\"T_6f794_row7_col0\" class=\"data row7 col0\" >2015.6858</td>\n",
              "      <td id=\"T_6f794_row7_col1\" class=\"data row7 col1\" >11038480.1368</td>\n",
              "      <td id=\"T_6f794_row7_col2\" class=\"data row7 col2\" >3322.4208</td>\n",
              "      <td id=\"T_6f794_row7_col3\" class=\"data row7 col3\" >0.9378</td>\n",
              "      <td id=\"T_6f794_row7_col4\" class=\"data row7 col4\" >0.3338</td>\n",
              "      <td id=\"T_6f794_row7_col5\" class=\"data row7 col5\" >0.2479</td>\n",
              "    </tr>\n",
              "    <tr>\n",
              "      <th id=\"T_6f794_level0_row8\" class=\"row_heading level0 row8\" >8</th>\n",
              "      <td id=\"T_6f794_row8_col0\" class=\"data row8 col0\" >1985.8201</td>\n",
              "      <td id=\"T_6f794_row8_col1\" class=\"data row8 col1\" >11447533.3182</td>\n",
              "      <td id=\"T_6f794_row8_col2\" class=\"data row8 col2\" >3383.4204</td>\n",
              "      <td id=\"T_6f794_row8_col3\" class=\"data row8 col3\" >0.8959</td>\n",
              "      <td id=\"T_6f794_row8_col4\" class=\"data row8 col4\" >0.2955</td>\n",
              "      <td id=\"T_6f794_row8_col5\" class=\"data row8 col5\" >0.2095</td>\n",
              "    </tr>\n",
              "    <tr>\n",
              "      <th id=\"T_6f794_level0_row9\" class=\"row_heading level0 row9\" >9</th>\n",
              "      <td id=\"T_6f794_row9_col0\" class=\"data row9 col0\" >2083.0254</td>\n",
              "      <td id=\"T_6f794_row9_col1\" class=\"data row9 col1\" >15766525.4533</td>\n",
              "      <td id=\"T_6f794_row9_col2\" class=\"data row9 col2\" >3970.7084</td>\n",
              "      <td id=\"T_6f794_row9_col3\" class=\"data row9 col3\" >0.8572</td>\n",
              "      <td id=\"T_6f794_row9_col4\" class=\"data row9 col4\" >0.3528</td>\n",
              "      <td id=\"T_6f794_row9_col5\" class=\"data row9 col5\" >0.2571</td>\n",
              "    </tr>\n",
              "    <tr>\n",
              "      <th id=\"T_6f794_level0_row10\" class=\"row_heading level0 row10\" >Mean</th>\n",
              "      <td id=\"T_6f794_row10_col0\" class=\"data row10 col0\" >2559.4912</td>\n",
              "      <td id=\"T_6f794_row10_col1\" class=\"data row10 col1\" >20833383.9849</td>\n",
              "      <td id=\"T_6f794_row10_col2\" class=\"data row10 col2\" >4488.1869</td>\n",
              "      <td id=\"T_6f794_row10_col3\" class=\"data row10 col3\" >0.8452</td>\n",
              "      <td id=\"T_6f794_row10_col4\" class=\"data row10 col4\" >0.4207</td>\n",
              "      <td id=\"T_6f794_row10_col5\" class=\"data row10 col5\" >0.2916</td>\n",
              "    </tr>\n",
              "    <tr>\n",
              "      <th id=\"T_6f794_level0_row11\" class=\"row_heading level0 row11\" >Std</th>\n",
              "      <td id=\"T_6f794_row11_col0\" class=\"data row11 col0\" >441.5974</td>\n",
              "      <td id=\"T_6f794_row11_col1\" class=\"data row11 col1\" >7670406.8735</td>\n",
              "      <td id=\"T_6f794_row11_col2\" class=\"data row11 col2\" >830.3992</td>\n",
              "      <td id=\"T_6f794_row11_col3\" class=\"data row11 col3\" >0.0538</td>\n",
              "      <td id=\"T_6f794_row11_col4\" class=\"data row11 col4\" >0.0674</td>\n",
              "      <td id=\"T_6f794_row11_col5\" class=\"data row11 col5\" >0.0485</td>\n",
              "    </tr>\n",
              "  </tbody>\n",
              "</table>\n"
            ]
          },
          "metadata": {}
        },
        {
          "output_type": "display_data",
          "data": {
            "text/plain": [
              "Processing:   0%|          | 0/4 [00:00<?, ?it/s]"
            ],
            "application/vnd.jupyter.widget-view+json": {
              "version_major": 2,
              "version_minor": 0,
              "model_id": "8750d765caa24f34a7e5eb28bcc9fb12"
            }
          },
          "metadata": {
            "application/vnd.jupyter.widget-view+json": {
              "colab": {
                "custom_widget_manager": {
                  "url": "https://ssl.gstatic.com/colaboratory-static/widgets/colab-cdn-widget-manager/b3e629b1971e1542/manager.min.js"
                }
              }
            }
          }
        },
        {
          "output_type": "display_data",
          "data": {
            "text/plain": [
              "<IPython.core.display.HTML object>"
            ],
            "text/html": []
          },
          "metadata": {}
        }
      ]
    },
    {
      "cell_type": "markdown",
      "source": [
        "\n",
        "Just like in `compare_models`, in `create_model` you can change the number of folds, passing the parameter `create_model('gbr', fold = 5)` to create a GBR with cross validation with `5 folds` for example."
      ],
      "metadata": {
        "id": "Vyn6oCDO6-Pt"
      }
    },
    {
      "cell_type": "markdown",
      "source": [
        "# **Model Tuning**\n",
        "\n",
        "When a model is created using `create_model()` it uses the default hyperparameters for each model. To tune these parameters, we use the `tune_model()` function."
      ],
      "metadata": {
        "id": "69PpTGOV7IsY"
      }
    },
    {
      "cell_type": "code",
      "source": [
        "tuned_gbr = tune_model(gbr, optimize = \"R2\")"
      ],
      "metadata": {
        "colab": {
          "base_uri": "https://localhost:8080/",
          "height": 491,
          "referenced_widgets": [
            "873c632a079541639f5c396c3900435d",
            "64206fd994e046c88680057ab99761c2",
            "363c0494478e4afebbf20375bbf77c4f",
            "9f0de614ee1746bda3f2ca368daf536b",
            "46dff6ed21cc484b851ae80b47d457c1",
            "e66fc9074b374f909db77e706611a9d2",
            "d0268cc8a7c74287af9827dda773010e",
            "437856345a614449b96f16c6a4955b6f",
            "97f7ed93b870452582439f19d13bbf8b",
            "ed9b584eb68a4c55b8b60e7ff36f9dc8",
            "649669968f244fe5ad1ddacd7dcaea24"
          ]
        },
        "id": "at3lcWV-7XHr",
        "outputId": "5e28a883-d06f-4ac2-8f83-8688f3979030"
      },
      "execution_count": null,
      "outputs": [
        {
          "output_type": "display_data",
          "data": {
            "text/plain": [
              "<IPython.core.display.HTML object>"
            ],
            "text/html": []
          },
          "metadata": {}
        },
        {
          "output_type": "display_data",
          "data": {
            "text/plain": [
              "<pandas.io.formats.style.Styler at 0x7e201ec58460>"
            ],
            "text/html": [
              "<style type=\"text/css\">\n",
              "#T_367fe_row10_col0, #T_367fe_row10_col1, #T_367fe_row10_col2, #T_367fe_row10_col3, #T_367fe_row10_col4, #T_367fe_row10_col5 {\n",
              "  background: yellow;\n",
              "}\n",
              "</style>\n",
              "<table id=\"T_367fe\" class=\"dataframe\">\n",
              "  <thead>\n",
              "    <tr>\n",
              "      <th class=\"blank level0\" >&nbsp;</th>\n",
              "      <th id=\"T_367fe_level0_col0\" class=\"col_heading level0 col0\" >MAE</th>\n",
              "      <th id=\"T_367fe_level0_col1\" class=\"col_heading level0 col1\" >MSE</th>\n",
              "      <th id=\"T_367fe_level0_col2\" class=\"col_heading level0 col2\" >RMSE</th>\n",
              "      <th id=\"T_367fe_level0_col3\" class=\"col_heading level0 col3\" >R2</th>\n",
              "      <th id=\"T_367fe_level0_col4\" class=\"col_heading level0 col4\" >RMSLE</th>\n",
              "      <th id=\"T_367fe_level0_col5\" class=\"col_heading level0 col5\" >MAPE</th>\n",
              "    </tr>\n",
              "    <tr>\n",
              "      <th class=\"index_name level0\" >Fold</th>\n",
              "      <th class=\"blank col0\" >&nbsp;</th>\n",
              "      <th class=\"blank col1\" >&nbsp;</th>\n",
              "      <th class=\"blank col2\" >&nbsp;</th>\n",
              "      <th class=\"blank col3\" >&nbsp;</th>\n",
              "      <th class=\"blank col4\" >&nbsp;</th>\n",
              "      <th class=\"blank col5\" >&nbsp;</th>\n",
              "    </tr>\n",
              "  </thead>\n",
              "  <tbody>\n",
              "    <tr>\n",
              "      <th id=\"T_367fe_level0_row0\" class=\"row_heading level0 row0\" >0</th>\n",
              "      <td id=\"T_367fe_row0_col0\" class=\"data row0 col0\" >2713.0657</td>\n",
              "      <td id=\"T_367fe_row0_col1\" class=\"data row0 col1\" >24937744.5872</td>\n",
              "      <td id=\"T_367fe_row0_col2\" class=\"data row0 col2\" >4993.7706</td>\n",
              "      <td id=\"T_367fe_row0_col3\" class=\"data row0 col3\" >0.8253</td>\n",
              "      <td id=\"T_367fe_row0_col4\" class=\"data row0 col4\" >0.4638</td>\n",
              "      <td id=\"T_367fe_row0_col5\" class=\"data row0 col5\" >0.3229</td>\n",
              "    </tr>\n",
              "    <tr>\n",
              "      <th id=\"T_367fe_level0_row1\" class=\"row_heading level0 row1\" >1</th>\n",
              "      <td id=\"T_367fe_row1_col0\" class=\"data row1 col0\" >3540.1042</td>\n",
              "      <td id=\"T_367fe_row1_col1\" class=\"data row1 col1\" >37442349.8888</td>\n",
              "      <td id=\"T_367fe_row1_col2\" class=\"data row1 col2\" >6119.0154</td>\n",
              "      <td id=\"T_367fe_row1_col3\" class=\"data row1 col3\" >0.7339</td>\n",
              "      <td id=\"T_367fe_row1_col4\" class=\"data row1 col4\" >0.5157</td>\n",
              "      <td id=\"T_367fe_row1_col5\" class=\"data row1 col5\" >0.2846</td>\n",
              "    </tr>\n",
              "    <tr>\n",
              "      <th id=\"T_367fe_level0_row2\" class=\"row_heading level0 row2\" >2</th>\n",
              "      <td id=\"T_367fe_row2_col0\" class=\"data row2 col0\" >2737.4676</td>\n",
              "      <td id=\"T_367fe_row2_col1\" class=\"data row2 col1\" >17878414.7245</td>\n",
              "      <td id=\"T_367fe_row2_col2\" class=\"data row2 col2\" >4228.2874</td>\n",
              "      <td id=\"T_367fe_row2_col3\" class=\"data row2 col3\" >0.8296</td>\n",
              "      <td id=\"T_367fe_row2_col4\" class=\"data row2 col4\" >0.6136</td>\n",
              "      <td id=\"T_367fe_row2_col5\" class=\"data row2 col5\" >0.3901</td>\n",
              "    </tr>\n",
              "    <tr>\n",
              "      <th id=\"T_367fe_level0_row3\" class=\"row_heading level0 row3\" >3</th>\n",
              "      <td id=\"T_367fe_row3_col0\" class=\"data row3 col0\" >3113.9206</td>\n",
              "      <td id=\"T_367fe_row3_col1\" class=\"data row3 col1\" >30578600.2350</td>\n",
              "      <td id=\"T_367fe_row3_col2\" class=\"data row3 col2\" >5529.7921</td>\n",
              "      <td id=\"T_367fe_row3_col3\" class=\"data row3 col3\" >0.7928</td>\n",
              "      <td id=\"T_367fe_row3_col4\" class=\"data row3 col4\" >0.6315</td>\n",
              "      <td id=\"T_367fe_row3_col5\" class=\"data row3 col5\" >0.3941</td>\n",
              "    </tr>\n",
              "    <tr>\n",
              "      <th id=\"T_367fe_level0_row4\" class=\"row_heading level0 row4\" >4</th>\n",
              "      <td id=\"T_367fe_row4_col0\" class=\"data row4 col0\" >2997.1765</td>\n",
              "      <td id=\"T_367fe_row4_col1\" class=\"data row4 col1\" >25088997.6483</td>\n",
              "      <td id=\"T_367fe_row4_col2\" class=\"data row4 col2\" >5008.8919</td>\n",
              "      <td id=\"T_367fe_row4_col3\" class=\"data row4 col3\" >0.8783</td>\n",
              "      <td id=\"T_367fe_row4_col4\" class=\"data row4 col4\" >0.5236</td>\n",
              "      <td id=\"T_367fe_row4_col5\" class=\"data row4 col5\" >0.3517</td>\n",
              "    </tr>\n",
              "    <tr>\n",
              "      <th id=\"T_367fe_level0_row5\" class=\"row_heading level0 row5\" >5</th>\n",
              "      <td id=\"T_367fe_row5_col0\" class=\"data row5 col0\" >2832.1608</td>\n",
              "      <td id=\"T_367fe_row5_col1\" class=\"data row5 col1\" >19665015.5424</td>\n",
              "      <td id=\"T_367fe_row5_col2\" class=\"data row5 col2\" >4434.5254</td>\n",
              "      <td id=\"T_367fe_row5_col3\" class=\"data row5 col3\" >0.8361</td>\n",
              "      <td id=\"T_367fe_row5_col4\" class=\"data row5 col4\" >0.4854</td>\n",
              "      <td id=\"T_367fe_row5_col5\" class=\"data row5 col5\" >0.3718</td>\n",
              "    </tr>\n",
              "    <tr>\n",
              "      <th id=\"T_367fe_level0_row6\" class=\"row_heading level0 row6\" >6</th>\n",
              "      <td id=\"T_367fe_row6_col0\" class=\"data row6 col0\" >3054.2042</td>\n",
              "      <td id=\"T_367fe_row6_col1\" class=\"data row6 col1\" >27550860.6636</td>\n",
              "      <td id=\"T_367fe_row6_col2\" class=\"data row6 col2\" >5248.8914</td>\n",
              "      <td id=\"T_367fe_row6_col3\" class=\"data row6 col3\" >0.7620</td>\n",
              "      <td id=\"T_367fe_row6_col4\" class=\"data row6 col4\" >0.5259</td>\n",
              "      <td id=\"T_367fe_row6_col5\" class=\"data row6 col5\" >0.3293</td>\n",
              "    </tr>\n",
              "    <tr>\n",
              "      <th id=\"T_367fe_level0_row7\" class=\"row_heading level0 row7\" >7</th>\n",
              "      <td id=\"T_367fe_row7_col0\" class=\"data row7 col0\" >2454.4512</td>\n",
              "      <td id=\"T_367fe_row7_col1\" class=\"data row7 col1\" >14435248.6139</td>\n",
              "      <td id=\"T_367fe_row7_col2\" class=\"data row7 col2\" >3799.3748</td>\n",
              "      <td id=\"T_367fe_row7_col3\" class=\"data row7 col3\" >0.9187</td>\n",
              "      <td id=\"T_367fe_row7_col4\" class=\"data row7 col4\" >0.4061</td>\n",
              "      <td id=\"T_367fe_row7_col5\" class=\"data row7 col5\" >0.3097</td>\n",
              "    </tr>\n",
              "    <tr>\n",
              "      <th id=\"T_367fe_level0_row8\" class=\"row_heading level0 row8\" >8</th>\n",
              "      <td id=\"T_367fe_row8_col0\" class=\"data row8 col0\" >2295.4860</td>\n",
              "      <td id=\"T_367fe_row8_col1\" class=\"data row8 col1\" >13616045.7121</td>\n",
              "      <td id=\"T_367fe_row8_col2\" class=\"data row8 col2\" >3689.9926</td>\n",
              "      <td id=\"T_367fe_row8_col3\" class=\"data row8 col3\" >0.8762</td>\n",
              "      <td id=\"T_367fe_row8_col4\" class=\"data row8 col4\" >0.4322</td>\n",
              "      <td id=\"T_367fe_row8_col5\" class=\"data row8 col5\" >0.2720</td>\n",
              "    </tr>\n",
              "    <tr>\n",
              "      <th id=\"T_367fe_level0_row9\" class=\"row_heading level0 row9\" >9</th>\n",
              "      <td id=\"T_367fe_row9_col0\" class=\"data row9 col0\" >2556.0941</td>\n",
              "      <td id=\"T_367fe_row9_col1\" class=\"data row9 col1\" >20952085.2935</td>\n",
              "      <td id=\"T_367fe_row9_col2\" class=\"data row9 col2\" >4577.3448</td>\n",
              "      <td id=\"T_367fe_row9_col3\" class=\"data row9 col3\" >0.8102</td>\n",
              "      <td id=\"T_367fe_row9_col4\" class=\"data row9 col4\" >0.4612</td>\n",
              "      <td id=\"T_367fe_row9_col5\" class=\"data row9 col5\" >0.3151</td>\n",
              "    </tr>\n",
              "    <tr>\n",
              "      <th id=\"T_367fe_level0_row10\" class=\"row_heading level0 row10\" >Mean</th>\n",
              "      <td id=\"T_367fe_row10_col0\" class=\"data row10 col0\" >2829.4131</td>\n",
              "      <td id=\"T_367fe_row10_col1\" class=\"data row10 col1\" >23214536.2909</td>\n",
              "      <td id=\"T_367fe_row10_col2\" class=\"data row10 col2\" >4762.9886</td>\n",
              "      <td id=\"T_367fe_row10_col3\" class=\"data row10 col3\" >0.8263</td>\n",
              "      <td id=\"T_367fe_row10_col4\" class=\"data row10 col4\" >0.5059</td>\n",
              "      <td id=\"T_367fe_row10_col5\" class=\"data row10 col5\" >0.3341</td>\n",
              "    </tr>\n",
              "    <tr>\n",
              "      <th id=\"T_367fe_level0_row11\" class=\"row_heading level0 row11\" >Std</th>\n",
              "      <td id=\"T_367fe_row11_col0\" class=\"data row11 col0\" >344.5400</td>\n",
              "      <td id=\"T_367fe_row11_col1\" class=\"data row11 col1\" >7052274.5818</td>\n",
              "      <td id=\"T_367fe_row11_col2\" class=\"data row11 col2\" >726.9632</td>\n",
              "      <td id=\"T_367fe_row11_col3\" class=\"data row11 col3\" >0.0528</td>\n",
              "      <td id=\"T_367fe_row11_col4\" class=\"data row11 col4\" >0.0691</td>\n",
              "      <td id=\"T_367fe_row11_col5\" class=\"data row11 col5\" >0.0398</td>\n",
              "    </tr>\n",
              "  </tbody>\n",
              "</table>\n"
            ]
          },
          "metadata": {}
        },
        {
          "output_type": "display_data",
          "data": {
            "text/plain": [
              "Processing:   0%|          | 0/7 [00:00<?, ?it/s]"
            ],
            "application/vnd.jupyter.widget-view+json": {
              "version_major": 2,
              "version_minor": 0,
              "model_id": "873c632a079541639f5c396c3900435d"
            }
          },
          "metadata": {
            "application/vnd.jupyter.widget-view+json": {
              "colab": {
                "custom_widget_manager": {
                  "url": "https://ssl.gstatic.com/colaboratory-static/widgets/colab-cdn-widget-manager/b3e629b1971e1542/manager.min.js"
                }
              }
            }
          }
        },
        {
          "output_type": "stream",
          "name": "stdout",
          "text": [
            "Fitting 10 folds for each of 10 candidates, totalling 100 fits\n"
          ]
        },
        {
          "output_type": "display_data",
          "data": {
            "text/plain": [
              "<IPython.core.display.HTML object>"
            ],
            "text/html": []
          },
          "metadata": {}
        },
        {
          "output_type": "stream",
          "name": "stdout",
          "text": [
            "Original model was better than the tuned model, hence it will be returned. NOTE: The display metrics are for the tuned model (not the original one).\n"
          ]
        }
      ]
    },
    {
      "cell_type": "code",
      "source": [
        "print(tuned_gbr)"
      ],
      "metadata": {
        "colab": {
          "base_uri": "https://localhost:8080/"
        },
        "id": "3danS5oV7bVC",
        "outputId": "88533e79-835a-4f92-cd38-302107cb8476"
      },
      "execution_count": null,
      "outputs": [
        {
          "output_type": "stream",
          "name": "stdout",
          "text": [
            "GradientBoostingRegressor(random_state=1314)\n"
          ]
        }
      ]
    },
    {
      "cell_type": "markdown",
      "source": [
        "\n",
        "# **Plotting Models**\n",
        "\n",
        "With the `plot_model()` function we will plot visualizations about the performance of our model, such as Residual Plots, Prediction Error, Feature Importance, etc.\n",
        "\n",
        "This function takes the trained model as input and returns a plot based on performance with the chunk of the dataset separated for testing."
      ],
      "metadata": {
        "id": "c4HYn18M7xDe"
      }
    },
    {
      "cell_type": "code",
      "source": [
        "plot_model(tuned_gbr, plot=\"error\")"
      ],
      "metadata": {
        "colab": {
          "base_uri": "https://localhost:8080/",
          "height": 526
        },
        "id": "5Tj7pnLn7ntZ",
        "outputId": "f161a3bd-0e6b-4758-ef1d-3be1de46d52e"
      },
      "execution_count": null,
      "outputs": [
        {
          "output_type": "display_data",
          "data": {
            "text/plain": [
              "<IPython.core.display.HTML object>"
            ],
            "text/html": []
          },
          "metadata": {}
        },
        {
          "output_type": "display_data",
          "data": {
            "text/plain": [
              "<Figure size 800x550 with 1 Axes>"
            ],
            "image/png": "[encoded data removed]"
          },
          "metadata": {}
        }
      ]
    },
    {
      "cell_type": "code",
      "source": [
        "plot_model(tuned_gbr, plot=\"feature\")"
      ],
      "metadata": {
        "colab": {
          "base_uri": "https://localhost:8080/",
          "height": 485
        },
        "id": "YFyvHOGu8EZ-",
        "outputId": "3d8ef799-596f-4f37-dfb1-595e313b28f7"
      },
      "execution_count": null,
      "outputs": [
        {
          "output_type": "display_data",
          "data": {
            "text/plain": [
              "<IPython.core.display.HTML object>"
            ],
            "text/html": []
          },
          "metadata": {}
        },
        {
          "output_type": "display_data",
          "data": {
            "text/plain": [
              "<Figure size 800x500 with 1 Axes>"
            ],
            "image/png": "[encoded data removed]"
          },
          "metadata": {}
        }
      ]
    },
    {
      "cell_type": "code",
      "source": [
        "plot_model(tuned_gbr, plot=\"parameter\")"
      ],
      "metadata": {
        "colab": {
          "base_uri": "https://localhost:8080/",
          "height": 708
        },
        "id": "hlSbQk5j8MxJ",
        "outputId": "0cdb45cb-0092-4fba-caf8-dae996bdaa2b"
      },
      "execution_count": null,
      "outputs": [
        {
          "output_type": "display_data",
          "data": {
            "text/plain": [
              "<IPython.core.display.HTML object>"
            ],
            "text/html": []
          },
          "metadata": {}
        },
        {
          "output_type": "display_data",
          "data": {
            "text/plain": [
              "                             Parameters\n",
              "alpha                               0.9\n",
              "ccp_alpha                           0.0\n",
              "criterion                  friedman_mse\n",
              "init                               None\n",
              "learning_rate                       0.1\n",
              "loss                      squared_error\n",
              "max_depth                             3\n",
              "max_features                       None\n",
              "max_leaf_nodes                     None\n",
              "min_impurity_decrease               0.0\n",
              "min_samples_leaf                      1\n",
              "min_samples_split                     2\n",
              "min_weight_fraction_leaf            0.0\n",
              "n_estimators                        100\n",
              "n_iter_no_change                   None\n",
              "random_state                       1314\n",
              "subsample                           1.0\n",
              "tol                              0.0001\n",
              "validation_fraction                 0.1\n",
              "verbose                               0\n",
              "warm_start                        False"
            ],
            "text/html": [
              "\n",
              "  <div id=\"df-592c244b-da8b-4c7e-b56e-138f36523bb7\" class=\"colab-df-container\">\n",
              "    <div>\n",
              "<style scoped>\n",
              "    .dataframe tbody tr th:only-of-type {\n",
              "        vertical-align: middle;\n",
              "    }\n",
              "\n",
              "    .dataframe tbody tr th {\n",
              "        vertical-align: top;\n",
              "    }\n",
              "\n",
              "    .dataframe thead th {\n",
              "        text-align: right;\n",
              "    }\n",
              "</style>\n",
              "<table border=\"1\" class=\"dataframe\">\n",
              "  <thead>\n",
              "    <tr style=\"text-align: right;\">\n",
              "      <th></th>\n",
              "      <th>Parameters</th>\n",
              "    </tr>\n",
              "  </thead>\n",
              "  <tbody>\n",
              "    <tr>\n",
              "      <th>alpha</th>\n",
              "      <td>0.9</td>\n",
              "    </tr>\n",
              "    <tr>\n",
              "      <th>ccp_alpha</th>\n",
              "      <td>0.0</td>\n",
              "    </tr>\n",
              "    <tr>\n",
              "      <th>criterion</th>\n",
              "      <td>friedman_mse</td>\n",
              "    </tr>\n",
              "    <tr>\n",
              "      <th>init</th>\n",
              "      <td>None</td>\n",
              "    </tr>\n",
              "    <tr>\n",
              "      <th>learning_rate</th>\n",
              "      <td>0.1</td>\n",
              "    </tr>\n",
              "    <tr>\n",
              "      <th>loss</th>\n",
              "      <td>squared_error</td>\n",
              "    </tr>\n",
              "    <tr>\n",
              "      <th>max_depth</th>\n",
              "      <td>3</td>\n",
              "    </tr>\n",
              "    <tr>\n",
              "      <th>max_features</th>\n",
              "      <td>None</td>\n",
              "    </tr>\n",
              "    <tr>\n",
              "      <th>max_leaf_nodes</th>\n",
              "      <td>None</td>\n",
              "    </tr>\n",
              "    <tr>\n",
              "      <th>min_impurity_decrease</th>\n",
              "      <td>0.0</td>\n",
              "    </tr>\n",
              "    <tr>\n",
              "      <th>min_samples_leaf</th>\n",
              "      <td>1</td>\n",
              "    </tr>\n",
              "    <tr>\n",
              "      <th>min_samples_split</th>\n",
              "      <td>2</td>\n",
              "    </tr>\n",
              "    <tr>\n",
              "      <th>min_weight_fraction_leaf</th>\n",
              "      <td>0.0</td>\n",
              "    </tr>\n",
              "    <tr>\n",
              "      <th>n_estimators</th>\n",
              "      <td>100</td>\n",
              "    </tr>\n",
              "    <tr>\n",
              "      <th>n_iter_no_change</th>\n",
              "      <td>None</td>\n",
              "    </tr>\n",
              "    <tr>\n",
              "      <th>random_state</th>\n",
              "      <td>1314</td>\n",
              "    </tr>\n",
              "    <tr>\n",
              "      <th>subsample</th>\n",
              "      <td>1.0</td>\n",
              "    </tr>\n",
              "    <tr>\n",
              "      <th>tol</th>\n",
              "      <td>0.0001</td>\n",
              "    </tr>\n",
              "    <tr>\n",
              "      <th>validation_fraction</th>\n",
              "      <td>0.1</td>\n",
              "    </tr>\n",
              "    <tr>\n",
              "      <th>verbose</th>\n",
              "      <td>0</td>\n",
              "    </tr>\n",
              "    <tr>\n",
              "      <th>warm_start</th>\n",
              "      <td>False</td>\n",
              "    </tr>\n",
              "  </tbody>\n",
              "</table>\n",
              "</div>\n",
              "    <div class=\"colab-df-buttons\">\n",
              "\n",
              "  <div class=\"colab-df-container\">\n",
              "    <button class=\"colab-df-convert\" onclick=\"convertToInteractive('df-592c244b-da8b-4c7e-b56e-138f36523bb7')\"\n",
              "            title=\"Convert this dataframe to an interactive table.\"\n",
              "            style=\"display:none;\">\n",
              "\n",
              "  <svg xmlns=\"http://www.w3.org/2000/svg\" height=\"24px\" viewBox=\"0 -960 960 960\">\n",
              "    <path d=\"M120-120v-720h720v720H120Zm60-500h600v-160H180v160Zm220 220h160v-160H400v160Zm0 220h160v-160H400v160ZM180-400h160v-160H180v160Zm440 0h160v-160H620v160ZM180-180h160v-160H180v160Zm440 0h160v-160H620v160Z\"/>\n",
              "  </svg>\n",
              "    </button>\n",
              "\n",
              "  <style>\n",
              "    .colab-df-container {\n",
              "      display:flex;\n",
              "      gap: 12px;\n",
              "    }\n",
              "\n",
              "    .colab-df-convert {\n",
              "      background-color: #E8F0FE;\n",
              "      border: none;\n",
              "      border-radius: 50%;\n",
              "      cursor: pointer;\n",
              "      display: none;\n",
              "      fill: #1967D2;\n",
              "      height: 32px;\n",
              "      padding: 0 0 0 0;\n",
              "      width: 32px;\n",
              "    }\n",
              "\n",
              "    .colab-df-convert:hover {\n",
              "      background-color: #E2EBFA;\n",
              "      box-shadow: 0px 1px 2px rgba(60, 64, 67, 0.3), 0px 1px 3px 1px rgba(60, 64, 67, 0.15);\n",
              "      fill: #174EA6;\n",
              "    }\n",
              "\n",
              "    .colab-df-buttons div {\n",
              "      margin-bottom: 4px;\n",
              "    }\n",
              "\n",
              "    [theme=dark] .colab-df-convert {\n",
              "      background-color: #3B4455;\n",
              "      fill: #D2E3FC;\n",
              "    }\n",
              "\n",
              "    [theme=dark] .colab-df-convert:hover {\n",
              "      background-color: #434B5C;\n",
              "      box-shadow: 0px 1px 3px 1px rgba(0, 0, 0, 0.15);\n",
              "      filter: drop-shadow(0px 1px 2px rgba(0, 0, 0, 0.3));\n",
              "      fill: #FFFFFF;\n",
              "    }\n",
              "  </style>\n",
              "\n",
              "    <script>\n",
              "      const buttonEl =\n",
              "        document.querySelector('#df-592c244b-da8b-4c7e-b56e-138f36523bb7 button.colab-df-convert');\n",
              "      buttonEl.style.display =\n",
              "        google.colab.kernel.accessAllowed ? 'block' : 'none';\n",
              "\n",
              "      async function convertToInteractive(key) {\n",
              "        const element = document.querySelector('#df-592c244b-da8b-4c7e-b56e-138f36523bb7');\n",
              "        const dataTable =\n",
              "          await google.colab.kernel.invokeFunction('convertToInteractive',\n",
              "                                                    [key], {});\n",
              "        if (!dataTable) return;\n",
              "\n",
              "        const docLinkHtml = 'Like what you see? Visit the ' +\n",
              "          '<a target=\"_blank\" href=https://colab.research.google.com/notebooks/data_table.ipynb>data table notebook</a>'\n",
              "          + ' to learn more about interactive tables.';\n",
              "        element.innerHTML = '';\n",
              "        dataTable['output_type'] = 'display_data';\n",
              "        await google.colab.output.renderOutput(dataTable, element);\n",
              "        const docLink = document.createElement('div');\n",
              "        docLink.innerHTML = docLinkHtml;\n",
              "        element.appendChild(docLink);\n",
              "      }\n",
              "    </script>\n",
              "  </div>\n",
              "\n",
              "\n",
              "<div id=\"df-3c9e0c96-358e-4689-b30a-358368bafd44\">\n",
              "  <button class=\"colab-df-quickchart\" onclick=\"quickchart('df-3c9e0c96-358e-4689-b30a-358368bafd44')\"\n",
              "            title=\"Suggest charts.\"\n",
              "            style=\"display:none;\">\n",
              "\n",
              "<svg xmlns=\"http://www.w3.org/2000/svg\" height=\"24px\"viewBox=\"0 0 24 24\"\n",
              "     width=\"24px\">\n",
              "    <g>\n",
              "        <path d=\"M19 3H5c-1.1 0-2 .9-2 2v14c0 1.1.9 2 2 2h14c1.1 0 2-.9 2-2V5c0-1.1-.9-2-2-2zM9 17H7v-7h2v7zm4 0h-2V7h2v10zm4 0h-2v-4h2v4z\"/>\n",
              "    </g>\n",
              "</svg>\n",
              "  </button>\n",
              "\n",
              "<style>\n",
              "  .colab-df-quickchart {\n",
              "      --bg-color: #E8F0FE;\n",
              "      --fill-color: #1967D2;\n",
              "      --hover-bg-color: #E2EBFA;\n",
              "      --hover-fill-color: #174EA6;\n",
              "      --disabled-fill-color: #AAA;\n",
              "      --disabled-bg-color: #DDD;\n",
              "  }\n",
              "\n",
              "  [theme=dark] .colab-df-quickchart {\n",
              "      --bg-color: #3B4455;\n",
              "      --fill-color: #D2E3FC;\n",
              "      --hover-bg-color: #434B5C;\n",
              "      --hover-fill-color: #FFFFFF;\n",
              "      --disabled-bg-color: #3B4455;\n",
              "      --disabled-fill-color: #666;\n",
              "  }\n",
              "\n",
              "  .colab-df-quickchart {\n",
              "    background-color: var(--bg-color);\n",
              "    border: none;\n",
              "    border-radius: 50%;\n",
              "    cursor: pointer;\n",
              "    display: none;\n",
              "    fill: var(--fill-color);\n",
              "    height: 32px;\n",
              "    padding: 0;\n",
              "    width: 32px;\n",
              "  }\n",
              "\n",
              "  .colab-df-quickchart:hover {\n",
              "    background-color: var(--hover-bg-color);\n",
              "    box-shadow: 0 1px 2px rgba(60, 64, 67, 0.3), 0 1px 3px 1px rgba(60, 64, 67, 0.15);\n",
              "    fill: var(--button-hover-fill-color);\n",
              "  }\n",
              "\n",
              "  .colab-df-quickchart-complete:disabled,\n",
              "  .colab-df-quickchart-complete:disabled:hover {\n",
              "    background-color: var(--disabled-bg-color);\n",
              "    fill: var(--disabled-fill-color);\n",
              "    box-shadow: none;\n",
              "  }\n",
              "\n",
              "  .colab-df-spinner {\n",
              "    border: 2px solid var(--fill-color);\n",
              "    border-color: transparent;\n",
              "    border-bottom-color: var(--fill-color);\n",
              "    animation:\n",
              "      spin 1s steps(1) infinite;\n",
              "  }\n",
              "\n",
              "  @keyframes spin {\n",
              "    0% {\n",
              "      border-color: transparent;\n",
              "      border-bottom-color: var(--fill-color);\n",
              "      border-left-color: var(--fill-color);\n",
              "    }\n",
              "    20% {\n",
              "      border-color: transparent;\n",
              "      border-left-color: var(--fill-color);\n",
              "      border-top-color: var(--fill-color);\n",
              "    }\n",
              "    30% {\n",
              "      border-color: transparent;\n",
              "      border-left-color: var(--fill-color);\n",
              "      border-top-color: var(--fill-color);\n",
              "      border-right-color: var(--fill-color);\n",
              "    }\n",
              "    40% {\n",
              "      border-color: transparent;\n",
              "      border-right-color: var(--fill-color);\n",
              "      border-top-color: var(--fill-color);\n",
              "    }\n",
              "    60% {\n",
              "      border-color: transparent;\n",
              "      border-right-color: var(--fill-color);\n",
              "    }\n",
              "    80% {\n",
              "      border-color: transparent;\n",
              "      border-right-color: var(--fill-color);\n",
              "      border-bottom-color: var(--fill-color);\n",
              "    }\n",
              "    90% {\n",
              "      border-color: transparent;\n",
              "      border-bottom-color: var(--fill-color);\n",
              "    }\n",
              "  }\n",
              "</style>\n",
              "\n",
              "  <script>\n",
              "    async function quickchart(key) {\n",
              "      const quickchartButtonEl =\n",
              "        document.querySelector('#' + key + ' button');\n",
              "      quickchartButtonEl.disabled = true;  // To prevent multiple clicks.\n",
              "      quickchartButtonEl.classList.add('colab-df-spinner');\n",
              "      try {\n",
              "        const charts = await google.colab.kernel.invokeFunction(\n",
              "            'suggestCharts', [key], {});\n",
              "      } catch (error) {\n",
              "        console.error('Error during call to suggestCharts:', error);\n",
              "      }\n",
              "      quickchartButtonEl.classList.remove('colab-df-spinner');\n",
              "      quickchartButtonEl.classList.add('colab-df-quickchart-complete');\n",
              "    }\n",
              "    (() => {\n",
              "      let quickchartButtonEl =\n",
              "        document.querySelector('#df-3c9e0c96-358e-4689-b30a-358368bafd44 button');\n",
              "      quickchartButtonEl.style.display =\n",
              "        google.colab.kernel.accessAllowed ? 'block' : 'none';\n",
              "    })();\n",
              "  </script>\n",
              "</div>\n",
              "    </div>\n",
              "  </div>\n"
            ]
          },
          "metadata": {}
        },
        {
          "output_type": "display_data",
          "data": {
            "text/plain": [
              "<IPython.core.display.HTML object>"
            ],
            "text/html": []
          },
          "metadata": {}
        }
      ]
    },
    {
      "cell_type": "code",
      "source": [
        "plot_model(tuned_gbr, plot=\"learning\")"
      ],
      "metadata": {
        "colab": {
          "base_uri": "https://localhost:8080/",
          "height": 524
        },
        "id": "-5hbWCdv8xTw",
        "outputId": "8d27bd5c-3f4f-4261-c8c9-f46a529e078c"
      },
      "execution_count": null,
      "outputs": [
        {
          "output_type": "display_data",
          "data": {
            "text/plain": [
              "<IPython.core.display.HTML object>"
            ],
            "text/html": []
          },
          "metadata": {}
        },
        {
          "output_type": "display_data",
          "data": {
            "text/plain": [
              "<Figure size 800x550 with 1 Axes>"
            ],
            "image/png": "[encoded data removed]"
          },
          "metadata": {}
        }
      ]
    },
    {
      "cell_type": "code",
      "source": [
        "plot_model(tuned_gbr, plot=\"residuals\")"
      ],
      "metadata": {
        "colab": {
          "base_uri": "https://localhost:8080/",
          "height": 524
        },
        "id": "epafswjt8-X_",
        "outputId": "e03a47ab-3e03-46af-e086-2150fe264d8c"
      },
      "execution_count": null,
      "outputs": [
        {
          "output_type": "display_data",
          "data": {
            "text/plain": [
              "<IPython.core.display.HTML object>"
            ],
            "text/html": []
          },
          "metadata": {}
        },
        {
          "output_type": "display_data",
          "data": {
            "text/plain": [
              "<Figure size 800x550 with 2 Axes>"
            ],
            "image/png": "[encoded data removed]"
          },
          "metadata": {}
        }
      ]
    },
    {
      "cell_type": "markdown",
      "source": [
        "# **Making Predictions**\n",
        "\n",
        "We will do a `final check`, making predictions on the test set and reviewing the evaluation metrics.\n",
        "\n",
        "The objective here is to verify the difference in performance between the results of `cross-validation` and new data."
      ],
      "metadata": {
        "id": "j6Xtfkr39UM1"
      }
    },
    {
      "cell_type": "code",
      "source": [
        "predict_model(tuned_gbr);"
      ],
      "metadata": {
        "colab": {
          "base_uri": "https://localhost:8080/",
          "height": 81
        },
        "id": "ZRFQhQaT9i1t",
        "outputId": "7c8c60f7-8f09-4ce8-b472-9e765a3f6584"
      },
      "execution_count": null,
      "outputs": [
        {
          "output_type": "display_data",
          "data": {
            "text/plain": [
              "<pandas.io.formats.style.Styler at 0x7e201efca950>"
            ],
            "text/html": [
              "<style type=\"text/css\">\n",
              "</style>\n",
              "<table id=\"T_4a25d\" class=\"dataframe\">\n",
              "  <thead>\n",
              "    <tr>\n",
              "      <th class=\"blank level0\" >&nbsp;</th>\n",
              "      <th id=\"T_4a25d_level0_col0\" class=\"col_heading level0 col0\" >Model</th>\n",
              "      <th id=\"T_4a25d_level0_col1\" class=\"col_heading level0 col1\" >MAE</th>\n",
              "      <th id=\"T_4a25d_level0_col2\" class=\"col_heading level0 col2\" >MSE</th>\n",
              "      <th id=\"T_4a25d_level0_col3\" class=\"col_heading level0 col3\" >RMSE</th>\n",
              "      <th id=\"T_4a25d_level0_col4\" class=\"col_heading level0 col4\" >R2</th>\n",
              "      <th id=\"T_4a25d_level0_col5\" class=\"col_heading level0 col5\" >RMSLE</th>\n",
              "      <th id=\"T_4a25d_level0_col6\" class=\"col_heading level0 col6\" >MAPE</th>\n",
              "    </tr>\n",
              "  </thead>\n",
              "  <tbody>\n",
              "    <tr>\n",
              "      <th id=\"T_4a25d_level0_row0\" class=\"row_heading level0 row0\" >0</th>\n",
              "      <td id=\"T_4a25d_row0_col0\" class=\"data row0 col0\" >Gradient Boosting Regressor</td>\n",
              "      <td id=\"T_4a25d_row0_col1\" class=\"data row0 col1\" >2771.1615</td>\n",
              "      <td id=\"T_4a25d_row0_col2\" class=\"data row0 col2\" >25319235.0209</td>\n",
              "      <td id=\"T_4a25d_row0_col3\" class=\"data row0 col3\" >5031.8222</td>\n",
              "      <td id=\"T_4a25d_row0_col4\" class=\"data row0 col4\" >0.8447</td>\n",
              "      <td id=\"T_4a25d_row0_col5\" class=\"data row0 col5\" >0.4306</td>\n",
              "      <td id=\"T_4a25d_row0_col6\" class=\"data row0 col6\" >0.2853</td>\n",
              "    </tr>\n",
              "  </tbody>\n",
              "</table>\n"
            ]
          },
          "metadata": {}
        }
      ]
    },
    {
      "cell_type": "markdown",
      "source": [
        "The R2 on the test set was `0.8447`, compared to `0.8263` in the previous average. This is not a significant difference.\n",
        "\n",
        "If there was a significant difference between these results, it would normally be an indication of `over-fitting`, or factors that would require further investigation. In this case, let's move on to finalizing the model and making predictions on `unseen sets.`\n",
        "\n",
        "**Everything is ready to finalize the model.**"
      ],
      "metadata": {
        "id": "0npGWd91_IeO"
      }
    },
    {
      "cell_type": "markdown",
      "source": [
        "# **Finalizing the Model**\n",
        "\n",
        "Finalizing the model is the last step of our project.\n",
        "\n",
        "The `finalize_model()` function fits the model, including the previously separated test set within PyCaret `(30% in this case)`.\n",
        "\n",
        "The purpose of this is to train the model on the complete dataset before deploying to production."
      ],
      "metadata": {
        "id": "KnwDgasGANLH"
      }
    },
    {
      "cell_type": "code",
      "source": [
        "final_gbr = finalize_model(tuned_gbr)"
      ],
      "metadata": {
        "id": "mVdl2NhXAeGq"
      },
      "execution_count": null,
      "outputs": []
    },
    {
      "cell_type": "markdown",
      "source": [
        "Using the `finalize_model()` function, the entire dataset, including the part that had `previously been separated` for testing, is used for training.\n",
        "\n",
        "Therefore, if the model is used to make predictions on the test set separated by PyCaret after the finalize function has been used, the results will be misleading because you will be making predictions on data **already seen** by the model.\n",
        "\n",
        "To demonstrate this, I will use the finished model with `predict_model()` to compare the results with those we had in the previous part."
      ],
      "metadata": {
        "id": "KXl36GlhA0L8"
      }
    },
    {
      "cell_type": "code",
      "source": [
        "pred_holdout = predict_model(final_gbr)"
      ],
      "metadata": {
        "colab": {
          "base_uri": "https://localhost:8080/",
          "height": 81
        },
        "id": "nDLzmsN0Ah0M",
        "outputId": "d708b248-84dd-4ae4-bbcc-63da6e48f388"
      },
      "execution_count": null,
      "outputs": [
        {
          "output_type": "display_data",
          "data": {
            "text/plain": [
              "<pandas.io.formats.style.Styler at 0x7e201ec5afe0>"
            ],
            "text/html": [
              "<style type=\"text/css\">\n",
              "</style>\n",
              "<table id=\"T_0a155\" class=\"dataframe\">\n",
              "  <thead>\n",
              "    <tr>\n",
              "      <th class=\"blank level0\" >&nbsp;</th>\n",
              "      <th id=\"T_0a155_level0_col0\" class=\"col_heading level0 col0\" >Model</th>\n",
              "      <th id=\"T_0a155_level0_col1\" class=\"col_heading level0 col1\" >MAE</th>\n",
              "      <th id=\"T_0a155_level0_col2\" class=\"col_heading level0 col2\" >MSE</th>\n",
              "      <th id=\"T_0a155_level0_col3\" class=\"col_heading level0 col3\" >RMSE</th>\n",
              "      <th id=\"T_0a155_level0_col4\" class=\"col_heading level0 col4\" >R2</th>\n",
              "      <th id=\"T_0a155_level0_col5\" class=\"col_heading level0 col5\" >RMSLE</th>\n",
              "      <th id=\"T_0a155_level0_col6\" class=\"col_heading level0 col6\" >MAPE</th>\n",
              "    </tr>\n",
              "  </thead>\n",
              "  <tbody>\n",
              "    <tr>\n",
              "      <th id=\"T_0a155_level0_row0\" class=\"row_heading level0 row0\" >0</th>\n",
              "      <td id=\"T_0a155_row0_col0\" class=\"data row0 col0\" >Gradient Boosting Regressor</td>\n",
              "      <td id=\"T_0a155_row0_col1\" class=\"data row0 col1\" >2488.9424</td>\n",
              "      <td id=\"T_0a155_row0_col2\" class=\"data row0 col2\" >20699845.9570</td>\n",
              "      <td id=\"T_0a155_row0_col3\" class=\"data row0 col3\" >4549.7083</td>\n",
              "      <td id=\"T_0a155_row0_col4\" class=\"data row0 col4\" >0.8731</td>\n",
              "      <td id=\"T_0a155_row0_col5\" class=\"data row0 col5\" >0.4008</td>\n",
              "      <td id=\"T_0a155_row0_col6\" class=\"data row0 col6\" >0.2833</td>\n",
              "    </tr>\n",
              "  </tbody>\n",
              "</table>\n"
            ]
          },
          "metadata": {}
        }
      ]
    },
    {
      "cell_type": "code",
      "source": [
        "print(final_gbr)"
      ],
      "metadata": {
        "colab": {
          "base_uri": "https://localhost:8080/"
        },
        "id": "nLEgbrXABB62",
        "outputId": "0a1a73ee-c2fc-4e8b-9d6d-bb8e6d1c859e"
      },
      "execution_count": null,
      "outputs": [
        {
          "output_type": "stream",
          "name": "stdout",
          "text": [
            "Pipeline(memory=Memory(location=None),\n",
            "         steps=[('numerical_imputer',\n",
            "                 TransformerWrapper(include=['age', 'bmi', 'children',\n",
            "                                             'is_smoker', 'has_children'],\n",
            "                                    transformer=SimpleImputer())),\n",
            "                ('categorical_imputer',\n",
            "                 TransformerWrapper(include=['sex', 'smoker', 'region'],\n",
            "                                    transformer=SimpleImputer(strategy='most_frequent'))),\n",
            "                ('ordinal_encoding',\n",
            "                 TransformerWrapper(includ...\n",
            "                                                                        {'col': 'smoker',\n",
            "                                                                         'data_type': dtype('O'),\n",
            "                                                                         'mapping': no     0\n",
            "yes    1\n",
            "NaN   -1\n",
            "dtype: int64}]))),\n",
            "                ('onehot_encoding',\n",
            "                 TransformerWrapper(include=['region'],\n",
            "                                    transformer=OneHotEncoder(cols=['region'],\n",
            "                                                              handle_missing='return_nan',\n",
            "                                                              use_cat_names=True))),\n",
            "                ('normalize', TransformerWrapper(transformer=StandardScaler())),\n",
            "                ('actual_estimator',\n",
            "                 GradientBoostingRegressor(random_state=1314))])\n"
          ]
        }
      ]
    },
    {
      "cell_type": "markdown",
      "source": [
        "# **Predicting on New Data**\n",
        "\n",
        "We will now pass as data the data that has not yet been seen by the model, previously separated, at the beginning of the project.\n",
        "\n",
        "This set contains `10% of the original dataset`. This portion has never been exposed to PyCaret, and is perfect for simulating new real data that will be received by the model in production."
      ],
      "metadata": {
        "id": "k5hw3SJNBMq-"
      }
    },
    {
      "cell_type": "code",
      "source": [
        "unseen_predictions = predict_model(final_gbr, data=test)\n",
        "unseen_predictions.head()"
      ],
      "metadata": {
        "colab": {
          "base_uri": "https://localhost:8080/",
          "height": 269
        },
        "id": "kl2I7rHDBYQy",
        "outputId": "a8b43799-6629-4567-fd71-b1fa419df644"
      },
      "execution_count": null,
      "outputs": [
        {
          "output_type": "display_data",
          "data": {
            "text/plain": [
              "<pandas.io.formats.style.Styler at 0x7e2074240220>"
            ],
            "text/html": [
              "<style type=\"text/css\">\n",
              "</style>\n",
              "<table id=\"T_f11a5\" class=\"dataframe\">\n",
              "  <thead>\n",
              "    <tr>\n",
              "      <th class=\"blank level0\" >&nbsp;</th>\n",
              "      <th id=\"T_f11a5_level0_col0\" class=\"col_heading level0 col0\" >Model</th>\n",
              "      <th id=\"T_f11a5_level0_col1\" class=\"col_heading level0 col1\" >MAE</th>\n",
              "      <th id=\"T_f11a5_level0_col2\" class=\"col_heading level0 col2\" >MSE</th>\n",
              "      <th id=\"T_f11a5_level0_col3\" class=\"col_heading level0 col3\" >RMSE</th>\n",
              "      <th id=\"T_f11a5_level0_col4\" class=\"col_heading level0 col4\" >R2</th>\n",
              "      <th id=\"T_f11a5_level0_col5\" class=\"col_heading level0 col5\" >RMSLE</th>\n",
              "      <th id=\"T_f11a5_level0_col6\" class=\"col_heading level0 col6\" >MAPE</th>\n",
              "    </tr>\n",
              "  </thead>\n",
              "  <tbody>\n",
              "    <tr>\n",
              "      <th id=\"T_f11a5_level0_row0\" class=\"row_heading level0 row0\" >0</th>\n",
              "      <td id=\"T_f11a5_row0_col0\" class=\"data row0 col0\" >Gradient Boosting Regressor</td>\n",
              "      <td id=\"T_f11a5_row0_col1\" class=\"data row0 col1\" >2296.2260</td>\n",
              "      <td id=\"T_f11a5_row0_col2\" class=\"data row0 col2\" >16287684.5529</td>\n",
              "      <td id=\"T_f11a5_row0_col3\" class=\"data row0 col3\" >4035.8004</td>\n",
              "      <td id=\"T_f11a5_row0_col4\" class=\"data row0 col4\" >0.8849</td>\n",
              "      <td id=\"T_f11a5_row0_col5\" class=\"data row0 col5\" >0.4123</td>\n",
              "      <td id=\"T_f11a5_row0_col6\" class=\"data row0 col6\" >0.3279</td>\n",
              "    </tr>\n",
              "  </tbody>\n",
              "</table>\n"
            ]
          },
          "metadata": {}
        },
        {
          "output_type": "execute_result",
          "data": {
            "text/plain": [
              "   age     sex        bmi  children smoker     region  is_smoker  \\\n",
              "0   20  female  30.590000         0     no  northeast          0   \n",
              "1   19    male  25.555000         0     no  northwest          0   \n",
              "2   22    male  26.840000         0     no  southeast          0   \n",
              "3   59    male  41.139999         1    yes  southeast          1   \n",
              "4   49    male  22.514999         0     no  northeast          0   \n",
              "\n",
              "   has_children       charges  prediction_label  \n",
              "0             0   2459.720215       4898.623887  \n",
              "1             0   1632.564453       2021.976012  \n",
              "2             0   1664.999634       2310.733553  \n",
              "3             1  48970.246094      48052.400889  \n",
              "4             0   8688.858398      10149.290082  "
            ],
            "text/html": [
              "\n",
              "  <div id=\"df-607e138a-06fc-4482-ae52-6187a9e5a58e\" class=\"colab-df-container\">\n",
              "    <div>\n",
              "<style scoped>\n",
              "    .dataframe tbody tr th:only-of-type {\n",
              "        vertical-align: middle;\n",
              "    }\n",
              "\n",
              "    .dataframe tbody tr th {\n",
              "        vertical-align: top;\n",
              "    }\n",
              "\n",
              "    .dataframe thead th {\n",
              "        text-align: right;\n",
              "    }\n",
              "</style>\n",
              "<table border=\"1\" class=\"dataframe\">\n",
              "  <thead>\n",
              "    <tr style=\"text-align: right;\">\n",
              "      <th></th>\n",
              "      <th>age</th>\n",
              "      <th>sex</th>\n",
              "      <th>bmi</th>\n",
              "      <th>children</th>\n",
              "      <th>smoker</th>\n",
              "      <th>region</th>\n",
              "      <th>is_smoker</th>\n",
              "      <th>has_children</th>\n",
              "      <th>charges</th>\n",
              "      <th>prediction_label</th>\n",
              "    </tr>\n",
              "  </thead>\n",
              "  <tbody>\n",
              "    <tr>\n",
              "      <th>0</th>\n",
              "      <td>20</td>\n",
              "      <td>female</td>\n",
              "      <td>30.590000</td>\n",
              "      <td>0</td>\n",
              "      <td>no</td>\n",
              "      <td>northeast</td>\n",
              "      <td>0</td>\n",
              "      <td>0</td>\n",
              "      <td>2459.720215</td>\n",
              "      <td>4898.623887</td>\n",
              "    </tr>\n",
              "    <tr>\n",
              "      <th>1</th>\n",
              "      <td>19</td>\n",
              "      <td>male</td>\n",
              "      <td>25.555000</td>\n",
              "      <td>0</td>\n",
              "      <td>no</td>\n",
              "      <td>northwest</td>\n",
              "      <td>0</td>\n",
              "      <td>0</td>\n",
              "      <td>1632.564453</td>\n",
              "      <td>2021.976012</td>\n",
              "    </tr>\n",
              "    <tr>\n",
              "      <th>2</th>\n",
              "      <td>22</td>\n",
              "      <td>male</td>\n",
              "      <td>26.840000</td>\n",
              "      <td>0</td>\n",
              "      <td>no</td>\n",
              "      <td>southeast</td>\n",
              "      <td>0</td>\n",
              "      <td>0</td>\n",
              "      <td>1664.999634</td>\n",
              "      <td>2310.733553</td>\n",
              "    </tr>\n",
              "    <tr>\n",
              "      <th>3</th>\n",
              "      <td>59</td>\n",
              "      <td>male</td>\n",
              "      <td>41.139999</td>\n",
              "      <td>1</td>\n",
              "      <td>yes</td>\n",
              "      <td>southeast</td>\n",
              "      <td>1</td>\n",
              "      <td>1</td>\n",
              "      <td>48970.246094</td>\n",
              "      <td>48052.400889</td>\n",
              "    </tr>\n",
              "    <tr>\n",
              "      <th>4</th>\n",
              "      <td>49</td>\n",
              "      <td>male</td>\n",
              "      <td>22.514999</td>\n",
              "      <td>0</td>\n",
              "      <td>no</td>\n",
              "      <td>northeast</td>\n",
              "      <td>0</td>\n",
              "      <td>0</td>\n",
              "      <td>8688.858398</td>\n",
              "      <td>10149.290082</td>\n",
              "    </tr>\n",
              "  </tbody>\n",
              "</table>\n",
              "</div>\n",
              "    <div class=\"colab-df-buttons\">\n",
              "\n",
              "  <div class=\"colab-df-container\">\n",
              "    <button class=\"colab-df-convert\" onclick=\"convertToInteractive('df-607e138a-06fc-4482-ae52-6187a9e5a58e')\"\n",
              "            title=\"Convert this dataframe to an interactive table.\"\n",
              "            style=\"display:none;\">\n",
              "\n",
              "  <svg xmlns=\"http://www.w3.org/2000/svg\" height=\"24px\" viewBox=\"0 -960 960 960\">\n",
              "    <path d=\"M120-120v-720h720v720H120Zm60-500h600v-160H180v160Zm220 220h160v-160H400v160Zm0 220h160v-160H400v160ZM180-400h160v-160H180v160Zm440 0h160v-160H620v160ZM180-180h160v-160H180v160Zm440 0h160v-160H620v160Z\"/>\n",
              "  </svg>\n",
              "    </button>\n",
              "\n",
              "  <style>\n",
              "    .colab-df-container {\n",
              "      display:flex;\n",
              "      gap: 12px;\n",
              "    }\n",
              "\n",
              "    .colab-df-convert {\n",
              "      background-color: #E8F0FE;\n",
              "      border: none;\n",
              "      border-radius: 50%;\n",
              "      cursor: pointer;\n",
              "      display: none;\n",
              "      fill: #1967D2;\n",
              "      height: 32px;\n",
              "      padding: 0 0 0 0;\n",
              "      width: 32px;\n",
              "    }\n",
              "\n",
              "    .colab-df-convert:hover {\n",
              "      background-color: #E2EBFA;\n",
              "      box-shadow: 0px 1px 2px rgba(60, 64, 67, 0.3), 0px 1px 3px 1px rgba(60, 64, 67, 0.15);\n",
              "      fill: #174EA6;\n",
              "    }\n",
              "\n",
              "    .colab-df-buttons div {\n",
              "      margin-bottom: 4px;\n",
              "    }\n",
              "\n",
              "    [theme=dark] .colab-df-convert {\n",
              "      background-color: #3B4455;\n",
              "      fill: #D2E3FC;\n",
              "    }\n",
              "\n",
              "    [theme=dark] .colab-df-convert:hover {\n",
              "      background-color: #434B5C;\n",
              "      box-shadow: 0px 1px 3px 1px rgba(0, 0, 0, 0.15);\n",
              "      filter: drop-shadow(0px 1px 2px rgba(0, 0, 0, 0.3));\n",
              "      fill: #FFFFFF;\n",
              "    }\n",
              "  </style>\n",
              "\n",
              "    <script>\n",
              "      const buttonEl =\n",
              "        document.querySelector('#df-607e138a-06fc-4482-ae52-6187a9e5a58e button.colab-df-convert');\n",
              "      buttonEl.style.display =\n",
              "        google.colab.kernel.accessAllowed ? 'block' : 'none';\n",
              "\n",
              "      async function convertToInteractive(key) {\n",
              "        const element = document.querySelector('#df-607e138a-06fc-4482-ae52-6187a9e5a58e');\n",
              "        const dataTable =\n",
              "          await google.colab.kernel.invokeFunction('convertToInteractive',\n",
              "                                                    [key], {});\n",
              "        if (!dataTable) return;\n",
              "\n",
              "        const docLinkHtml = 'Like what you see? Visit the ' +\n",
              "          '<a target=\"_blank\" href=https://colab.research.google.com/notebooks/data_table.ipynb>data table notebook</a>'\n",
              "          + ' to learn more about interactive tables.';\n",
              "        element.innerHTML = '';\n",
              "        dataTable['output_type'] = 'display_data';\n",
              "        await google.colab.output.renderOutput(dataTable, element);\n",
              "        const docLink = document.createElement('div');\n",
              "        docLink.innerHTML = docLinkHtml;\n",
              "        element.appendChild(docLink);\n",
              "      }\n",
              "    </script>\n",
              "  </div>\n",
              "\n",
              "\n",
              "<div id=\"df-de573133-58e7-4abf-b381-cc48053d6b60\">\n",
              "  <button class=\"colab-df-quickchart\" onclick=\"quickchart('df-de573133-58e7-4abf-b381-cc48053d6b60')\"\n",
              "            title=\"Suggest charts.\"\n",
              "            style=\"display:none;\">\n",
              "\n",
              "<svg xmlns=\"http://www.w3.org/2000/svg\" height=\"24px\"viewBox=\"0 0 24 24\"\n",
              "     width=\"24px\">\n",
              "    <g>\n",
              "        <path d=\"M19 3H5c-1.1 0-2 .9-2 2v14c0 1.1.9 2 2 2h14c1.1 0 2-.9 2-2V5c0-1.1-.9-2-2-2zM9 17H7v-7h2v7zm4 0h-2V7h2v10zm4 0h-2v-4h2v4z\"/>\n",
              "    </g>\n",
              "</svg>\n",
              "  </button>\n",
              "\n",
              "<style>\n",
              "  .colab-df-quickchart {\n",
              "      --bg-color: #E8F0FE;\n",
              "      --fill-color: #1967D2;\n",
              "      --hover-bg-color: #E2EBFA;\n",
              "      --hover-fill-color: #174EA6;\n",
              "      --disabled-fill-color: #AAA;\n",
              "      --disabled-bg-color: #DDD;\n",
              "  }\n",
              "\n",
              "  [theme=dark] .colab-df-quickchart {\n",
              "      --bg-color: #3B4455;\n",
              "      --fill-color: #D2E3FC;\n",
              "      --hover-bg-color: #434B5C;\n",
              "      --hover-fill-color: #FFFFFF;\n",
              "      --disabled-bg-color: #3B4455;\n",
              "      --disabled-fill-color: #666;\n",
              "  }\n",
              "\n",
              "  .colab-df-quickchart {\n",
              "    background-color: var(--bg-color);\n",
              "    border: none;\n",
              "    border-radius: 50%;\n",
              "    cursor: pointer;\n",
              "    display: none;\n",
              "    fill: var(--fill-color);\n",
              "    height: 32px;\n",
              "    padding: 0;\n",
              "    width: 32px;\n",
              "  }\n",
              "\n",
              "  .colab-df-quickchart:hover {\n",
              "    background-color: var(--hover-bg-color);\n",
              "    box-shadow: 0 1px 2px rgba(60, 64, 67, 0.3), 0 1px 3px 1px rgba(60, 64, 67, 0.15);\n",
              "    fill: var(--button-hover-fill-color);\n",
              "  }\n",
              "\n",
              "  .colab-df-quickchart-complete:disabled,\n",
              "  .colab-df-quickchart-complete:disabled:hover {\n",
              "    background-color: var(--disabled-bg-color);\n",
              "    fill: var(--disabled-fill-color);\n",
              "    box-shadow: none;\n",
              "  }\n",
              "\n",
              "  .colab-df-spinner {\n",
              "    border: 2px solid var(--fill-color);\n",
              "    border-color: transparent;\n",
              "    border-bottom-color: var(--fill-color);\n",
              "    animation:\n",
              "      spin 1s steps(1) infinite;\n",
              "  }\n",
              "\n",
              "  @keyframes spin {\n",
              "    0% {\n",
              "      border-color: transparent;\n",
              "      border-bottom-color: var(--fill-color);\n",
              "      border-left-color: var(--fill-color);\n",
              "    }\n",
              "    20% {\n",
              "      border-color: transparent;\n",
              "      border-left-color: var(--fill-color);\n",
              "      border-top-color: var(--fill-color);\n",
              "    }\n",
              "    30% {\n",
              "      border-color: transparent;\n",
              "      border-left-color: var(--fill-color);\n",
              "      border-top-color: var(--fill-color);\n",
              "      border-right-color: var(--fill-color);\n",
              "    }\n",
              "    40% {\n",
              "      border-color: transparent;\n",
              "      border-right-color: var(--fill-color);\n",
              "      border-top-color: var(--fill-color);\n",
              "    }\n",
              "    60% {\n",
              "      border-color: transparent;\n",
              "      border-right-color: var(--fill-color);\n",
              "    }\n",
              "    80% {\n",
              "      border-color: transparent;\n",
              "      border-right-color: var(--fill-color);\n",
              "      border-bottom-color: var(--fill-color);\n",
              "    }\n",
              "    90% {\n",
              "      border-color: transparent;\n",
              "      border-bottom-color: var(--fill-color);\n",
              "    }\n",
              "  }\n",
              "</style>\n",
              "\n",
              "  <script>\n",
              "    async function quickchart(key) {\n",
              "      const quickchartButtonEl =\n",
              "        document.querySelector('#' + key + ' button');\n",
              "      quickchartButtonEl.disabled = true;  // To prevent multiple clicks.\n",
              "      quickchartButtonEl.classList.add('colab-df-spinner');\n",
              "      try {\n",
              "        const charts = await google.colab.kernel.invokeFunction(\n",
              "            'suggestCharts', [key], {});\n",
              "      } catch (error) {\n",
              "        console.error('Error during call to suggestCharts:', error);\n",
              "      }\n",
              "      quickchartButtonEl.classList.remove('colab-df-spinner');\n",
              "      quickchartButtonEl.classList.add('colab-df-quickchart-complete');\n",
              "    }\n",
              "    (() => {\n",
              "      let quickchartButtonEl =\n",
              "        document.querySelector('#df-de573133-58e7-4abf-b381-cc48053d6b60 button');\n",
              "      quickchartButtonEl.style.display =\n",
              "        google.colab.kernel.accessAllowed ? 'block' : 'none';\n",
              "    })();\n",
              "  </script>\n",
              "</div>\n",
              "    </div>\n",
              "  </div>\n"
            ]
          },
          "metadata": {},
          "execution_count": 42
        }
      ]
    },
    {
      "cell_type": "markdown",
      "source": [
        "The label column is added to the new set.\n",
        "\n",
        "**The Label is the value predicted by the GBR model.**"
      ],
      "metadata": {
        "id": "QCK0g0OaBrPB"
      }
    },
    {
      "cell_type": "markdown",
      "source": [
        "# **Conclusion**\n",
        "\n",
        "We understand that in the context of health insurance, there are variables that will directly affect the costs involved.\n",
        "\n",
        "We also identified that there are some points that are not relevant when dealing with the subject.\n",
        "\n",
        "In the context of our database, information such as region and number of children has no relationship with this `\"charges\"` factor. Even the `BMI`, which is an indicator of health and can indicate a high risk of health problems in the future, if the individual's BMI is very high, it does not imply a major impact on costs.\n",
        "\n",
        "\n",
        "On the other hand, the client's age and, mainly, `whether he is a smoker or not`, weigh heavily when health insurance determines the ideal contract value.\n",
        "\n",
        "\n",
        "We were able to verify this information visually through the plotted graphs and mainly also with the **correlation matrix**, which made the points of interest and irrelevant points clear.\n",
        "\n",
        "<left><img width=\"55%\" src=\"https://images.unsplash.com/photo-1641757625075-d018760a4fb5?ixlib=rb-4.0.3&ixid=M3wxMjA3fDB8MHxwaG90by1wYWdlfHx8fGVufDB8fHx8fA%3D%3D&auto=format&fit=crop&w=1780&q=80\"></left>\n",
        "\n",
        "Using the `PyCaret` library, we use `Auto Machine Learning` to create our model, initially separating training and test data.\n",
        "\n",
        "With the pipeline created, we had the opportunity to compare models automatically and in an agile way, to discover the best model to use, considering the best performance in the **R2 Score**\n",
        "\n",
        "We use the `Gradient Boosting Regressor (GBR)` and also perform the tuning automatically. We were also able to identify, through the feature importance plot, that the greatest weight is given to customers who smoke regularly.\n",
        "\n",
        "After carrying out the exploratory and model analyses, we performed predictions with a good level of accuracy, reaching 0.8849 on data that had not been seen previously.\n",
        "\n",
        "Where for example we can:\n",
        "\n",
        "* **Real - 48970.246094**\n",
        "\n",
        "* **Predicted - 48052.400889**\n",
        "\n",
        "* **Real - 1632.564453**\n",
        "\n",
        "* **Predicted - 2021.976012**\n",
        "\n",
        "It was possible to observe the power of Auto Machine Learning, and how it becomes a useful and optimizing tool for data scientists and analysts.\n",
        "\n",
        "There are many other points to address in relation to this topic, but with this project it is now possible to have a starting point with PyCaret and Auto Machine Learning, as well as exploring the library to create even more complex work."
      ],
      "metadata": {
        "id": "8yE3YlU4By37"
      }
    }
  ]
}